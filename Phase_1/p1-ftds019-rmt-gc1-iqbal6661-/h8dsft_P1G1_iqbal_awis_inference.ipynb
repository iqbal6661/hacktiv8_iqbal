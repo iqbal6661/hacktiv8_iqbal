{
 "cells": [
  {
   "cell_type": "code",
   "execution_count": 20,
   "metadata": {},
   "outputs": [],
   "source": [
    "import json\n",
    "import pickle , joblib\n",
    "import pandas as pd\n",
    "import numpy as np"
   ]
  },
  {
   "cell_type": "code",
   "execution_count": 17,
   "metadata": {},
   "outputs": [],
   "source": [
    "# Modeling \n",
    "#Load file model.pkl\n",
    "with open('C:\\\\Users\\\\maddi\\\\OneDrive\\\\Documents\\\\batch19\\\\gc1p1\\\\model_lin_reg.pkl', 'rb') as file_1:\n",
    "    model_lin_reg=joblib.load(file_1)\n",
    "with open('C:\\\\Users\\\\maddi\\\\OneDrive\\\\Documents\\\\batch19\\\\gc1p1\\\\model_scaler.pkl', 'rb') as file_2:\n",
    "    model_scaler=joblib.load(file_2)\n",
    "with open('C:\\\\Users\\\\maddi\\\\OneDrive\\\\Documents\\\\batch19\\\\gc1p1\\\\model_encoder_ord.pkl', 'rb') as file_3:\n",
    "    model_encoder_ord=joblib.load(file_3)\n",
    "with open('C:\\\\Users\\\\maddi\\\\OneDrive\\\\Documents\\\\batch19\\\\gc1p1\\\\model_encoder_ohe.pkl', 'rb') as file_4:\n",
    "    model_encoder_ohe=joblib.load(file_4)\n",
    "\n",
    "\n",
    "with open('C:\\\\Users\\\\maddi\\\\OneDrive\\\\Documents\\\\batch19\\\\gc1p1\\\\list_num_cols.txt', 'r') as file_5:\n",
    "    list_num_cols=json.load(file_5)\n",
    "with open('C:\\\\Users\\\\maddi\\\\OneDrive\\\\Documents\\\\batch19\\\\gc1p1\\\\list_cat_cols.txt', 'r') as file_6:\n",
    "    list_cat_cols=json.load(file_6)"
   ]
  },
  {
   "cell_type": "code",
   "execution_count": 39,
   "metadata": {},
   "outputs": [
    {
     "data": {
      "text/html": [
       "<div>\n",
       "<style scoped>\n",
       "    .dataframe tbody tr th:only-of-type {\n",
       "        vertical-align: middle;\n",
       "    }\n",
       "\n",
       "    .dataframe tbody tr th {\n",
       "        vertical-align: top;\n",
       "    }\n",
       "\n",
       "    .dataframe thead th {\n",
       "        text-align: right;\n",
       "    }\n",
       "</style>\n",
       "<table border=\"1\" class=\"dataframe\">\n",
       "  <thead>\n",
       "    <tr style=\"text-align: right;\">\n",
       "      <th></th>\n",
       "      <th>Unnamed: 0</th>\n",
       "      <th>cab_type</th>\n",
       "      <th>name</th>\n",
       "      <th>distance</th>\n",
       "      <th>surge_multiplier</th>\n",
       "      <th>short_summary</th>\n",
       "    </tr>\n",
       "  </thead>\n",
       "  <tbody>\n",
       "    <tr>\n",
       "      <th>0</th>\n",
       "      <td>0</td>\n",
       "      <td>Lyft</td>\n",
       "      <td>Reguler</td>\n",
       "      <td>0.44</td>\n",
       "      <td>1.0</td>\n",
       "      <td>Cloudy</td>\n",
       "    </tr>\n",
       "    <tr>\n",
       "      <th>1</th>\n",
       "      <td>1</td>\n",
       "      <td>Lyft</td>\n",
       "      <td>Medium</td>\n",
       "      <td>0.44</td>\n",
       "      <td>1.0</td>\n",
       "      <td>Rain</td>\n",
       "    </tr>\n",
       "    <tr>\n",
       "      <th>2</th>\n",
       "      <td>2</td>\n",
       "      <td>Uber</td>\n",
       "      <td>Medium</td>\n",
       "      <td>5.00</td>\n",
       "      <td>1.0</td>\n",
       "      <td>Cloudy</td>\n",
       "    </tr>\n",
       "  </tbody>\n",
       "</table>\n",
       "</div>"
      ],
      "text/plain": [
       "   Unnamed: 0 cab_type     name  distance  surge_multiplier short_summary\n",
       "0           0     Lyft  Reguler      0.44               1.0        Cloudy\n",
       "1           1     Lyft   Medium      0.44               1.0          Rain\n",
       "2           2     Uber   Medium      5.00               1.0        Cloudy"
      ]
     },
     "execution_count": 39,
     "metadata": {},
     "output_type": "execute_result"
    }
   ],
   "source": [
    "df_inf1=pd.read_csv('inference.csv')\n",
    "df_inf1"
   ]
  },
  {
   "cell_type": "code",
   "execution_count": 41,
   "metadata": {},
   "outputs": [
    {
     "data": {
      "text/html": [
       "<div>\n",
       "<style scoped>\n",
       "    .dataframe tbody tr th:only-of-type {\n",
       "        vertical-align: middle;\n",
       "    }\n",
       "\n",
       "    .dataframe tbody tr th {\n",
       "        vertical-align: top;\n",
       "    }\n",
       "\n",
       "    .dataframe thead th {\n",
       "        text-align: right;\n",
       "    }\n",
       "</style>\n",
       "<table border=\"1\" class=\"dataframe\">\n",
       "  <thead>\n",
       "    <tr style=\"text-align: right;\">\n",
       "      <th></th>\n",
       "      <th>cab_type</th>\n",
       "      <th>name</th>\n",
       "      <th>distance</th>\n",
       "      <th>surge_multiplier</th>\n",
       "      <th>short_summary</th>\n",
       "    </tr>\n",
       "  </thead>\n",
       "  <tbody>\n",
       "    <tr>\n",
       "      <th>0</th>\n",
       "      <td>Lyft</td>\n",
       "      <td>Reguler</td>\n",
       "      <td>0.44</td>\n",
       "      <td>1.0</td>\n",
       "      <td>Cloudy</td>\n",
       "    </tr>\n",
       "    <tr>\n",
       "      <th>1</th>\n",
       "      <td>Lyft</td>\n",
       "      <td>Medium</td>\n",
       "      <td>0.44</td>\n",
       "      <td>1.0</td>\n",
       "      <td>Rain</td>\n",
       "    </tr>\n",
       "    <tr>\n",
       "      <th>2</th>\n",
       "      <td>Uber</td>\n",
       "      <td>Medium</td>\n",
       "      <td>5.00</td>\n",
       "      <td>1.0</td>\n",
       "      <td>Cloudy</td>\n",
       "    </tr>\n",
       "  </tbody>\n",
       "</table>\n",
       "</div>"
      ],
      "text/plain": [
       "  cab_type     name  distance  surge_multiplier short_summary\n",
       "0     Lyft  Reguler      0.44               1.0        Cloudy\n",
       "1     Lyft   Medium      0.44               1.0          Rain\n",
       "2     Uber   Medium      5.00               1.0        Cloudy"
      ]
     },
     "execution_count": 41,
     "metadata": {},
     "output_type": "execute_result"
    }
   ],
   "source": [
    "df_inf=df_inf1.drop(['Unnamed: 0'] , axis=1)\n",
    "df_inf"
   ]
  },
  {
   "cell_type": "code",
   "execution_count": 42,
   "metadata": {},
   "outputs": [],
   "source": [
    "df_inf['name'] = np.where(df_inf['name'].str.contains('Black'), 'VIP', df_inf['name'])\n",
    "df_inf['name'] = np.where(df_inf['name'].str.contains('Black SUV'), 'VIP', df_inf['name'])\n",
    "df_inf['name'] = np.where(df_inf['name'].str.contains('Lux Black XL'), 'VIP', df_inf['name'])\n",
    "df_inf['name'] = np.where(df_inf['name'].str.contains('Lux Black'), 'VIP', df_inf['name'])"
   ]
  },
  {
   "cell_type": "code",
   "execution_count": 43,
   "metadata": {},
   "outputs": [],
   "source": [
    "# Medium\n",
    "df_inf['name'] = np.where(df_inf['name'].str.contains('Lyft XL'), 'Medium', df_inf['name'])\n",
    "df_inf['name'] = np.where(df_inf['name'].str.contains('Lux'), 'Medium', df_inf['name'])\n",
    "df_inf['name'] = np.where(df_inf['name'].str.contains('UberXL'), 'Medium', df_inf['name'])"
   ]
  },
  {
   "cell_type": "code",
   "execution_count": 44,
   "metadata": {},
   "outputs": [],
   "source": [
    "# Reguler\n",
    "df_inf['name'] = np.where(df_inf['name'].str.contains('Shared'), 'Reguler', df_inf['name'])\n",
    "df_inf['name'] = np.where(df_inf['name'].str.contains('Lyft'), 'Reguler', df_inf['name'])\n",
    "df_inf['name'] = np.where(df_inf['name'].str.contains('UberX'), 'Reguler', df_inf['name'])\n",
    "df_inf['name'] = np.where(df_inf['name'].str.contains('WAV'), 'Reguler', df_inf['name'])\n",
    "df_inf['name'] = np.where(df_inf['name'].str.contains('UberPool'), 'Reguler', df_inf['name'])"
   ]
  },
  {
   "cell_type": "code",
   "execution_count": 45,
   "metadata": {},
   "outputs": [],
   "source": [
    "#Handling cardinality kolom short_summart menjadi 4 catagory\n",
    "\n",
    "# Cloudy\n",
    "df_inf['short_summary'] = np.where(df_inf['short_summary'].str.contains('Cloudy'), 'Cloudy', df_inf['short_summary'])\n",
    "df_inf['short_summary'] = np.where(df_inf['short_summary'].str.contains('Overcast'), 'Cloudy', df_inf['short_summary'])\n",
    "\n",
    "# Rain\n",
    "df_inf['short_summary'] = np.where(df_inf['short_summary'].str.contains('Rain'), 'Rain', df_inf['short_summary'])\n",
    "df_inf['short_summary'] = np.where(df_inf['short_summary'].str.contains('Drizzle'), 'Rain', df_inf['short_summary'])"
   ]
  },
  {
   "cell_type": "code",
   "execution_count": 46,
   "metadata": {},
   "outputs": [
    {
     "data": {
      "text/html": [
       "<div>\n",
       "<style scoped>\n",
       "    .dataframe tbody tr th:only-of-type {\n",
       "        vertical-align: middle;\n",
       "    }\n",
       "\n",
       "    .dataframe tbody tr th {\n",
       "        vertical-align: top;\n",
       "    }\n",
       "\n",
       "    .dataframe thead th {\n",
       "        text-align: right;\n",
       "    }\n",
       "</style>\n",
       "<table border=\"1\" class=\"dataframe\">\n",
       "  <thead>\n",
       "    <tr style=\"text-align: right;\">\n",
       "      <th></th>\n",
       "      <th>cab_type</th>\n",
       "      <th>name</th>\n",
       "      <th>distance</th>\n",
       "      <th>surge_multiplier</th>\n",
       "      <th>short_summary</th>\n",
       "    </tr>\n",
       "  </thead>\n",
       "  <tbody>\n",
       "    <tr>\n",
       "      <th>0</th>\n",
       "      <td>Lyft</td>\n",
       "      <td>Reguler</td>\n",
       "      <td>0.44</td>\n",
       "      <td>1.0</td>\n",
       "      <td>Cloudy</td>\n",
       "    </tr>\n",
       "    <tr>\n",
       "      <th>1</th>\n",
       "      <td>Lyft</td>\n",
       "      <td>Medium</td>\n",
       "      <td>0.44</td>\n",
       "      <td>1.0</td>\n",
       "      <td>Rain</td>\n",
       "    </tr>\n",
       "    <tr>\n",
       "      <th>2</th>\n",
       "      <td>Uber</td>\n",
       "      <td>Medium</td>\n",
       "      <td>5.00</td>\n",
       "      <td>1.0</td>\n",
       "      <td>Cloudy</td>\n",
       "    </tr>\n",
       "  </tbody>\n",
       "</table>\n",
       "</div>"
      ],
      "text/plain": [
       "  cab_type     name  distance  surge_multiplier short_summary\n",
       "0     Lyft  Reguler      0.44               1.0        Cloudy\n",
       "1     Lyft   Medium      0.44               1.0          Rain\n",
       "2     Uber   Medium      5.00               1.0        Cloudy"
      ]
     },
     "execution_count": 46,
     "metadata": {},
     "output_type": "execute_result"
    }
   ],
   "source": [
    "df_inf"
   ]
  },
  {
   "cell_type": "markdown",
   "metadata": {},
   "source": []
  },
  {
   "cell_type": "code",
   "execution_count": 48,
   "metadata": {},
   "outputs": [
    {
     "data": {
      "text/html": [
       "<div>\n",
       "<style scoped>\n",
       "    .dataframe tbody tr th:only-of-type {\n",
       "        vertical-align: middle;\n",
       "    }\n",
       "\n",
       "    .dataframe tbody tr th {\n",
       "        vertical-align: top;\n",
       "    }\n",
       "\n",
       "    .dataframe thead th {\n",
       "        text-align: right;\n",
       "    }\n",
       "</style>\n",
       "<table border=\"1\" class=\"dataframe\">\n",
       "  <thead>\n",
       "    <tr style=\"text-align: right;\">\n",
       "      <th></th>\n",
       "      <th>distance</th>\n",
       "      <th>surge_multiplier</th>\n",
       "    </tr>\n",
       "  </thead>\n",
       "  <tbody>\n",
       "    <tr>\n",
       "      <th>0</th>\n",
       "      <td>0.44</td>\n",
       "      <td>1.0</td>\n",
       "    </tr>\n",
       "    <tr>\n",
       "      <th>1</th>\n",
       "      <td>0.44</td>\n",
       "      <td>1.0</td>\n",
       "    </tr>\n",
       "    <tr>\n",
       "      <th>2</th>\n",
       "      <td>5.00</td>\n",
       "      <td>1.0</td>\n",
       "    </tr>\n",
       "  </tbody>\n",
       "</table>\n",
       "</div>"
      ],
      "text/plain": [
       "   distance  surge_multiplier\n",
       "0      0.44               1.0\n",
       "1      0.44               1.0\n",
       "2      5.00               1.0"
      ]
     },
     "execution_count": 48,
     "metadata": {},
     "output_type": "execute_result"
    }
   ],
   "source": [
    "#Split num colums\n",
    "data_inf_num = df_inf[['distance', 'surge_multiplier']]\n",
    "data_inf_num"
   ]
  },
  {
   "cell_type": "code",
   "execution_count": 49,
   "metadata": {},
   "outputs": [
    {
     "data": {
      "text/html": [
       "<div>\n",
       "<style scoped>\n",
       "    .dataframe tbody tr th:only-of-type {\n",
       "        vertical-align: middle;\n",
       "    }\n",
       "\n",
       "    .dataframe tbody tr th {\n",
       "        vertical-align: top;\n",
       "    }\n",
       "\n",
       "    .dataframe thead th {\n",
       "        text-align: right;\n",
       "    }\n",
       "</style>\n",
       "<table border=\"1\" class=\"dataframe\">\n",
       "  <thead>\n",
       "    <tr style=\"text-align: right;\">\n",
       "      <th></th>\n",
       "      <th>name</th>\n",
       "      <th>short_summary</th>\n",
       "    </tr>\n",
       "  </thead>\n",
       "  <tbody>\n",
       "    <tr>\n",
       "      <th>0</th>\n",
       "      <td>Reguler</td>\n",
       "      <td>Cloudy</td>\n",
       "    </tr>\n",
       "    <tr>\n",
       "      <th>1</th>\n",
       "      <td>Medium</td>\n",
       "      <td>Rain</td>\n",
       "    </tr>\n",
       "    <tr>\n",
       "      <th>2</th>\n",
       "      <td>Medium</td>\n",
       "      <td>Cloudy</td>\n",
       "    </tr>\n",
       "  </tbody>\n",
       "</table>\n",
       "</div>"
      ],
      "text/plain": [
       "      name short_summary\n",
       "0  Reguler        Cloudy\n",
       "1   Medium          Rain\n",
       "2   Medium        Cloudy"
      ]
     },
     "execution_count": 49,
     "metadata": {},
     "output_type": "execute_result"
    }
   ],
   "source": [
    "#Split Cat colums\n",
    "data_inf_cat_ord=df_inf[['name', 'short_summary']]\n",
    "data_inf_cat_ord\n"
   ]
  },
  {
   "cell_type": "code",
   "execution_count": 50,
   "metadata": {},
   "outputs": [
    {
     "data": {
      "text/html": [
       "<div>\n",
       "<style scoped>\n",
       "    .dataframe tbody tr th:only-of-type {\n",
       "        vertical-align: middle;\n",
       "    }\n",
       "\n",
       "    .dataframe tbody tr th {\n",
       "        vertical-align: top;\n",
       "    }\n",
       "\n",
       "    .dataframe thead th {\n",
       "        text-align: right;\n",
       "    }\n",
       "</style>\n",
       "<table border=\"1\" class=\"dataframe\">\n",
       "  <thead>\n",
       "    <tr style=\"text-align: right;\">\n",
       "      <th></th>\n",
       "      <th>cab_type</th>\n",
       "    </tr>\n",
       "  </thead>\n",
       "  <tbody>\n",
       "    <tr>\n",
       "      <th>0</th>\n",
       "      <td>Lyft</td>\n",
       "    </tr>\n",
       "    <tr>\n",
       "      <th>1</th>\n",
       "      <td>Lyft</td>\n",
       "    </tr>\n",
       "    <tr>\n",
       "      <th>2</th>\n",
       "      <td>Uber</td>\n",
       "    </tr>\n",
       "  </tbody>\n",
       "</table>\n",
       "</div>"
      ],
      "text/plain": [
       "  cab_type\n",
       "0     Lyft\n",
       "1     Lyft\n",
       "2     Uber"
      ]
     },
     "execution_count": 50,
     "metadata": {},
     "output_type": "execute_result"
    }
   ],
   "source": [
    "data_inf_cat_ohe=df_inf[['cab_type']]\n",
    "data_inf_cat_ohe"
   ]
  },
  {
   "cell_type": "code",
   "execution_count": 51,
   "metadata": {},
   "outputs": [],
   "source": [
    "data_inf_num_scaled=model_scaler.transform(data_inf_num)\n",
    "data_inf_cat_ord=model_encoder_ord.transform(data_inf_cat_ord)\n",
    "data_inf_cat_ohe=model_encoder_ohe.transform(data_inf_cat_ohe)\n",
    "data_inf_final=np.concatenate([data_inf_num_scaled, data_inf_cat_ord, data_inf_cat_ohe] , axis=1) "
   ]
  },
  {
   "cell_type": "code",
   "execution_count": 52,
   "metadata": {},
   "outputs": [
    {
     "data": {
      "text/plain": [
       "array([[0.05357143, 0.        , 0.        , 1.        , 1.        ,\n",
       "        0.        ],\n",
       "       [0.05357143, 0.        , 1.        , 2.        , 1.        ,\n",
       "        0.        ],\n",
       "       [0.63520408, 0.        , 1.        , 1.        , 0.        ,\n",
       "        1.        ]])"
      ]
     },
     "execution_count": 52,
     "metadata": {},
     "output_type": "execute_result"
    }
   ],
   "source": [
    "data_inf_final"
   ]
  },
  {
   "cell_type": "code",
   "execution_count": 53,
   "metadata": {},
   "outputs": [
    {
     "name": "stderr",
     "output_type": "stream",
     "text": [
      "c:\\Users\\maddi\\anaconda3\\lib\\site-packages\\sklearn\\base.py:420: UserWarning: X does not have valid feature names, but LinearRegression was fitted with feature names\n",
      "  warnings.warn(\n"
     ]
    },
    {
     "data": {
      "text/plain": [
       "array([24.80931493, 24.80931493, 45.74459623])"
      ]
     },
     "execution_count": 53,
     "metadata": {},
     "output_type": "execute_result"
    }
   ],
   "source": [
    "model_lin_reg.predict(data_inf_final)"
   ]
  },
  {
   "cell_type": "code",
   "execution_count": 55,
   "metadata": {},
   "outputs": [
    {
     "name": "stdout",
     "output_type": "stream",
     "text": [
      "Intercept :  2.2300259956326585\n",
      "Slope :  8.727575742269794\n"
     ]
    }
   ],
   "source": [
    "\n",
    "print('Intercept : ', model_lin_reg.intercept_)\n",
    "print('Slope : ', model_lin_reg.coef_[0])"
   ]
  },
  {
   "attachments": {},
   "cell_type": "markdown",
   "metadata": {},
   "source": [
    "1. Sebutkan dan jelaskan asumsi yang dipakai oleh Linear Regression !\n",
    "    * Linear Regression adalah suatu algoritma yang digunakan untuk memprediksi data yang bersifat regresi, karena kita akan memprediksi data `price` yang bertipe numerikal maka `Linear Regression` adalah algortima yang tepat\n",
    "\n",
    "2. Tunjukkan dan tafsirkan arti dari slope dan intercept yang didapat dari model yang telah Anda bangun !\n",
    "    * intercept sebesar 2,23 merepresentasikan nilai prediksi y ketika x sama dengan nol, dan slope sebesar 8,73 merepresentasikan laju perubahan nilai prediksi y untuk setiap perubahan satu unit di x."
   ]
  }
 ],
 "metadata": {
  "kernelspec": {
   "display_name": "base",
   "language": "python",
   "name": "python3"
  },
  "language_info": {
   "codemirror_mode": {
    "name": "ipython",
    "version": 3
   },
   "file_extension": ".py",
   "mimetype": "text/x-python",
   "name": "python",
   "nbconvert_exporter": "python",
   "pygments_lexer": "ipython3",
   "version": "3.10.9"
  },
  "orig_nbformat": 4
 },
 "nbformat": 4,
 "nbformat_minor": 2
}
