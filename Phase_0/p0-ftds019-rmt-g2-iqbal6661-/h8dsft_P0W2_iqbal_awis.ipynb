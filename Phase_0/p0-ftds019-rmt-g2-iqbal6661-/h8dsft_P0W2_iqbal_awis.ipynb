{
 "cells": [
  {
   "attachments": {},
   "cell_type": "markdown",
   "metadata": {},
   "source": [
    "# Hacktiv 8 FTDS"
   ]
  },
  {
   "attachments": {},
   "cell_type": "markdown",
   "metadata": {},
   "source": [
    "## i. Perkenalan"
   ]
  },
  {
   "attachments": {},
   "cell_type": "markdown",
   "metadata": {},
   "source": [
    "\n",
    "\n",
    "GC2 : \n",
    "\n",
    "*   Nama : Iqbal Awis N.\n",
    "*   Batch: RMT-19\n",
    "\n",
    "Latar Belakang Permasalahan : \n",
    "saya adalah anggota tim Data Science di Austin Smart City dan sedang mengerjakan projek analisa sistem pembuangan dan pengelolaan sampah di kota tersebut. Sebagai anggota team, berdasarkan data yang tersedia, saya akan menganalisa menggunakan statistika deskriptif dan inferensial, serta memberikan insight kepada pemerintah Austin mengenai kondisi sistem pembuangan dan pengelolaan sampah.\n",
    "\n",
    "Problem statement : \n",
    "\n",
    "memberikan insight pada pemerintah kota terkait pembuangan dan pengelolaan sampah di kota Austin\n",
    "\n",
    "\n",
    "\n",
    "\n",
    "\n",
    "\n",
    "\n",
    "\n"
   ]
  },
  {
   "attachments": {},
   "cell_type": "markdown",
   "metadata": {},
   "source": [
    "## ii. Import Pustaka yang dibutuhkan"
   ]
  },
  {
   "cell_type": "code",
   "execution_count": 1,
   "metadata": {},
   "outputs": [],
   "source": [
    "import pandas as pd\n",
    "import numpy as np\n",
    "import matplotlib\n",
    "import matplotlib.pyplot as plt\n",
    "import seaborn as sns\n",
    "import scipy.stats as stats\n",
    "from scipy.stats  import ttest_1samp\n"
   ]
  },
  {
   "attachments": {},
   "cell_type": "markdown",
   "metadata": {},
   "source": [
    "**import pandas as pd** ini perintah untuk meload library pandas\n",
    "\n",
    "---\n",
    "\n",
    "**import matplotlib.pyplot as plt** perintah ini untuk meload library matplotlib untuk melakukan visualisasi"
   ]
  },
  {
   "attachments": {},
   "cell_type": "markdown",
   "metadata": {},
   "source": [
    "## iii. Data loading"
   ]
  },
  {
   "attachments": {},
   "cell_type": "markdown",
   "metadata": {},
   "source": [
    "### SQL Query"
   ]
  },
  {
   "attachments": {},
   "cell_type": "markdown",
   "metadata": {},
   "source": [
    "SELECT report_date, load_time, load_type, load_weight, dropoff_site\n",
    "FROM `bigquery-public-data.austin_waste.waste_and_diversion`\n",
    "WHERE report_date >= '2021-01-01' AND report_date <= '2021-07-09'\n",
    "\n"
   ]
  },
  {
   "attachments": {},
   "cell_type": "markdown",
   "metadata": {},
   "source": [
    "Perintah tersebut akan memanggil tabel `waste_and_diversion` pada database `austin_waste`\n",
    "\n",
    "\n"
   ]
  },
  {
   "attachments": {},
   "cell_type": "markdown",
   "metadata": {},
   "source": [
    "### Meload dataset"
   ]
  },
  {
   "cell_type": "code",
   "execution_count": 2,
   "metadata": {},
   "outputs": [],
   "source": [
    "df=pd.read_csv('h8dsft_P0GC2_iqbal_awis.csv')"
   ]
  },
  {
   "attachments": {},
   "cell_type": "markdown",
   "metadata": {},
   "source": [
    "perintah tsb akan meload dataset h8dsft_P0GC2_iqbal_awis"
   ]
  },
  {
   "cell_type": "code",
   "execution_count": 3,
   "metadata": {},
   "outputs": [
    {
     "data": {
      "text/html": [
       "<div>\n",
       "<style scoped>\n",
       "    .dataframe tbody tr th:only-of-type {\n",
       "        vertical-align: middle;\n",
       "    }\n",
       "\n",
       "    .dataframe tbody tr th {\n",
       "        vertical-align: top;\n",
       "    }\n",
       "\n",
       "    .dataframe thead th {\n",
       "        text-align: right;\n",
       "    }\n",
       "</style>\n",
       "<table border=\"1\" class=\"dataframe\">\n",
       "  <thead>\n",
       "    <tr style=\"text-align: right;\">\n",
       "      <th></th>\n",
       "      <th>report_date</th>\n",
       "      <th>load_time</th>\n",
       "      <th>load_type</th>\n",
       "      <th>load_weight</th>\n",
       "      <th>dropoff_site</th>\n",
       "    </tr>\n",
       "  </thead>\n",
       "  <tbody>\n",
       "    <tr>\n",
       "      <th>0</th>\n",
       "      <td>2021-07-08</td>\n",
       "      <td>2021-07-08 12:00:00.000000 UTC</td>\n",
       "      <td>TIRES</td>\n",
       "      <td>2260.0</td>\n",
       "      <td>MRF</td>\n",
       "    </tr>\n",
       "    <tr>\n",
       "      <th>1</th>\n",
       "      <td>2021-07-08</td>\n",
       "      <td>2021-07-08 11:00:00.000000 UTC</td>\n",
       "      <td>TIRES</td>\n",
       "      <td>1260.0</td>\n",
       "      <td>MRF</td>\n",
       "    </tr>\n",
       "    <tr>\n",
       "      <th>2</th>\n",
       "      <td>2021-07-08</td>\n",
       "      <td>2021-07-08 03:00:00.000000 UTC</td>\n",
       "      <td>TIRES</td>\n",
       "      <td>800.0</td>\n",
       "      <td>MRF</td>\n",
       "    </tr>\n",
       "    <tr>\n",
       "      <th>3</th>\n",
       "      <td>2021-05-01</td>\n",
       "      <td>2021-05-01 12:29:00.000000 UTC</td>\n",
       "      <td>TIRES</td>\n",
       "      <td>760.0</td>\n",
       "      <td>MRF</td>\n",
       "    </tr>\n",
       "    <tr>\n",
       "      <th>4</th>\n",
       "      <td>2021-07-03</td>\n",
       "      <td>2021-07-03 12:09:00.000000 UTC</td>\n",
       "      <td>TIRES</td>\n",
       "      <td>1400.0</td>\n",
       "      <td>MRF</td>\n",
       "    </tr>\n",
       "    <tr>\n",
       "      <th>...</th>\n",
       "      <td>...</td>\n",
       "      <td>...</td>\n",
       "      <td>...</td>\n",
       "      <td>...</td>\n",
       "      <td>...</td>\n",
       "    </tr>\n",
       "    <tr>\n",
       "      <th>26152</th>\n",
       "      <td>2021-03-01</td>\n",
       "      <td>2021-03-01 11:26:00.000000 UTC</td>\n",
       "      <td>ORGANICS</td>\n",
       "      <td>12100.0</td>\n",
       "      <td>ORGANICS BY GOSH</td>\n",
       "    </tr>\n",
       "    <tr>\n",
       "      <th>26153</th>\n",
       "      <td>2021-03-01</td>\n",
       "      <td>2021-03-01 04:27:00.000000 UTC</td>\n",
       "      <td>ORGANICS</td>\n",
       "      <td>10900.0</td>\n",
       "      <td>ORGANICS BY GOSH</td>\n",
       "    </tr>\n",
       "    <tr>\n",
       "      <th>26154</th>\n",
       "      <td>2021-03-01</td>\n",
       "      <td>2021-03-01 05:55:00.000000 UTC</td>\n",
       "      <td>ORGANICS</td>\n",
       "      <td>21800.0</td>\n",
       "      <td>ORGANICS BY GOSH</td>\n",
       "    </tr>\n",
       "    <tr>\n",
       "      <th>26155</th>\n",
       "      <td>2021-03-01</td>\n",
       "      <td>2021-03-02 01:10:00.000000 UTC</td>\n",
       "      <td>ORGANICS</td>\n",
       "      <td>5640.0</td>\n",
       "      <td>ORGANICS BY GOSH</td>\n",
       "    </tr>\n",
       "    <tr>\n",
       "      <th>26156</th>\n",
       "      <td>2021-03-01</td>\n",
       "      <td>2021-03-01 10:22:00.000000 UTC</td>\n",
       "      <td>RECYCLED METAL</td>\n",
       "      <td>360.0</td>\n",
       "      <td>AUSTIN IRON AND METAL</td>\n",
       "    </tr>\n",
       "  </tbody>\n",
       "</table>\n",
       "<p>26157 rows × 5 columns</p>\n",
       "</div>"
      ],
      "text/plain": [
       "      report_date                       load_time       load_type  \\\n",
       "0      2021-07-08  2021-07-08 12:00:00.000000 UTC           TIRES   \n",
       "1      2021-07-08  2021-07-08 11:00:00.000000 UTC           TIRES   \n",
       "2      2021-07-08  2021-07-08 03:00:00.000000 UTC           TIRES   \n",
       "3      2021-05-01  2021-05-01 12:29:00.000000 UTC           TIRES   \n",
       "4      2021-07-03  2021-07-03 12:09:00.000000 UTC           TIRES   \n",
       "...           ...                             ...             ...   \n",
       "26152  2021-03-01  2021-03-01 11:26:00.000000 UTC        ORGANICS   \n",
       "26153  2021-03-01  2021-03-01 04:27:00.000000 UTC        ORGANICS   \n",
       "26154  2021-03-01  2021-03-01 05:55:00.000000 UTC        ORGANICS   \n",
       "26155  2021-03-01  2021-03-02 01:10:00.000000 UTC        ORGANICS   \n",
       "26156  2021-03-01  2021-03-01 10:22:00.000000 UTC  RECYCLED METAL   \n",
       "\n",
       "       load_weight           dropoff_site  \n",
       "0           2260.0                    MRF  \n",
       "1           1260.0                    MRF  \n",
       "2            800.0                    MRF  \n",
       "3            760.0                    MRF  \n",
       "4           1400.0                    MRF  \n",
       "...            ...                    ...  \n",
       "26152      12100.0       ORGANICS BY GOSH  \n",
       "26153      10900.0       ORGANICS BY GOSH  \n",
       "26154      21800.0       ORGANICS BY GOSH  \n",
       "26155       5640.0       ORGANICS BY GOSH  \n",
       "26156        360.0  AUSTIN IRON AND METAL  \n",
       "\n",
       "[26157 rows x 5 columns]"
      ]
     },
     "execution_count": 3,
     "metadata": {},
     "output_type": "execute_result"
    }
   ],
   "source": [
    "#Menampilkan dataset\n",
    "df"
   ]
  },
  {
   "attachments": {},
   "cell_type": "markdown",
   "metadata": {},
   "source": [
    "Menampilkan seluruh dataset\n",
    "\n",
    "* report_date = tanggal\n",
    "* load_time = jam \n",
    "* load_type = type loading\n",
    "* load_weight = berat loading\n",
    "* dropoff_site= lokasi pembuangan"
   ]
  },
  {
   "cell_type": "code",
   "execution_count": 4,
   "metadata": {},
   "outputs": [
    {
     "data": {
      "text/html": [
       "<div>\n",
       "<style scoped>\n",
       "    .dataframe tbody tr th:only-of-type {\n",
       "        vertical-align: middle;\n",
       "    }\n",
       "\n",
       "    .dataframe tbody tr th {\n",
       "        vertical-align: top;\n",
       "    }\n",
       "\n",
       "    .dataframe thead th {\n",
       "        text-align: right;\n",
       "    }\n",
       "</style>\n",
       "<table border=\"1\" class=\"dataframe\">\n",
       "  <thead>\n",
       "    <tr style=\"text-align: right;\">\n",
       "      <th></th>\n",
       "      <th>report_date</th>\n",
       "      <th>load_time</th>\n",
       "      <th>load_type</th>\n",
       "      <th>load_weight</th>\n",
       "      <th>dropoff_site</th>\n",
       "    </tr>\n",
       "  </thead>\n",
       "  <tbody>\n",
       "    <tr>\n",
       "      <th>0</th>\n",
       "      <td>2021-07-08</td>\n",
       "      <td>2021-07-08 12:00:00.000000 UTC</td>\n",
       "      <td>TIRES</td>\n",
       "      <td>2260.0</td>\n",
       "      <td>MRF</td>\n",
       "    </tr>\n",
       "    <tr>\n",
       "      <th>1</th>\n",
       "      <td>2021-07-08</td>\n",
       "      <td>2021-07-08 11:00:00.000000 UTC</td>\n",
       "      <td>TIRES</td>\n",
       "      <td>1260.0</td>\n",
       "      <td>MRF</td>\n",
       "    </tr>\n",
       "    <tr>\n",
       "      <th>2</th>\n",
       "      <td>2021-07-08</td>\n",
       "      <td>2021-07-08 03:00:00.000000 UTC</td>\n",
       "      <td>TIRES</td>\n",
       "      <td>800.0</td>\n",
       "      <td>MRF</td>\n",
       "    </tr>\n",
       "    <tr>\n",
       "      <th>3</th>\n",
       "      <td>2021-05-01</td>\n",
       "      <td>2021-05-01 12:29:00.000000 UTC</td>\n",
       "      <td>TIRES</td>\n",
       "      <td>760.0</td>\n",
       "      <td>MRF</td>\n",
       "    </tr>\n",
       "    <tr>\n",
       "      <th>4</th>\n",
       "      <td>2021-07-03</td>\n",
       "      <td>2021-07-03 12:09:00.000000 UTC</td>\n",
       "      <td>TIRES</td>\n",
       "      <td>1400.0</td>\n",
       "      <td>MRF</td>\n",
       "    </tr>\n",
       "  </tbody>\n",
       "</table>\n",
       "</div>"
      ],
      "text/plain": [
       "  report_date                       load_time load_type  load_weight  \\\n",
       "0  2021-07-08  2021-07-08 12:00:00.000000 UTC     TIRES       2260.0   \n",
       "1  2021-07-08  2021-07-08 11:00:00.000000 UTC     TIRES       1260.0   \n",
       "2  2021-07-08  2021-07-08 03:00:00.000000 UTC     TIRES        800.0   \n",
       "3  2021-05-01  2021-05-01 12:29:00.000000 UTC     TIRES        760.0   \n",
       "4  2021-07-03  2021-07-03 12:09:00.000000 UTC     TIRES       1400.0   \n",
       "\n",
       "  dropoff_site  \n",
       "0          MRF  \n",
       "1          MRF  \n",
       "2          MRF  \n",
       "3          MRF  \n",
       "4          MRF  "
      ]
     },
     "execution_count": 4,
     "metadata": {},
     "output_type": "execute_result"
    }
   ],
   "source": [
    "#menampilkan data\n",
    "df.head()"
   ]
  },
  {
   "attachments": {},
   "cell_type": "markdown",
   "metadata": {},
   "source": [
    "Menampilkan 5 data teratas"
   ]
  },
  {
   "cell_type": "code",
   "execution_count": 5,
   "metadata": {},
   "outputs": [
    {
     "data": {
      "text/html": [
       "<div>\n",
       "<style scoped>\n",
       "    .dataframe tbody tr th:only-of-type {\n",
       "        vertical-align: middle;\n",
       "    }\n",
       "\n",
       "    .dataframe tbody tr th {\n",
       "        vertical-align: top;\n",
       "    }\n",
       "\n",
       "    .dataframe thead th {\n",
       "        text-align: right;\n",
       "    }\n",
       "</style>\n",
       "<table border=\"1\" class=\"dataframe\">\n",
       "  <thead>\n",
       "    <tr style=\"text-align: right;\">\n",
       "      <th></th>\n",
       "      <th>report_date</th>\n",
       "      <th>load_time</th>\n",
       "      <th>load_type</th>\n",
       "      <th>load_weight</th>\n",
       "      <th>dropoff_site</th>\n",
       "    </tr>\n",
       "  </thead>\n",
       "  <tbody>\n",
       "    <tr>\n",
       "      <th>26152</th>\n",
       "      <td>2021-03-01</td>\n",
       "      <td>2021-03-01 11:26:00.000000 UTC</td>\n",
       "      <td>ORGANICS</td>\n",
       "      <td>12100.0</td>\n",
       "      <td>ORGANICS BY GOSH</td>\n",
       "    </tr>\n",
       "    <tr>\n",
       "      <th>26153</th>\n",
       "      <td>2021-03-01</td>\n",
       "      <td>2021-03-01 04:27:00.000000 UTC</td>\n",
       "      <td>ORGANICS</td>\n",
       "      <td>10900.0</td>\n",
       "      <td>ORGANICS BY GOSH</td>\n",
       "    </tr>\n",
       "    <tr>\n",
       "      <th>26154</th>\n",
       "      <td>2021-03-01</td>\n",
       "      <td>2021-03-01 05:55:00.000000 UTC</td>\n",
       "      <td>ORGANICS</td>\n",
       "      <td>21800.0</td>\n",
       "      <td>ORGANICS BY GOSH</td>\n",
       "    </tr>\n",
       "    <tr>\n",
       "      <th>26155</th>\n",
       "      <td>2021-03-01</td>\n",
       "      <td>2021-03-02 01:10:00.000000 UTC</td>\n",
       "      <td>ORGANICS</td>\n",
       "      <td>5640.0</td>\n",
       "      <td>ORGANICS BY GOSH</td>\n",
       "    </tr>\n",
       "    <tr>\n",
       "      <th>26156</th>\n",
       "      <td>2021-03-01</td>\n",
       "      <td>2021-03-01 10:22:00.000000 UTC</td>\n",
       "      <td>RECYCLED METAL</td>\n",
       "      <td>360.0</td>\n",
       "      <td>AUSTIN IRON AND METAL</td>\n",
       "    </tr>\n",
       "  </tbody>\n",
       "</table>\n",
       "</div>"
      ],
      "text/plain": [
       "      report_date                       load_time       load_type  \\\n",
       "26152  2021-03-01  2021-03-01 11:26:00.000000 UTC        ORGANICS   \n",
       "26153  2021-03-01  2021-03-01 04:27:00.000000 UTC        ORGANICS   \n",
       "26154  2021-03-01  2021-03-01 05:55:00.000000 UTC        ORGANICS   \n",
       "26155  2021-03-01  2021-03-02 01:10:00.000000 UTC        ORGANICS   \n",
       "26156  2021-03-01  2021-03-01 10:22:00.000000 UTC  RECYCLED METAL   \n",
       "\n",
       "       load_weight           dropoff_site  \n",
       "26152      12100.0       ORGANICS BY GOSH  \n",
       "26153      10900.0       ORGANICS BY GOSH  \n",
       "26154      21800.0       ORGANICS BY GOSH  \n",
       "26155       5640.0       ORGANICS BY GOSH  \n",
       "26156        360.0  AUSTIN IRON AND METAL  "
      ]
     },
     "execution_count": 5,
     "metadata": {},
     "output_type": "execute_result"
    }
   ],
   "source": [
    "df.tail()"
   ]
  },
  {
   "attachments": {},
   "cell_type": "markdown",
   "metadata": {},
   "source": [
    "menampilkan data 5 terbawah"
   ]
  },
  {
   "cell_type": "code",
   "execution_count": 6,
   "metadata": {},
   "outputs": [
    {
     "data": {
      "text/plain": [
       "(26157, 5)"
      ]
     },
     "execution_count": 6,
     "metadata": {},
     "output_type": "execute_result"
    }
   ],
   "source": [
    "#.shape\n",
    "df.shape"
   ]
  },
  {
   "attachments": {},
   "cell_type": "markdown",
   "metadata": {},
   "source": [
    "dataset terdiri dari 26.157 baris dan 5 kolom"
   ]
  },
  {
   "cell_type": "code",
   "execution_count": 7,
   "metadata": {},
   "outputs": [
    {
     "data": {
      "text/html": [
       "<div>\n",
       "<style scoped>\n",
       "    .dataframe tbody tr th:only-of-type {\n",
       "        vertical-align: middle;\n",
       "    }\n",
       "\n",
       "    .dataframe tbody tr th {\n",
       "        vertical-align: top;\n",
       "    }\n",
       "\n",
       "    .dataframe thead th {\n",
       "        text-align: right;\n",
       "    }\n",
       "</style>\n",
       "<table border=\"1\" class=\"dataframe\">\n",
       "  <thead>\n",
       "    <tr style=\"text-align: right;\">\n",
       "      <th></th>\n",
       "      <th>load_weight</th>\n",
       "    </tr>\n",
       "  </thead>\n",
       "  <tbody>\n",
       "    <tr>\n",
       "      <th>count</th>\n",
       "      <td>25109.000000</td>\n",
       "    </tr>\n",
       "    <tr>\n",
       "      <th>mean</th>\n",
       "      <td>12227.136307</td>\n",
       "    </tr>\n",
       "    <tr>\n",
       "      <th>std</th>\n",
       "      <td>7135.059565</td>\n",
       "    </tr>\n",
       "    <tr>\n",
       "      <th>min</th>\n",
       "      <td>0.000000</td>\n",
       "    </tr>\n",
       "    <tr>\n",
       "      <th>25%</th>\n",
       "      <td>7060.000000</td>\n",
       "    </tr>\n",
       "    <tr>\n",
       "      <th>50%</th>\n",
       "      <td>11300.000000</td>\n",
       "    </tr>\n",
       "    <tr>\n",
       "      <th>75%</th>\n",
       "      <td>16380.000000</td>\n",
       "    </tr>\n",
       "    <tr>\n",
       "      <th>max</th>\n",
       "      <td>245540.000000</td>\n",
       "    </tr>\n",
       "  </tbody>\n",
       "</table>\n",
       "</div>"
      ],
      "text/plain": [
       "         load_weight\n",
       "count   25109.000000\n",
       "mean    12227.136307\n",
       "std      7135.059565\n",
       "min         0.000000\n",
       "25%      7060.000000\n",
       "50%     11300.000000\n",
       "75%     16380.000000\n",
       "max    245540.000000"
      ]
     },
     "execution_count": 7,
     "metadata": {},
     "output_type": "execute_result"
    }
   ],
   "source": [
    "df.describe()"
   ]
  },
  {
   "attachments": {},
   "cell_type": "markdown",
   "metadata": {},
   "source": [
    "# iv. Data Cleaning"
   ]
  },
  {
   "attachments": {},
   "cell_type": "markdown",
   "metadata": {},
   "source": [
    "# Problem 1"
   ]
  },
  {
   "attachments": {},
   "cell_type": "markdown",
   "metadata": {},
   "source": [
    "## 1. Melakukan Perhitungan dan analisa statistik, dan pembersihan data"
   ]
  },
  {
   "attachments": {},
   "cell_type": "markdown",
   "metadata": {},
   "source": [
    "## Pemeriksaan Data"
   ]
  },
  {
   "cell_type": "code",
   "execution_count": 8,
   "metadata": {},
   "outputs": [
    {
     "name": "stdout",
     "output_type": "stream",
     "text": [
      "<class 'pandas.core.frame.DataFrame'>\n",
      "RangeIndex: 26157 entries, 0 to 26156\n",
      "Data columns (total 5 columns):\n",
      " #   Column        Non-Null Count  Dtype  \n",
      "---  ------        --------------  -----  \n",
      " 0   report_date   26157 non-null  object \n",
      " 1   load_time     26157 non-null  object \n",
      " 2   load_type     26157 non-null  object \n",
      " 3   load_weight   25109 non-null  float64\n",
      " 4   dropoff_site  26157 non-null  object \n",
      "dtypes: float64(1), object(4)\n",
      "memory usage: 1021.9+ KB\n"
     ]
    }
   ],
   "source": [
    "#info\n",
    "df.info()"
   ]
  },
  {
   "attachments": {},
   "cell_type": "markdown",
   "metadata": {},
   "source": [
    "Menampilkan Info dataset untuk melihat typedata\n",
    "bisa dilihat 4 kolom pada dataset memiliki type data'object' dan 1 tipe data 'float' "
   ]
  },
  {
   "attachments": {},
   "cell_type": "markdown",
   "metadata": {},
   "source": [
    "## Mengubah Typedata"
   ]
  },
  {
   "cell_type": "code",
   "execution_count": 9,
   "metadata": {},
   "outputs": [
    {
     "name": "stdout",
     "output_type": "stream",
     "text": [
      "<class 'pandas.core.frame.DataFrame'>\n",
      "RangeIndex: 26157 entries, 0 to 26156\n",
      "Data columns (total 5 columns):\n",
      " #   Column        Non-Null Count  Dtype              \n",
      "---  ------        --------------  -----              \n",
      " 0   report_date   26157 non-null  datetime64[ns]     \n",
      " 1   load_time     26157 non-null  datetime64[ns, UTC]\n",
      " 2   load_type     26157 non-null  object             \n",
      " 3   load_weight   25109 non-null  float64            \n",
      " 4   dropoff_site  26157 non-null  object             \n",
      "dtypes: datetime64[ns, UTC](1), datetime64[ns](1), float64(1), object(2)\n",
      "memory usage: 1021.9+ KB\n"
     ]
    }
   ],
   "source": [
    "# ubah tipe data kolom report_date dan load_time menjadi datetime\n",
    "df['report_date'] = pd.to_datetime(df['report_date']) \n",
    "df['load_time'] = pd.to_datetime(df['load_time']) \n",
    "# Periksa data yang sudah diubah df.info()\n",
    "df.info()"
   ]
  },
  {
   "attachments": {},
   "cell_type": "markdown",
   "metadata": {},
   "source": [
    "kolom `report_date` dan `load_time` telah berhasil diubah menjadi type data **date_time**"
   ]
  },
  {
   "attachments": {},
   "cell_type": "markdown",
   "metadata": {},
   "source": [
    "## Mencheck Distribusi Normal"
   ]
  },
  {
   "cell_type": "code",
   "execution_count": 10,
   "metadata": {},
   "outputs": [
    {
     "name": "stdout",
     "output_type": "stream",
     "text": [
      " skewness 3.335938213321684\n",
      " kurtosis 84.19097541413653\n"
     ]
    }
   ],
   "source": [
    "# Periksa skewness dan kurtosis \n",
    "print(' skewness ' + str(df['load_weight'].skew()))\n",
    "print(' kurtosis ' + str(df['load_weight'].kurt()))"
   ]
  },
  {
   "attachments": {},
   "cell_type": "markdown",
   "metadata": {},
   "source": [
    "dilihat bahwa skewness pada data `load_weight` sebesar 3.4, jika nilai  >0.5 maka distibusi data tsb tidak normal. apabila <0.5 didapat bilang bahwa distribusi data tsb normal "
   ]
  },
  {
   "attachments": {},
   "cell_type": "markdown",
   "metadata": {},
   "source": [
    "## Missing value"
   ]
  },
  {
   "cell_type": "code",
   "execution_count": 11,
   "metadata": {},
   "outputs": [
    {
     "data": {
      "text/plain": [
       "report_date        0\n",
       "load_time          0\n",
       "load_type          0\n",
       "load_weight     1048\n",
       "dropoff_site       0\n",
       "dtype: int64"
      ]
     },
     "execution_count": 11,
     "metadata": {},
     "output_type": "execute_result"
    }
   ],
   "source": [
    "#cek missing value\n",
    "df.isnull().sum()"
   ]
  },
  {
   "attachments": {},
   "cell_type": "markdown",
   "metadata": {},
   "source": [
    "terdapat missing value sebanyak 1.048 pada kolom `load_weight`"
   ]
  },
  {
   "cell_type": "code",
   "execution_count": 12,
   "metadata": {},
   "outputs": [],
   "source": [
    "#mencari median\n",
    "median_load_weight = df['load_weight'].median()\n",
    "df['load_weight'].fillna(median_load_weight, inplace=True)"
   ]
  },
  {
   "attachments": {},
   "cell_type": "markdown",
   "metadata": {},
   "source": [
    "karena distibusi pada data `load_weight` tidak normal maka kita dapat mengisi missing value dengan median dari data tsb "
   ]
  },
  {
   "cell_type": "code",
   "execution_count": 13,
   "metadata": {},
   "outputs": [
    {
     "data": {
      "text/plain": [
       "report_date     0\n",
       "load_time       0\n",
       "load_type       0\n",
       "load_weight     0\n",
       "dropoff_site    0\n",
       "dtype: int64"
      ]
     },
     "execution_count": 13,
     "metadata": {},
     "output_type": "execute_result"
    }
   ],
   "source": [
    "#cek missing value\n",
    "df.isnull().sum()"
   ]
  },
  {
   "attachments": {},
   "cell_type": "markdown",
   "metadata": {},
   "source": [
    "dataset sudah bersih dari missing value dan berhasil mengisi data missing value tsb dengan median dari data"
   ]
  },
  {
   "attachments": {},
   "cell_type": "markdown",
   "metadata": {},
   "source": [
    "## Data Eksplorasi"
   ]
  },
  {
   "attachments": {},
   "cell_type": "markdown",
   "metadata": {},
   "source": [
    "## 2. Melihat Rentang waktu, Tipe Load Sampah dan Tempat pembuangan sampah "
   ]
  },
  {
   "attachments": {},
   "cell_type": "markdown",
   "metadata": {},
   "source": [
    "## Rentang waktu"
   ]
  },
  {
   "cell_type": "code",
   "execution_count": 14,
   "metadata": {},
   "outputs": [
    {
     "data": {
      "text/plain": [
       "Timestamp('2021-01-01 00:00:00')"
      ]
     },
     "execution_count": 14,
     "metadata": {},
     "output_type": "execute_result"
    }
   ],
   "source": [
    "#melihat nilai terendah \n",
    "df['report_date'].min()"
   ]
  },
  {
   "attachments": {},
   "cell_type": "markdown",
   "metadata": {},
   "source": [
    "bisa kita lihat data pertama diambil pada 01-01-2021"
   ]
  },
  {
   "cell_type": "code",
   "execution_count": 15,
   "metadata": {},
   "outputs": [
    {
     "data": {
      "text/plain": [
       "Timestamp('2021-07-09 00:00:00')"
      ]
     },
     "execution_count": 15,
     "metadata": {},
     "output_type": "execute_result"
    }
   ],
   "source": [
    "#melihat nilai tertinggi\n",
    "df['report_date'].max()"
   ]
  },
  {
   "attachments": {},
   "cell_type": "markdown",
   "metadata": {},
   "source": [
    "data terakhir diambil pada 09-07-2021"
   ]
  },
  {
   "attachments": {},
   "cell_type": "markdown",
   "metadata": {},
   "source": [
    "bisa disimpulkan bahwa rentang waktu pengambilan data adalah : 01-01-2021 sampai 09-07-2021"
   ]
  },
  {
   "attachments": {},
   "cell_type": "markdown",
   "metadata": {},
   "source": [
    "## Tipe Load sampah"
   ]
  },
  {
   "cell_type": "code",
   "execution_count": 16,
   "metadata": {},
   "outputs": [
    {
     "name": "stdout",
     "output_type": "stream",
     "text": [
      "                    load_type\n",
      "0                       TIRES\n",
      "1   RECYCLING - SINGLE STREAM\n",
      "2                    SWEEPING\n",
      "3                       BRUSH\n",
      "4         GARBAGE COLLECTIONS\n",
      "5               YARD TRIMMING\n",
      "6                        BULK\n",
      "7                    ORGANICS\n",
      "8                 DEAD ANIMAL\n",
      "9                MIXED LITTER\n",
      "10                     LITTER\n",
      "11             RECYCLED METAL\n",
      "12     CONTAMINATED RECYCLING\n",
      "13      CONTAMINATED ORGANICS\n"
     ]
    }
   ],
   "source": [
    "#melihat kolom `load_type`\n",
    "tipe_load=df['load_type'].unique()\n",
    "df_load_type = pd.DataFrame(tipe_load, columns=['load_type'])\n",
    "print(df_load_type)"
   ]
  },
  {
   "attachments": {},
   "cell_type": "markdown",
   "metadata": {},
   "source": [
    "dari data tsb dapat dilihat bahwa terdapat 14 tipe load sampah di kota Austin"
   ]
  },
  {
   "attachments": {},
   "cell_type": "markdown",
   "metadata": {},
   "source": [
    "## Tempat pembuangan sampah"
   ]
  },
  {
   "cell_type": "code",
   "execution_count": 17,
   "metadata": {},
   "outputs": [
    {
     "name": "stdout",
     "output_type": "stream",
     "text": [
      "             dropoff_site\n",
      "0                     MRF\n",
      "1               TDS - MRF\n",
      "2             ONION CREEK\n",
      "3             PARK CENTER\n",
      "4            HORNSBY BEND\n",
      "5            TDS LANDFILL\n",
      "6          GREAT NORTHERN\n",
      "7        ORGANICS BY GOSH\n",
      "8      BALCONES RECYCLING\n",
      "9      ON ROUTE HIGH DUMP\n",
      "10  AUSTIN IRON AND METAL\n",
      "11              PARK BEND\n",
      "12         BALCONES WOODS\n",
      "13       STEINER LANDFILL\n",
      "14              WESTFIELD\n",
      "15            ST. EDWARDS\n",
      "16  AUSTIN WOOD RECYCLING\n",
      "17                 WILCAB\n"
     ]
    }
   ],
   "source": [
    "#mencari data dropoff_site\n",
    "data_drop_site=df['dropoff_site'].unique()\n",
    "data_drop=pd.DataFrame(data_drop_site,columns=['dropoff_site'])\n",
    "print(data_drop)"
   ]
  },
  {
   "attachments": {},
   "cell_type": "markdown",
   "metadata": {},
   "source": [
    "dengan demikian kita dapat mengetahui tempat mana saja yang menjadi tempat pembuangan sampah di wilayah Austin"
   ]
  },
  {
   "attachments": {},
   "cell_type": "markdown",
   "metadata": {},
   "source": [
    "## 3. Central Tendency Modus, Median dan Mean"
   ]
  },
  {
   "attachments": {},
   "cell_type": "markdown",
   "metadata": {},
   "source": [
    "### Modus"
   ]
  },
  {
   "cell_type": "code",
   "execution_count": 18,
   "metadata": {},
   "outputs": [
    {
     "data": {
      "text/plain": [
       "0    TDS LANDFILL\n",
       "Name: dropoff_site, dtype: object"
      ]
     },
     "execution_count": 18,
     "metadata": {},
     "output_type": "execute_result"
    }
   ],
   "source": [
    "#mencari modus dari dropp_site\n",
    "df['dropoff_site'].mode()"
   ]
  },
  {
   "attachments": {},
   "cell_type": "markdown",
   "metadata": {},
   "source": [
    "dapat kita simpulkan bahwa `TDS LANDFIELD` adalah tempat pembuangan paling dituju dari semua tempat pembuangan yang ada di Austin"
   ]
  },
  {
   "attachments": {},
   "cell_type": "markdown",
   "metadata": {},
   "source": [
    "### Mean"
   ]
  },
  {
   "cell_type": "code",
   "execution_count": 19,
   "metadata": {},
   "outputs": [
    {
     "name": "stdout",
     "output_type": "stream",
     "text": [
      "dropoff_site\n",
      "WESTFIELD                16020.000000\n",
      "TDS LANDFILL             15168.321726\n",
      "PARK BEND                13385.000000\n",
      "GREAT NORTHERN           11973.142857\n",
      "ORGANICS BY GOSH         11817.220851\n",
      "ON ROUTE HIGH DUMP       11405.925926\n",
      "ST. EDWARDS              11300.000000\n",
      "PARK CENTER              11300.000000\n",
      "WILCAB                   11300.000000\n",
      "ONION CREEK              11300.000000\n",
      "TDS - MRF                 9872.550882\n",
      "BALCONES RECYCLING        9464.652072\n",
      "BALCONES WOODS            8460.000000\n",
      "HORNSBY BEND              6637.111782\n",
      "AUSTIN WOOD RECYCLING     4050.000000\n",
      "MRF                       1799.982143\n",
      "STEINER LANDFILL           780.000000\n",
      "AUSTIN IRON AND METAL      451.200000\n",
      "Name: load_weight, dtype: float64\n"
     ]
    }
   ],
   "source": [
    "#melihat median data \n",
    "rata_rata = df.groupby('dropoff_site')['load_weight'].mean()\n",
    "rata_rata_sorted = rata_rata.sort_values(ascending=False)\n",
    "print(rata_rata_sorted)"
   ]
  },
  {
   "attachments": {},
   "cell_type": "markdown",
   "metadata": {},
   "source": [
    "berdasarkan data tersebut dapat disimpulkan bahwa site `WESTFIELD` adalah site dengan rata-rata muatan terbesar di kota Austin"
   ]
  },
  {
   "attachments": {},
   "cell_type": "markdown",
   "metadata": {},
   "source": [
    "### Median"
   ]
  },
  {
   "cell_type": "code",
   "execution_count": 20,
   "metadata": {},
   "outputs": [
    {
     "name": "stdout",
     "output_type": "stream",
     "text": [
      "dropoff_site\n",
      "WESTFIELD                16020.0\n",
      "TDS LANDFILL             14920.0\n",
      "PARK BEND                12330.0\n",
      "ORGANICS BY GOSH         11900.0\n",
      "ONION CREEK              11300.0\n",
      "ST. EDWARDS              11300.0\n",
      "PARK CENTER              11300.0\n",
      "WILCAB                   11300.0\n",
      "ON ROUTE HIGH DUMP       11300.0\n",
      "GREAT NORTHERN           11300.0\n",
      "TDS - MRF                10330.0\n",
      "BALCONES RECYCLING        9840.0\n",
      "BALCONES WOODS            8460.0\n",
      "HORNSBY BEND              6400.0\n",
      "AUSTIN WOOD RECYCLING     4050.0\n",
      "MRF                       1360.0\n",
      "STEINER LANDFILL           780.0\n",
      "AUSTIN IRON AND METAL      400.0\n",
      "Name: load_weight, dtype: float64\n"
     ]
    }
   ],
   "source": [
    "#mencari median\n",
    "median_drop = df.groupby('dropoff_site')['load_weight'].median()\n",
    "median_sorted = median_drop.sort_values(ascending=False)\n",
    "print(median_sorted)"
   ]
  },
  {
   "attachments": {},
   "cell_type": "markdown",
   "metadata": {},
   "source": [
    "### 4. Pilih Site yang menarik"
   ]
  },
  {
   "cell_type": "code",
   "execution_count": 21,
   "metadata": {},
   "outputs": [
    {
     "name": "stdout",
     "output_type": "stream",
     "text": [
      "             dropoff_site  jumlah\n",
      "0            TDS LANDFILL   10694\n",
      "1        ORGANICS BY GOSH    5755\n",
      "2      BALCONES RECYCLING    3837\n",
      "3               TDS - MRF    2948\n",
      "4            HORNSBY BEND    1655\n",
      "5             ONION CREEK     813\n",
      "6                     MRF     168\n",
      "7      ON ROUTE HIGH DUMP      81\n",
      "8             PARK CENTER      75\n",
      "9          GREAT NORTHERN      70\n",
      "10  AUSTIN IRON AND METAL      50\n",
      "11              PARK BEND       4\n",
      "12  AUSTIN WOOD RECYCLING       2\n",
      "13         BALCONES WOODS       1\n",
      "14       STEINER LANDFILL       1\n",
      "15              WESTFIELD       1\n",
      "16            ST. EDWARDS       1\n",
      "17                 WILCAB       1\n"
     ]
    }
   ],
   "source": [
    "# menghitung jumlah kemunculan nilai pada kolom dropoff_site\n",
    "count = df['dropoff_site'].value_counts()\n",
    "\n",
    "# membuat tabel baru dengan jumlah kemunculan nilai pada kolom dropoff_site\n",
    "df_count = pd.DataFrame({'dropoff_site': count.index, 'jumlah':count.values})\n",
    "\n",
    "# menampilkan tabel baru\n",
    "print(df_count)"
   ]
  },
  {
   "attachments": {},
   "cell_type": "markdown",
   "metadata": {},
   "source": [
    "`TDS LANDFILL` adalah dropoff_site yang paling banyak dipakai di kota Austin, Oleh karena itu kita akan memilih dropoff site tsb untuk kita lihat lebih jauh"
   ]
  },
  {
   "attachments": {},
   "cell_type": "markdown",
   "metadata": {},
   "source": [
    "## 5. Outlier"
   ]
  },
  {
   "cell_type": "code",
   "execution_count": 22,
   "metadata": {},
   "outputs": [
    {
     "data": {
      "image/png": "[encoded data removed]",
      "text/plain": [
       "<Figure size 640x480 with 1 Axes>"
      ]
     },
     "metadata": {},
     "output_type": "display_data"
    }
   ],
   "source": [
    "# Filter data hanya untuk nilai dropoff_site = \"WESTFIELD\"\n",
    "tds_data = df[df['dropoff_site'] == 'TDS LANDFILL']\n",
    "\n",
    "# Membuat boxplot untuk kolom load_weight pada data Westfield\n",
    "tds_data.boxplot(column='load_weight')\n",
    "\n",
    "# Menampilkan plot\n",
    "plt.show()"
   ]
  },
  {
   "attachments": {},
   "cell_type": "markdown",
   "metadata": {},
   "source": [
    "## IQR (tukey rule)"
   ]
  },
  {
   "attachments": {},
   "cell_type": "markdown",
   "metadata": {},
   "source": [
    "menghitung outlier dengan teknik IQR (Tukey Rule) karena distirbusi tidak normal"
   ]
  },
  {
   "cell_type": "code",
   "execution_count": 23,
   "metadata": {},
   "outputs": [
    {
     "data": {
      "text/plain": [
       "(8820.0, 21660.0)"
      ]
     },
     "execution_count": 23,
     "metadata": {},
     "output_type": "execute_result"
    }
   ],
   "source": [
    "q1= tds_data['load_weight'].quantile(0.25)\n",
    "q3= tds_data['load_weight'].quantile(0.75)\n",
    "q1,q3"
   ]
  },
  {
   "cell_type": "code",
   "execution_count": 24,
   "metadata": {},
   "outputs": [
    {
     "data": {
      "text/plain": [
       "12840.0"
      ]
     },
     "execution_count": 24,
     "metadata": {},
     "output_type": "execute_result"
    }
   ],
   "source": [
    "IQR= q3-q1\n",
    "IQR"
   ]
  },
  {
   "cell_type": "code",
   "execution_count": 25,
   "metadata": {},
   "outputs": [
    {
     "name": "stdout",
     "output_type": "stream",
     "text": [
      "40920.0\n",
      "-10440.0\n"
     ]
    }
   ],
   "source": [
    "upper_limit= q3 + 1.5*IQR\n",
    "lower_limit=q1 - 1.5*IQR\n",
    "\n",
    "print(upper_limit)\n",
    "print(lower_limit)"
   ]
  },
  {
   "cell_type": "code",
   "execution_count": 26,
   "metadata": {},
   "outputs": [
    {
     "data": {
      "text/plain": [
       "7"
      ]
     },
     "execution_count": 26,
     "metadata": {},
     "output_type": "execute_result"
    }
   ],
   "source": [
    "data_outlier_avg= tds_data[(tds_data['load_weight'] > upper_limit) | (tds_data['load_weight'] < lower_limit)]\n",
    "data_outlier_avg.shape[0]"
   ]
  },
  {
   "cell_type": "code",
   "execution_count": 27,
   "metadata": {},
   "outputs": [
    {
     "name": "stdout",
     "output_type": "stream",
     "text": [
      "60180.0\n",
      "-29700.0\n"
     ]
    }
   ],
   "source": [
    "upper_limit= q3 + 3*IQR\n",
    "lower_limit=q1 - 3*IQR\n",
    "\n",
    "print(upper_limit)\n",
    "print(lower_limit)"
   ]
  },
  {
   "cell_type": "code",
   "execution_count": 28,
   "metadata": {},
   "outputs": [
    {
     "data": {
      "text/html": [
       "<div>\n",
       "<style scoped>\n",
       "    .dataframe tbody tr th:only-of-type {\n",
       "        vertical-align: middle;\n",
       "    }\n",
       "\n",
       "    .dataframe tbody tr th {\n",
       "        vertical-align: top;\n",
       "    }\n",
       "\n",
       "    .dataframe thead th {\n",
       "        text-align: right;\n",
       "    }\n",
       "</style>\n",
       "<table border=\"1\" class=\"dataframe\">\n",
       "  <thead>\n",
       "    <tr style=\"text-align: right;\">\n",
       "      <th></th>\n",
       "      <th>report_date</th>\n",
       "      <th>load_time</th>\n",
       "      <th>load_type</th>\n",
       "      <th>load_weight</th>\n",
       "      <th>dropoff_site</th>\n",
       "    </tr>\n",
       "  </thead>\n",
       "  <tbody>\n",
       "    <tr>\n",
       "      <th>2381</th>\n",
       "      <td>2021-03-09</td>\n",
       "      <td>2021-03-09 01:30:00+00:00</td>\n",
       "      <td>GARBAGE COLLECTIONS</td>\n",
       "      <td>145160.0</td>\n",
       "      <td>TDS LANDFILL</td>\n",
       "    </tr>\n",
       "    <tr>\n",
       "      <th>13632</th>\n",
       "      <td>2021-05-26</td>\n",
       "      <td>2021-05-26 11:40:00+00:00</td>\n",
       "      <td>GARBAGE COLLECTIONS</td>\n",
       "      <td>80697.0</td>\n",
       "      <td>TDS LANDFILL</td>\n",
       "    </tr>\n",
       "    <tr>\n",
       "      <th>13817</th>\n",
       "      <td>2021-05-27</td>\n",
       "      <td>2021-05-27 11:33:00+00:00</td>\n",
       "      <td>GARBAGE COLLECTIONS</td>\n",
       "      <td>245540.0</td>\n",
       "      <td>TDS LANDFILL</td>\n",
       "    </tr>\n",
       "    <tr>\n",
       "      <th>16964</th>\n",
       "      <td>2021-06-21</td>\n",
       "      <td>2021-06-21 01:05:00+00:00</td>\n",
       "      <td>GARBAGE COLLECTIONS</td>\n",
       "      <td>227780.0</td>\n",
       "      <td>TDS LANDFILL</td>\n",
       "    </tr>\n",
       "    <tr>\n",
       "      <th>24239</th>\n",
       "      <td>2021-02-09</td>\n",
       "      <td>2021-02-09 01:08:00+00:00</td>\n",
       "      <td>GARBAGE COLLECTIONS</td>\n",
       "      <td>102680.0</td>\n",
       "      <td>TDS LANDFILL</td>\n",
       "    </tr>\n",
       "  </tbody>\n",
       "</table>\n",
       "</div>"
      ],
      "text/plain": [
       "      report_date                 load_time            load_type  load_weight  \\\n",
       "2381   2021-03-09 2021-03-09 01:30:00+00:00  GARBAGE COLLECTIONS     145160.0   \n",
       "13632  2021-05-26 2021-05-26 11:40:00+00:00  GARBAGE COLLECTIONS      80697.0   \n",
       "13817  2021-05-27 2021-05-27 11:33:00+00:00  GARBAGE COLLECTIONS     245540.0   \n",
       "16964  2021-06-21 2021-06-21 01:05:00+00:00  GARBAGE COLLECTIONS     227780.0   \n",
       "24239  2021-02-09 2021-02-09 01:08:00+00:00  GARBAGE COLLECTIONS     102680.0   \n",
       "\n",
       "       dropoff_site  \n",
       "2381   TDS LANDFILL  \n",
       "13632  TDS LANDFILL  \n",
       "13817  TDS LANDFILL  \n",
       "16964  TDS LANDFILL  \n",
       "24239  TDS LANDFILL  "
      ]
     },
     "execution_count": 28,
     "metadata": {},
     "output_type": "execute_result"
    }
   ],
   "source": [
    "data_outlier_avg= tds_data[(tds_data['load_weight'] > upper_limit) | (tds_data['load_weight'] < lower_limit)]\n",
    "data_outlier_avg"
   ]
  },
  {
   "cell_type": "code",
   "execution_count": 29,
   "metadata": {},
   "outputs": [
    {
     "data": {
      "text/plain": [
       "(10689, 5)"
      ]
     },
     "execution_count": 29,
     "metadata": {},
     "output_type": "execute_result"
    }
   ],
   "source": [
    "#menampilkan data yang sudah tdk ada outlier \n",
    "clean_data=data_outlier_avg= tds_data[(tds_data['load_weight'] <= upper_limit) & (tds_data['load_weight'] >= lower_limit)]\n",
    "clean_data.shape\n"
   ]
  },
  {
   "attachments": {},
   "cell_type": "markdown",
   "metadata": {},
   "source": [
    "Data sudah bersih dari **Outlier**"
   ]
  },
  {
   "cell_type": "code",
   "execution_count": 30,
   "metadata": {},
   "outputs": [
    {
     "name": "stdout",
     "output_type": "stream",
     "text": [
      "Data masih ada Outlier     :  15168.321726145503\n",
      "Data sudah tdk ada Outlier :  15100.39999433062\n"
     ]
    }
   ],
   "source": [
    "#perbandingan outlier dan tidak\n",
    "with_outlier=tds_data['load_weight'].mean()\n",
    "without_outlier=clean_data['load_weight'].mean()\n",
    "print('Data masih ada Outlier     : ' , with_outlier)\n",
    "print('Data sudah tdk ada Outlier : ', without_outlier)"
   ]
  },
  {
   "cell_type": "code",
   "execution_count": 31,
   "metadata": {},
   "outputs": [
    {
     "name": "stdout",
     "output_type": "stream",
     "text": [
      "Data masih ada Outlier     :  14920.0\n",
      "Data sudah tdk ada Outlier :  14920.0\n"
     ]
    }
   ],
   "source": [
    "with_outlier_median=tds_data['load_weight'].median()\n",
    "without_outlier_median=clean_data['load_weight'].median()\n",
    "print('Data masih ada Outlier     : ' , with_outlier_median)\n",
    "print('Data sudah tdk ada Outlier : ', without_outlier_median)"
   ]
  },
  {
   "cell_type": "code",
   "execution_count": 32,
   "metadata": {},
   "outputs": [
    {
     "data": {
      "text/plain": [
       "0.04763719512195122"
      ]
     },
     "execution_count": 32,
     "metadata": {},
     "output_type": "execute_result"
    }
   ],
   "source": [
    "#persentase_outlier = (jumlah_outlier / jumlah_data) * 100%\n",
    "presentase_outlier=(5/10496)*100\n",
    "presentase_outlier"
   ]
  },
  {
   "attachments": {},
   "cell_type": "markdown",
   "metadata": {},
   "source": [
    "dapat dilihat bahwa presentasi jumlah **outlier** hanya sebesar 0.047 % dapat kita ambil kesimpulan bahwa data **outlier** tidak mempengaruhi data tersebut"
   ]
  },
  {
   "attachments": {},
   "cell_type": "markdown",
   "metadata": {},
   "source": [
    "## 6. Range, Variance, STD Devisiasi"
   ]
  },
  {
   "attachments": {},
   "cell_type": "markdown",
   "metadata": {},
   "source": [
    "### Range"
   ]
  },
  {
   "cell_type": "code",
   "execution_count": 33,
   "metadata": {},
   "outputs": [
    {
     "name": "stdout",
     "output_type": "stream",
     "text": [
      "Range dari data tsb adalah :  58600.0\n"
     ]
    }
   ],
   "source": [
    "#mencari range\n",
    "range=clean_data['load_weight'].max() - clean_data['load_weight'].min() \n",
    "print('Range dari data tsb adalah : ', range)"
   ]
  },
  {
   "attachments": {},
   "cell_type": "markdown",
   "metadata": {},
   "source": [
    "### Variance"
   ]
  },
  {
   "cell_type": "code",
   "execution_count": 34,
   "metadata": {},
   "outputs": [
    {
     "name": "stdout",
     "output_type": "stream",
     "text": [
      "Variance Data Tsb adalah :  61925004.745981306\n"
     ]
    }
   ],
   "source": [
    "variance=clean_data['load_weight'].var()\n",
    "print('Variance Data Tsb adalah : ', variance )"
   ]
  },
  {
   "cell_type": "code",
   "execution_count": 35,
   "metadata": {},
   "outputs": [
    {
     "name": "stdout",
     "output_type": "stream",
     "text": [
      "Standard Devisiasi Data tsb adalah :  7869.244229656448\n"
     ]
    }
   ],
   "source": [
    "std=clean_data['load_weight'].std()\n",
    "print('Standard Devisiasi Data tsb adalah : ', std)"
   ]
  },
  {
   "attachments": {},
   "cell_type": "markdown",
   "metadata": {},
   "source": [
    "## 7. Confidence Interval"
   ]
  },
  {
   "cell_type": "code",
   "execution_count": 36,
   "metadata": {},
   "outputs": [
    {
     "name": "stdout",
     "output_type": "stream",
     "text": [
      "Mean Load Weight: 15100.40\n",
      "Confidence Interval (95.0%): [15099.68, 15101.12]\n"
     ]
    }
   ],
   "source": [
    "\n",
    "# Jumlah data\n",
    "n = clean_data.shape[0]\n",
    "\n",
    "# Hitung mean dan standar devaisi dari TDS LANDFILL\n",
    "mean = clean_data['load_weight'].mean()\n",
    "std = clean_data['load_weight'].std()\n",
    "\n",
    "# Confidence level\n",
    "confidence_level = 0.95\n",
    "\n",
    "# Perhitungan confidence interval untuk site baru\n",
    "lower_ci, upper_ci = stats.t.interval(confidence_level, n - 1, loc=mean, scale=std / n*0.5)\n",
    "\n",
    "# Tampilkan hasil\n",
    "print(f\"Mean Load Weight: {mean:.2f}\")\n",
    "print(f\"Confidence Interval ({confidence_level*100}%): [{lower_ci:.2f}, {upper_ci:.2f}]\")"
   ]
  },
  {
   "attachments": {},
   "cell_type": "markdown",
   "metadata": {},
   "source": [
    "Ada kemungkinan jika ada penambahan site baru, site tersebut akan menampung rata - rata weight sebanyak 15.099 - 15.101.\n",
    "\n",
    "Note : Data yang diambil hanya dari site `TDS LANDFILL`"
   ]
  },
  {
   "attachments": {},
   "cell_type": "markdown",
   "metadata": {},
   "source": [
    "## 8. Analisa Uji Hipotesis "
   ]
  },
  {
   "attachments": {},
   "cell_type": "markdown",
   "metadata": {},
   "source": [
    "untuk memeriksa apakah berat sampah berubah atau tidak, kami akan melakukan sampel tunggal single sampel hypothesis testing dan menetapkan signifikansi 0.05\n",
    "\n",
    "\n",
    "Hypothesis :\n",
    "\n",
    "* H0: μ =15100\n",
    "\n",
    "* H1: μ != 15100"
   ]
  },
  {
   "cell_type": "code",
   "execution_count": 37,
   "metadata": {},
   "outputs": [
    {
     "name": "stdout",
     "output_type": "stream",
     "text": [
      "P-value: 0.9958070734570458\n",
      "t-statistics: 0.005255201225039987\n"
     ]
    }
   ],
   "source": [
    "t_value,p_val = stats.ttest_1samp(clean_data.load_weight, 15100 )\n",
    "print('P-value:',p_val)\n",
    "print('t-statistics:',t_value)"
   ]
  },
  {
   "attachments": {},
   "cell_type": "markdown",
   "metadata": {},
   "source": [
    "P_value yang didapatkan sebesar = 0.995. karena p-value >0.05 kami gagal menolak h0 yang dapat disimpulkan ada tidak ada perubahan rata-rata dari populasi  "
   ]
  },
  {
   "attachments": {},
   "cell_type": "markdown",
   "metadata": {},
   "source": [
    "## Pertanyaan"
   ]
  },
  {
   "attachments": {},
   "cell_type": "markdown",
   "metadata": {},
   "source": [
    "1. Teknik apa yang kamu pilih untuk handling outlier? jelaskan alasannya!\n",
    "    * IQR (tukey Rule) karena distribusi tidak normal, jika distribusi normal dapat dilakukan dengan metode Z-Score/STD"
   ]
  },
  {
   "attachments": {},
   "cell_type": "markdown",
   "metadata": {},
   "source": [
    "2. Apa konsep dibalik confidence interval sehingga kita dapat menggunakannya untuk menyelesaikan langkah pada nomor 7?\n",
    "    * rentang nilai yang memberikan perkiraan kisaran untuk parameter populasi, seperti rata-rata atau proporsi, berdasarkan sampel data yang diambil secara acak. Konsep dasar di balik confidence interval adalah bahwa ketika kita mengambil sampel acak dari populasi, kita mungkin mendapatkan hasil yang sedikit berbeda dari hasil yang akan kita peroleh jika kita mengambil sampel lain"
   ]
  },
  {
   "attachments": {},
   "cell_type": "markdown",
   "metadata": {},
   "source": [
    "3. Jelaskan jenis uji hipotesis apa yang kamu terapkan dan mengapa?\n",
    "    * `One Sample Two Tailed`.  Kami menggunakan metode ini karena kami hanya menguji variabel dan membandingkan sampel mean data load weight  dan populasi "
   ]
  },
  {
   "attachments": {},
   "cell_type": "markdown",
   "metadata": {},
   "source": [
    "## Problem 2"
   ]
  },
  {
   "attachments": {},
   "cell_type": "markdown",
   "metadata": {},
   "source": [
    "Pada permasalahan yang sama, pemerintah ingin tau berapa banyak load sampah dalam kg di kota Austin di hari berikutnya (10 Juli 2021). Dalam hal ini, pemerintah menginginkan kamu melakukan forecasting untuk memprediksi nilai di masa depan"
   ]
  },
  {
   "attachments": {},
   "cell_type": "markdown",
   "metadata": {},
   "source": [
    "adapun rumus laju sampah sebagai berikut : \n",
    "<img src=\"https://latex2png.com/pngs/d095b902113a1ef68d07fd786e4be428.png\"></img>"
   ]
  },
  {
   "attachments": {},
   "cell_type": "markdown",
   "metadata": {},
   "source": [
    "rumus prediksi : \n",
    "<img src=\"https://latex2png.com/pngs/50dc63299a1860b10a15346a9ca3a42e.png\"></img>"
   ]
  },
  {
   "cell_type": "code",
   "execution_count": 38,
   "metadata": {},
   "outputs": [
    {
     "data": {
      "text/html": [
       "<div>\n",
       "<style scoped>\n",
       "    .dataframe tbody tr th:only-of-type {\n",
       "        vertical-align: middle;\n",
       "    }\n",
       "\n",
       "    .dataframe tbody tr th {\n",
       "        vertical-align: top;\n",
       "    }\n",
       "\n",
       "    .dataframe thead th {\n",
       "        text-align: right;\n",
       "    }\n",
       "</style>\n",
       "<table border=\"1\" class=\"dataframe\">\n",
       "  <thead>\n",
       "    <tr style=\"text-align: right;\">\n",
       "      <th></th>\n",
       "      <th>load_weight</th>\n",
       "    </tr>\n",
       "    <tr>\n",
       "      <th>report_date</th>\n",
       "      <th></th>\n",
       "    </tr>\n",
       "  </thead>\n",
       "  <tbody>\n",
       "    <tr>\n",
       "      <th>2021-01-01</th>\n",
       "      <td>45200.0</td>\n",
       "    </tr>\n",
       "    <tr>\n",
       "      <th>2021-01-02</th>\n",
       "      <td>2204030.0</td>\n",
       "    </tr>\n",
       "    <tr>\n",
       "      <th>2021-01-04</th>\n",
       "      <td>2920260.0</td>\n",
       "    </tr>\n",
       "    <tr>\n",
       "      <th>2021-01-05</th>\n",
       "      <td>2399840.0</td>\n",
       "    </tr>\n",
       "    <tr>\n",
       "      <th>2021-01-06</th>\n",
       "      <td>2453050.0</td>\n",
       "    </tr>\n",
       "    <tr>\n",
       "      <th>...</th>\n",
       "      <td>...</td>\n",
       "    </tr>\n",
       "    <tr>\n",
       "      <th>2021-07-05</th>\n",
       "      <td>1897290.0</td>\n",
       "    </tr>\n",
       "    <tr>\n",
       "      <th>2021-07-06</th>\n",
       "      <td>1989440.0</td>\n",
       "    </tr>\n",
       "    <tr>\n",
       "      <th>2021-07-07</th>\n",
       "      <td>1654780.0</td>\n",
       "    </tr>\n",
       "    <tr>\n",
       "      <th>2021-07-08</th>\n",
       "      <td>1541950.0</td>\n",
       "    </tr>\n",
       "    <tr>\n",
       "      <th>2021-07-09</th>\n",
       "      <td>176840.0</td>\n",
       "    </tr>\n",
       "  </tbody>\n",
       "</table>\n",
       "<p>166 rows × 1 columns</p>\n",
       "</div>"
      ],
      "text/plain": [
       "             load_weight\n",
       "report_date             \n",
       "2021-01-01       45200.0\n",
       "2021-01-02     2204030.0\n",
       "2021-01-04     2920260.0\n",
       "2021-01-05     2399840.0\n",
       "2021-01-06     2453050.0\n",
       "...                  ...\n",
       "2021-07-05     1897290.0\n",
       "2021-07-06     1989440.0\n",
       "2021-07-07     1654780.0\n",
       "2021-07-08     1541950.0\n",
       "2021-07-09      176840.0\n",
       "\n",
       "[166 rows x 1 columns]"
      ]
     },
     "execution_count": 38,
     "metadata": {},
     "output_type": "execute_result"
    }
   ],
   "source": [
    "weight_date = df[['report_date', 'load_weight']].groupby('report_date').sum().sort_index(ascending=True)\n",
    "index_date = weight_date.reset_index(drop=True)\n",
    "weight_date"
   ]
  },
  {
   "cell_type": "code",
   "execution_count": 39,
   "metadata": {},
   "outputs": [
    {
     "data": {
      "text/html": [
       "<div>\n",
       "<style scoped>\n",
       "    .dataframe tbody tr th:only-of-type {\n",
       "        vertical-align: middle;\n",
       "    }\n",
       "\n",
       "    .dataframe tbody tr th {\n",
       "        vertical-align: top;\n",
       "    }\n",
       "\n",
       "    .dataframe thead th {\n",
       "        text-align: right;\n",
       "    }\n",
       "</style>\n",
       "<table border=\"1\" class=\"dataframe\">\n",
       "  <thead>\n",
       "    <tr style=\"text-align: right;\">\n",
       "      <th></th>\n",
       "      <th>load_weight</th>\n",
       "      <th>velocity</th>\n",
       "      <th>forecast esok hari</th>\n",
       "    </tr>\n",
       "    <tr>\n",
       "      <th>report_date</th>\n",
       "      <th></th>\n",
       "      <th></th>\n",
       "      <th></th>\n",
       "    </tr>\n",
       "  </thead>\n",
       "  <tbody>\n",
       "    <tr>\n",
       "      <th>2021-01-01</th>\n",
       "      <td>45200.0</td>\n",
       "      <td>NaN</td>\n",
       "      <td>NaN</td>\n",
       "    </tr>\n",
       "    <tr>\n",
       "      <th>2021-01-02</th>\n",
       "      <td>2204030.0</td>\n",
       "      <td>2158830.0</td>\n",
       "      <td>4362860.0</td>\n",
       "    </tr>\n",
       "    <tr>\n",
       "      <th>2021-01-04</th>\n",
       "      <td>2920260.0</td>\n",
       "      <td>358115.0</td>\n",
       "      <td>3636490.0</td>\n",
       "    </tr>\n",
       "    <tr>\n",
       "      <th>2021-01-05</th>\n",
       "      <td>2399840.0</td>\n",
       "      <td>-520420.0</td>\n",
       "      <td>1879420.0</td>\n",
       "    </tr>\n",
       "    <tr>\n",
       "      <th>2021-01-06</th>\n",
       "      <td>2453050.0</td>\n",
       "      <td>53210.0</td>\n",
       "      <td>2506260.0</td>\n",
       "    </tr>\n",
       "    <tr>\n",
       "      <th>...</th>\n",
       "      <td>...</td>\n",
       "      <td>...</td>\n",
       "      <td>...</td>\n",
       "    </tr>\n",
       "    <tr>\n",
       "      <th>2021-07-05</th>\n",
       "      <td>1897290.0</td>\n",
       "      <td>810625.0</td>\n",
       "      <td>3518540.0</td>\n",
       "    </tr>\n",
       "    <tr>\n",
       "      <th>2021-07-06</th>\n",
       "      <td>1989440.0</td>\n",
       "      <td>92150.0</td>\n",
       "      <td>2081590.0</td>\n",
       "    </tr>\n",
       "    <tr>\n",
       "      <th>2021-07-07</th>\n",
       "      <td>1654780.0</td>\n",
       "      <td>-334660.0</td>\n",
       "      <td>1320120.0</td>\n",
       "    </tr>\n",
       "    <tr>\n",
       "      <th>2021-07-08</th>\n",
       "      <td>1541950.0</td>\n",
       "      <td>-112830.0</td>\n",
       "      <td>1429120.0</td>\n",
       "    </tr>\n",
       "    <tr>\n",
       "      <th>2021-07-09</th>\n",
       "      <td>176840.0</td>\n",
       "      <td>-1365110.0</td>\n",
       "      <td>-1188270.0</td>\n",
       "    </tr>\n",
       "  </tbody>\n",
       "</table>\n",
       "<p>166 rows × 3 columns</p>\n",
       "</div>"
      ],
      "text/plain": [
       "             load_weight   velocity  forecast esok hari\n",
       "report_date                                            \n",
       "2021-01-01       45200.0        NaN                 NaN\n",
       "2021-01-02     2204030.0  2158830.0           4362860.0\n",
       "2021-01-04     2920260.0   358115.0           3636490.0\n",
       "2021-01-05     2399840.0  -520420.0           1879420.0\n",
       "2021-01-06     2453050.0    53210.0           2506260.0\n",
       "...                  ...        ...                 ...\n",
       "2021-07-05     1897290.0   810625.0           3518540.0\n",
       "2021-07-06     1989440.0    92150.0           2081590.0\n",
       "2021-07-07     1654780.0  -334660.0           1320120.0\n",
       "2021-07-08     1541950.0  -112830.0           1429120.0\n",
       "2021-07-09      176840.0 -1365110.0          -1188270.0\n",
       "\n",
       "[166 rows x 3 columns]"
      ]
     },
     "execution_count": 39,
     "metadata": {},
     "output_type": "execute_result"
    }
   ],
   "source": [
    "# Fungsi kecepatan (velocity)\n",
    "weight_date['velocity'] = weight_date['load_weight'].diff() / weight_date.index.to_series().diff().dt.days\n",
    "# Perhitungan forecast\n",
    "weight_date['forecast esok hari'] = weight_date['load_weight'] + weight_date['velocity'] * weight_date.index.to_series().diff().dt.days\n",
    "weight_date"
   ]
  },
  {
   "attachments": {},
   "cell_type": "markdown",
   "metadata": {},
   "source": [
    "1. Untuk menghitung turunan pertama dapat digunakan metode simbolik dan numerik, untuk kasus ini, teknik apa yang kamu gunakan?\n",
    "    * Untuk kasus tersebut saya menggunakan metode numerik\n"
   ]
  },
  {
   "attachments": {},
   "cell_type": "markdown",
   "metadata": {},
   "source": [
    "2. Apakah kamu membutuhkan fungsi matematis untuk menghitung turunannya? (ya/tidak) berikan alasanmu!\n",
    "    * Tidak, karena tidak menggunakan metode simbolik"
   ]
  },
  {
   "attachments": {},
   "cell_type": "markdown",
   "metadata": {},
   "source": [
    "3. Berapa load weight yang kamu perkirakan di hari esok (10 Juli 2021)?\n",
    "    * 1188270.0"
   ]
  },
  {
   "attachments": {},
   "cell_type": "markdown",
   "metadata": {},
   "source": [
    "## Kesimpulan/ Overall Analisis"
   ]
  },
  {
   "attachments": {},
   "cell_type": "markdown",
   "metadata": {},
   "source": [
    "* Dari dataset tersebut `TDS landfill` adalah dropoff_site yang paling banyak dipakai di kota Austin. Mungkin sekiranya kepada pemerintah untuk dapat mempertimbangkan jumlah petugas yang ada di dropp off site tersebut agar petugas tidak kewalahan dalam memproses sampah\n",
    "\n",
    "* Prediksi loading sampanh ditanggal 10 Juli 2021 adalah sebesar -1188270.0"
   ]
  }
 ],
 "metadata": {
  "kernelspec": {
   "display_name": "Python 3",
   "language": "python",
   "name": "python3"
  },
  "language_info": {
   "codemirror_mode": {
    "name": "ipython",
    "version": 3
   },
   "file_extension": ".py",
   "mimetype": "text/x-python",
   "name": "python",
   "nbconvert_exporter": "python",
   "pygments_lexer": "ipython3",
   "version": "3.10.9"
  },
  "orig_nbformat": 4
 },
 "nbformat": 4,
 "nbformat_minor": 2
}
