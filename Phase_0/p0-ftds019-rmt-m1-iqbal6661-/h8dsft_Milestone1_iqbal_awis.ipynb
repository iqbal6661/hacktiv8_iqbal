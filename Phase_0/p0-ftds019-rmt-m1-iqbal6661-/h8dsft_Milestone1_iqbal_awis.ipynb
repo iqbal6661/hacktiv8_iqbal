{
 "cells": [
  {
   "attachments": {},
   "cell_type": "markdown",
   "metadata": {},
   "source": [
    "MILESTONE 1"
   ]
  },
  {
   "attachments": {},
   "cell_type": "markdown",
   "metadata": {},
   "source": [
    "# Perkenalan"
   ]
  },
  {
   "attachments": {},
   "cell_type": "markdown",
   "metadata": {},
   "source": [
    "# I. Identifikasi Masalah\n",
    "* Nama : Iqbal Awis Nurdiansyah\n",
    "* Batch : RMT-19\n",
    "\n",
    "Latar belakang : Saya adalah seorang data analis yang bekerja disalah satu liga sepakbola terbaik didunia yaitu Liga Premier Inggris , saya bertugas untuk menganalisa seluruh line up dan team yang akan bermain di Premier League Season 2017/18"
   ]
  },
  {
   "attachments": {},
   "cell_type": "markdown",
   "metadata": {},
   "source": [
    "**Objectiv**: Memberikan informasi kepada seluruh penonton tentang data pemain dan data tim yang akan bertanding di Premier League Season 2017/18"
   ]
  },
  {
   "attachments": {},
   "cell_type": "markdown",
   "metadata": {},
   "source": [
    "**Problem Statement** : \n",
    "\n",
    "\n",
    "*   Siapakah pemain dengan market value tertinggi?\n",
    "*   Tim yang memiliki rata-rata pemain market value tertinggi?\n",
    "*   Carilah club yang memiliki rata - rata pemain termuda\n",
    "*   tentukan jumlah pemain berdasarkan posisi nya\n",
    "*   pemain dengan region mana yang paling banyak bermain di Premier League ? apakah asal inggris?\n",
    "*   Uji hipotesis, apakah rata-rata nilai market value chelsea sama dengan arsenal?\n",
    "\n",
    "\n",
    "\n"
   ]
  },
  {
   "attachments": {},
   "cell_type": "markdown",
   "metadata": {},
   "source": [
    "**SMART METHOD**\n",
    "\n",
    "* **Spesific** mengetahui data pemain dan tim yang akan bermain di Premier League Seasons 2017/18\n",
    "* **Measurable** mengetahui data market value, jumlah pemain, dan asal pemain di Premier League Season 2017 / 2018\n",
    "* **Achievable** Pengolahan data menggunakan metode data wrangling atau preprocessing untuk menampilkan beberapa insight \n",
    "* **Relevant** Sebagai Seorang data analisis tentunya preprocessing data sangat membantu untuk mengolah data di Premier League\n",
    "* **Time-Bond** Penggunan data yang dibutuhkan adalah Premier League Musim 2017/18\n"
   ]
  },
  {
   "attachments": {},
   "cell_type": "markdown",
   "metadata": {},
   "source": [
    "# II. Data Loading"
   ]
  },
  {
   "attachments": {},
   "cell_type": "markdown",
   "metadata": {},
   "source": [
    "## Import Library"
   ]
  },
  {
   "cell_type": "code",
   "execution_count": 2,
   "metadata": {},
   "outputs": [],
   "source": [
    "# import library\n",
    "import pandas as pd\n",
    "import numpy as np\n",
    "from scipy.stats import ttest_ind\n",
    "import streamlit as st\n",
    "import matplotlib.pyplot as plt\n",
    "import seaborn as sns\n"
   ]
  },
  {
   "attachments": {},
   "cell_type": "markdown",
   "metadata": {},
   "source": [
    "Source datasets: `https://www.kaggle.com/datasets/mauryashubham/english-premier-league-players-dataset?datasetId=1808`"
   ]
  },
  {
   "cell_type": "code",
   "execution_count": 3,
   "metadata": {},
   "outputs": [
    {
     "data": {
      "text/html": [
       "<div>\n",
       "<style scoped>\n",
       "    .dataframe tbody tr th:only-of-type {\n",
       "        vertical-align: middle;\n",
       "    }\n",
       "\n",
       "    .dataframe tbody tr th {\n",
       "        vertical-align: top;\n",
       "    }\n",
       "\n",
       "    .dataframe thead th {\n",
       "        text-align: right;\n",
       "    }\n",
       "</style>\n",
       "<table border=\"1\" class=\"dataframe\">\n",
       "  <thead>\n",
       "    <tr style=\"text-align: right;\">\n",
       "      <th></th>\n",
       "      <th>name</th>\n",
       "      <th>club</th>\n",
       "      <th>age</th>\n",
       "      <th>position</th>\n",
       "      <th>position_cat</th>\n",
       "      <th>market_value</th>\n",
       "      <th>page_views</th>\n",
       "      <th>fpl_value</th>\n",
       "      <th>fpl_sel</th>\n",
       "      <th>fpl_points</th>\n",
       "      <th>region</th>\n",
       "      <th>nationality</th>\n",
       "      <th>new_foreign</th>\n",
       "      <th>age_cat</th>\n",
       "      <th>club_id</th>\n",
       "      <th>big_club</th>\n",
       "      <th>new_signing</th>\n",
       "    </tr>\n",
       "  </thead>\n",
       "  <tbody>\n",
       "    <tr>\n",
       "      <th>0</th>\n",
       "      <td>Alexis Sanchez</td>\n",
       "      <td>Arsenal</td>\n",
       "      <td>28</td>\n",
       "      <td>LW</td>\n",
       "      <td>1</td>\n",
       "      <td>65.0</td>\n",
       "      <td>4329</td>\n",
       "      <td>12.0</td>\n",
       "      <td>17.10%</td>\n",
       "      <td>264</td>\n",
       "      <td>3.0</td>\n",
       "      <td>Chile</td>\n",
       "      <td>0</td>\n",
       "      <td>4</td>\n",
       "      <td>1</td>\n",
       "      <td>1</td>\n",
       "      <td>0</td>\n",
       "    </tr>\n",
       "    <tr>\n",
       "      <th>1</th>\n",
       "      <td>Mesut Ozil</td>\n",
       "      <td>Arsenal</td>\n",
       "      <td>28</td>\n",
       "      <td>AM</td>\n",
       "      <td>1</td>\n",
       "      <td>50.0</td>\n",
       "      <td>4395</td>\n",
       "      <td>9.5</td>\n",
       "      <td>5.60%</td>\n",
       "      <td>167</td>\n",
       "      <td>2.0</td>\n",
       "      <td>Germany</td>\n",
       "      <td>0</td>\n",
       "      <td>4</td>\n",
       "      <td>1</td>\n",
       "      <td>1</td>\n",
       "      <td>0</td>\n",
       "    </tr>\n",
       "    <tr>\n",
       "      <th>2</th>\n",
       "      <td>Petr Cech</td>\n",
       "      <td>Arsenal</td>\n",
       "      <td>35</td>\n",
       "      <td>GK</td>\n",
       "      <td>4</td>\n",
       "      <td>7.0</td>\n",
       "      <td>1529</td>\n",
       "      <td>5.5</td>\n",
       "      <td>5.90%</td>\n",
       "      <td>134</td>\n",
       "      <td>2.0</td>\n",
       "      <td>Czech Republic</td>\n",
       "      <td>0</td>\n",
       "      <td>6</td>\n",
       "      <td>1</td>\n",
       "      <td>1</td>\n",
       "      <td>0</td>\n",
       "    </tr>\n",
       "    <tr>\n",
       "      <th>3</th>\n",
       "      <td>Theo Walcott</td>\n",
       "      <td>Arsenal</td>\n",
       "      <td>28</td>\n",
       "      <td>RW</td>\n",
       "      <td>1</td>\n",
       "      <td>20.0</td>\n",
       "      <td>2393</td>\n",
       "      <td>7.5</td>\n",
       "      <td>1.50%</td>\n",
       "      <td>122</td>\n",
       "      <td>1.0</td>\n",
       "      <td>England</td>\n",
       "      <td>0</td>\n",
       "      <td>4</td>\n",
       "      <td>1</td>\n",
       "      <td>1</td>\n",
       "      <td>0</td>\n",
       "    </tr>\n",
       "    <tr>\n",
       "      <th>4</th>\n",
       "      <td>Laurent Koscielny</td>\n",
       "      <td>Arsenal</td>\n",
       "      <td>31</td>\n",
       "      <td>CB</td>\n",
       "      <td>3</td>\n",
       "      <td>22.0</td>\n",
       "      <td>912</td>\n",
       "      <td>6.0</td>\n",
       "      <td>0.70%</td>\n",
       "      <td>121</td>\n",
       "      <td>2.0</td>\n",
       "      <td>France</td>\n",
       "      <td>0</td>\n",
       "      <td>4</td>\n",
       "      <td>1</td>\n",
       "      <td>1</td>\n",
       "      <td>0</td>\n",
       "    </tr>\n",
       "  </tbody>\n",
       "</table>\n",
       "</div>"
      ],
      "text/plain": [
       "                name     club  age position  position_cat  market_value  \\\n",
       "0     Alexis Sanchez  Arsenal   28       LW             1          65.0   \n",
       "1         Mesut Ozil  Arsenal   28       AM             1          50.0   \n",
       "2          Petr Cech  Arsenal   35       GK             4           7.0   \n",
       "3       Theo Walcott  Arsenal   28       RW             1          20.0   \n",
       "4  Laurent Koscielny  Arsenal   31       CB             3          22.0   \n",
       "\n",
       "   page_views  fpl_value fpl_sel  fpl_points  region     nationality  \\\n",
       "0        4329       12.0  17.10%         264     3.0           Chile   \n",
       "1        4395        9.5   5.60%         167     2.0         Germany   \n",
       "2        1529        5.5   5.90%         134     2.0  Czech Republic   \n",
       "3        2393        7.5   1.50%         122     1.0         England   \n",
       "4         912        6.0   0.70%         121     2.0          France   \n",
       "\n",
       "   new_foreign  age_cat  club_id  big_club  new_signing  \n",
       "0            0        4        1         1            0  \n",
       "1            0        4        1         1            0  \n",
       "2            0        6        1         1            0  \n",
       "3            0        4        1         1            0  \n",
       "4            0        4        1         1            0  "
      ]
     },
     "execution_count": 3,
     "metadata": {},
     "output_type": "execute_result"
    }
   ],
   "source": [
    "df=pd.read_csv('epldata_final.csv')\n",
    "df.head()"
   ]
  },
  {
   "cell_type": "code",
   "execution_count": 4,
   "metadata": {},
   "outputs": [
    {
     "name": "stdout",
     "output_type": "stream",
     "text": [
      "<class 'pandas.core.frame.DataFrame'>\n",
      "RangeIndex: 461 entries, 0 to 460\n",
      "Data columns (total 17 columns):\n",
      " #   Column        Non-Null Count  Dtype  \n",
      "---  ------        --------------  -----  \n",
      " 0   name          461 non-null    object \n",
      " 1   club          461 non-null    object \n",
      " 2   age           461 non-null    int64  \n",
      " 3   position      461 non-null    object \n",
      " 4   position_cat  461 non-null    int64  \n",
      " 5   market_value  461 non-null    float64\n",
      " 6   page_views    461 non-null    int64  \n",
      " 7   fpl_value     461 non-null    float64\n",
      " 8   fpl_sel       461 non-null    object \n",
      " 9   fpl_points    461 non-null    int64  \n",
      " 10  region        460 non-null    float64\n",
      " 11  nationality   461 non-null    object \n",
      " 12  new_foreign   461 non-null    int64  \n",
      " 13  age_cat       461 non-null    int64  \n",
      " 14  club_id       461 non-null    int64  \n",
      " 15  big_club      461 non-null    int64  \n",
      " 16  new_signing   461 non-null    int64  \n",
      "dtypes: float64(3), int64(9), object(5)\n",
      "memory usage: 61.4+ KB\n"
     ]
    }
   ],
   "source": [
    "df.info()"
   ]
  },
  {
   "attachments": {},
   "cell_type": "markdown",
   "metadata": {},
   "source": [
    "ini adalah dataset Roaster seluruh team Primier League Season 2017/18"
   ]
  },
  {
   "attachments": {},
   "cell_type": "markdown",
   "metadata": {},
   "source": [
    "# III. Data Cleaning"
   ]
  },
  {
   "attachments": {},
   "cell_type": "markdown",
   "metadata": {},
   "source": [
    "## Missing Value"
   ]
  },
  {
   "cell_type": "code",
   "execution_count": 5,
   "metadata": {},
   "outputs": [
    {
     "data": {
      "text/plain": [
       "name            0\n",
       "club            0\n",
       "age             0\n",
       "position        0\n",
       "position_cat    0\n",
       "market_value    0\n",
       "page_views      0\n",
       "fpl_value       0\n",
       "fpl_sel         0\n",
       "fpl_points      0\n",
       "region          1\n",
       "nationality     0\n",
       "new_foreign     0\n",
       "age_cat         0\n",
       "club_id         0\n",
       "big_club        0\n",
       "new_signing     0\n",
       "dtype: int64"
      ]
     },
     "execution_count": 5,
     "metadata": {},
     "output_type": "execute_result"
    }
   ],
   "source": [
    "#Cek Missing value\n",
    "df.isnull().sum()"
   ]
  },
  {
   "attachments": {},
   "cell_type": "markdown",
   "metadata": {},
   "source": [
    "terdapat missing value pada kolom region"
   ]
  },
  {
   "cell_type": "code",
   "execution_count": 6,
   "metadata": {},
   "outputs": [
    {
     "name": "stdout",
     "output_type": "stream",
     "text": [
      "             name          club  age position  position_cat  market_value  \\\n",
      "188  Steve Mounie  Huddersfield   22       CF             1           5.5   \n",
      "\n",
      "     page_views  fpl_value fpl_sel  fpl_points  region nationality  \\\n",
      "188          56        6.0   0.60%           0     NaN       Benin   \n",
      "\n",
      "     new_foreign  age_cat  club_id  big_club  new_signing  \n",
      "188            0        2        8         0            0  \n"
     ]
    }
   ],
   "source": [
    "# memilih baris yang memiliki nilai yang hilang pada kolom 'region'\n",
    "missing_values = df.loc[df['region'].isna()]\n",
    "print(missing_values)"
   ]
  },
  {
   "attachments": {},
   "cell_type": "markdown",
   "metadata": {},
   "source": [
    "terdapat missing value pada `region` dengan pemain bernama \"Steve Mounie\""
   ]
  },
  {
   "cell_type": "code",
   "execution_count": 7,
   "metadata": {},
   "outputs": [],
   "source": [
    "# mengisi nilai yang hilang pada kolom 'region' dengan nilai 'Rest of World'\n",
    "df['region'] = df['region'].fillna('Rest Of World')"
   ]
  },
  {
   "attachments": {},
   "cell_type": "markdown",
   "metadata": {},
   "source": [
    "mengisi `region` pemain bernama Steve Mounie dengan value \"Rest Of World\" karena pemain tersebut berasal dari negara Benin. Diluar Inggirs, Uni Eropa dan America"
   ]
  },
  {
   "cell_type": "code",
   "execution_count": 8,
   "metadata": {},
   "outputs": [
    {
     "data": {
      "text/plain": [
       "name            0\n",
       "club            0\n",
       "age             0\n",
       "position        0\n",
       "position_cat    0\n",
       "market_value    0\n",
       "page_views      0\n",
       "fpl_value       0\n",
       "fpl_sel         0\n",
       "fpl_points      0\n",
       "region          0\n",
       "nationality     0\n",
       "new_foreign     0\n",
       "age_cat         0\n",
       "club_id         0\n",
       "big_club        0\n",
       "new_signing     0\n",
       "dtype: int64"
      ]
     },
     "execution_count": 8,
     "metadata": {},
     "output_type": "execute_result"
    }
   ],
   "source": [
    "df.isnull().sum()"
   ]
  },
  {
   "attachments": {},
   "cell_type": "markdown",
   "metadata": {},
   "source": [
    "Data sudah bersih dari missing value"
   ]
  },
  {
   "attachments": {},
   "cell_type": "markdown",
   "metadata": {},
   "source": [
    "## Drop Coloumn"
   ]
  },
  {
   "cell_type": "code",
   "execution_count": 9,
   "metadata": {},
   "outputs": [
    {
     "data": {
      "text/html": [
       "<div>\n",
       "<style scoped>\n",
       "    .dataframe tbody tr th:only-of-type {\n",
       "        vertical-align: middle;\n",
       "    }\n",
       "\n",
       "    .dataframe tbody tr th {\n",
       "        vertical-align: top;\n",
       "    }\n",
       "\n",
       "    .dataframe thead th {\n",
       "        text-align: right;\n",
       "    }\n",
       "</style>\n",
       "<table border=\"1\" class=\"dataframe\">\n",
       "  <thead>\n",
       "    <tr style=\"text-align: right;\">\n",
       "      <th></th>\n",
       "      <th>name</th>\n",
       "      <th>club</th>\n",
       "      <th>age</th>\n",
       "      <th>position</th>\n",
       "      <th>position_cat</th>\n",
       "      <th>market_value</th>\n",
       "      <th>page_views</th>\n",
       "      <th>fpl_value</th>\n",
       "      <th>fpl_sel</th>\n",
       "      <th>fpl_points</th>\n",
       "      <th>region</th>\n",
       "      <th>nationality</th>\n",
       "    </tr>\n",
       "  </thead>\n",
       "  <tbody>\n",
       "    <tr>\n",
       "      <th>0</th>\n",
       "      <td>Alexis Sanchez</td>\n",
       "      <td>Arsenal</td>\n",
       "      <td>28</td>\n",
       "      <td>LW</td>\n",
       "      <td>1</td>\n",
       "      <td>65.0</td>\n",
       "      <td>4329</td>\n",
       "      <td>12.0</td>\n",
       "      <td>17.10%</td>\n",
       "      <td>264</td>\n",
       "      <td>3.0</td>\n",
       "      <td>Chile</td>\n",
       "    </tr>\n",
       "    <tr>\n",
       "      <th>1</th>\n",
       "      <td>Mesut Ozil</td>\n",
       "      <td>Arsenal</td>\n",
       "      <td>28</td>\n",
       "      <td>AM</td>\n",
       "      <td>1</td>\n",
       "      <td>50.0</td>\n",
       "      <td>4395</td>\n",
       "      <td>9.5</td>\n",
       "      <td>5.60%</td>\n",
       "      <td>167</td>\n",
       "      <td>2.0</td>\n",
       "      <td>Germany</td>\n",
       "    </tr>\n",
       "    <tr>\n",
       "      <th>2</th>\n",
       "      <td>Petr Cech</td>\n",
       "      <td>Arsenal</td>\n",
       "      <td>35</td>\n",
       "      <td>GK</td>\n",
       "      <td>4</td>\n",
       "      <td>7.0</td>\n",
       "      <td>1529</td>\n",
       "      <td>5.5</td>\n",
       "      <td>5.90%</td>\n",
       "      <td>134</td>\n",
       "      <td>2.0</td>\n",
       "      <td>Czech Republic</td>\n",
       "    </tr>\n",
       "    <tr>\n",
       "      <th>3</th>\n",
       "      <td>Theo Walcott</td>\n",
       "      <td>Arsenal</td>\n",
       "      <td>28</td>\n",
       "      <td>RW</td>\n",
       "      <td>1</td>\n",
       "      <td>20.0</td>\n",
       "      <td>2393</td>\n",
       "      <td>7.5</td>\n",
       "      <td>1.50%</td>\n",
       "      <td>122</td>\n",
       "      <td>1.0</td>\n",
       "      <td>England</td>\n",
       "    </tr>\n",
       "    <tr>\n",
       "      <th>4</th>\n",
       "      <td>Laurent Koscielny</td>\n",
       "      <td>Arsenal</td>\n",
       "      <td>31</td>\n",
       "      <td>CB</td>\n",
       "      <td>3</td>\n",
       "      <td>22.0</td>\n",
       "      <td>912</td>\n",
       "      <td>6.0</td>\n",
       "      <td>0.70%</td>\n",
       "      <td>121</td>\n",
       "      <td>2.0</td>\n",
       "      <td>France</td>\n",
       "    </tr>\n",
       "    <tr>\n",
       "      <th>...</th>\n",
       "      <td>...</td>\n",
       "      <td>...</td>\n",
       "      <td>...</td>\n",
       "      <td>...</td>\n",
       "      <td>...</td>\n",
       "      <td>...</td>\n",
       "      <td>...</td>\n",
       "      <td>...</td>\n",
       "      <td>...</td>\n",
       "      <td>...</td>\n",
       "      <td>...</td>\n",
       "      <td>...</td>\n",
       "    </tr>\n",
       "    <tr>\n",
       "      <th>456</th>\n",
       "      <td>Edimilson Fernandes</td>\n",
       "      <td>West+Ham</td>\n",
       "      <td>21</td>\n",
       "      <td>CM</td>\n",
       "      <td>2</td>\n",
       "      <td>5.0</td>\n",
       "      <td>288</td>\n",
       "      <td>4.5</td>\n",
       "      <td>0.40%</td>\n",
       "      <td>38</td>\n",
       "      <td>2.0</td>\n",
       "      <td>Switzerland</td>\n",
       "    </tr>\n",
       "    <tr>\n",
       "      <th>457</th>\n",
       "      <td>Arthur Masuaku</td>\n",
       "      <td>West+Ham</td>\n",
       "      <td>23</td>\n",
       "      <td>LB</td>\n",
       "      <td>3</td>\n",
       "      <td>7.0</td>\n",
       "      <td>199</td>\n",
       "      <td>4.5</td>\n",
       "      <td>0.20%</td>\n",
       "      <td>34</td>\n",
       "      <td>4.0</td>\n",
       "      <td>Congo DR</td>\n",
       "    </tr>\n",
       "    <tr>\n",
       "      <th>458</th>\n",
       "      <td>Sam Byram</td>\n",
       "      <td>West+Ham</td>\n",
       "      <td>23</td>\n",
       "      <td>RB</td>\n",
       "      <td>3</td>\n",
       "      <td>4.5</td>\n",
       "      <td>198</td>\n",
       "      <td>4.5</td>\n",
       "      <td>0.30%</td>\n",
       "      <td>29</td>\n",
       "      <td>1.0</td>\n",
       "      <td>England</td>\n",
       "    </tr>\n",
       "    <tr>\n",
       "      <th>459</th>\n",
       "      <td>Ashley Fletcher</td>\n",
       "      <td>West+Ham</td>\n",
       "      <td>21</td>\n",
       "      <td>CF</td>\n",
       "      <td>1</td>\n",
       "      <td>1.0</td>\n",
       "      <td>412</td>\n",
       "      <td>4.5</td>\n",
       "      <td>5.90%</td>\n",
       "      <td>16</td>\n",
       "      <td>1.0</td>\n",
       "      <td>England</td>\n",
       "    </tr>\n",
       "    <tr>\n",
       "      <th>460</th>\n",
       "      <td>Diafra Sakho</td>\n",
       "      <td>West+Ham</td>\n",
       "      <td>27</td>\n",
       "      <td>CF</td>\n",
       "      <td>1</td>\n",
       "      <td>10.0</td>\n",
       "      <td>214</td>\n",
       "      <td>5.5</td>\n",
       "      <td>0.10%</td>\n",
       "      <td>12</td>\n",
       "      <td>4.0</td>\n",
       "      <td>Senegal</td>\n",
       "    </tr>\n",
       "  </tbody>\n",
       "</table>\n",
       "<p>461 rows × 12 columns</p>\n",
       "</div>"
      ],
      "text/plain": [
       "                    name      club  age position  position_cat  market_value  \\\n",
       "0         Alexis Sanchez   Arsenal   28       LW             1          65.0   \n",
       "1             Mesut Ozil   Arsenal   28       AM             1          50.0   \n",
       "2              Petr Cech   Arsenal   35       GK             4           7.0   \n",
       "3           Theo Walcott   Arsenal   28       RW             1          20.0   \n",
       "4      Laurent Koscielny   Arsenal   31       CB             3          22.0   \n",
       "..                   ...       ...  ...      ...           ...           ...   \n",
       "456  Edimilson Fernandes  West+Ham   21       CM             2           5.0   \n",
       "457       Arthur Masuaku  West+Ham   23       LB             3           7.0   \n",
       "458            Sam Byram  West+Ham   23       RB             3           4.5   \n",
       "459      Ashley Fletcher  West+Ham   21       CF             1           1.0   \n",
       "460         Diafra Sakho  West+Ham   27       CF             1          10.0   \n",
       "\n",
       "     page_views  fpl_value fpl_sel  fpl_points region     nationality  \n",
       "0          4329       12.0  17.10%         264    3.0           Chile  \n",
       "1          4395        9.5   5.60%         167    2.0         Germany  \n",
       "2          1529        5.5   5.90%         134    2.0  Czech Republic  \n",
       "3          2393        7.5   1.50%         122    1.0         England  \n",
       "4           912        6.0   0.70%         121    2.0          France  \n",
       "..          ...        ...     ...         ...    ...             ...  \n",
       "456         288        4.5   0.40%          38    2.0     Switzerland  \n",
       "457         199        4.5   0.20%          34    4.0        Congo DR  \n",
       "458         198        4.5   0.30%          29    1.0         England  \n",
       "459         412        4.5   5.90%          16    1.0         England  \n",
       "460         214        5.5   0.10%          12    4.0         Senegal  \n",
       "\n",
       "[461 rows x 12 columns]"
      ]
     },
     "execution_count": 9,
     "metadata": {},
     "output_type": "execute_result"
    }
   ],
   "source": [
    "#drop table\n",
    "df_drop = df.drop(['new_foreign', 'age_cat', 'club_id', 'big_club', 'new_signing'], axis=1)\n",
    "df_drop"
   ]
  },
  {
   "attachments": {},
   "cell_type": "markdown",
   "metadata": {},
   "source": [
    "drop kolom 'new_foreign', 'age_cat', 'club_id', 'big_club', 'new_signing' karena tidak akan dibutuhkan dalam Problem Statement"
   ]
  },
  {
   "attachments": {},
   "cell_type": "markdown",
   "metadata": {},
   "source": [
    "## Manipulasi Data"
   ]
  },
  {
   "cell_type": "code",
   "execution_count": 10,
   "metadata": {},
   "outputs": [
    {
     "name": "stdout",
     "output_type": "stream",
     "text": [
      "<class 'pandas.core.frame.DataFrame'>\n",
      "RangeIndex: 461 entries, 0 to 460\n",
      "Data columns (total 12 columns):\n",
      " #   Column        Non-Null Count  Dtype  \n",
      "---  ------        --------------  -----  \n",
      " 0   name          461 non-null    object \n",
      " 1   club          461 non-null    object \n",
      " 2   age           461 non-null    int64  \n",
      " 3   position      461 non-null    object \n",
      " 4   position_cat  461 non-null    object \n",
      " 5   market_value  461 non-null    float64\n",
      " 6   page_views    461 non-null    int64  \n",
      " 7   fpl_value     461 non-null    float64\n",
      " 8   fpl_sel       461 non-null    object \n",
      " 9   fpl_points    461 non-null    int64  \n",
      " 10  region        461 non-null    object \n",
      " 11  nationality   461 non-null    object \n",
      "dtypes: float64(2), int64(3), object(7)\n",
      "memory usage: 43.3+ KB\n"
     ]
    }
   ],
   "source": [
    "#Manipulasi data\n",
    "df_drop['position_cat']=df_drop['position_cat'].astype(str)\n",
    "df_drop['region']=df_drop['region'].astype(str)\n",
    "df_drop.info()"
   ]
  },
  {
   "attachments": {},
   "cell_type": "markdown",
   "metadata": {},
   "source": [
    "Kolom `position_cat` dan `region` dirubah kedalam bentuk string agar dapat dirubah value nya menjadi informasi yang lebih jelas"
   ]
  },
  {
   "attachments": {},
   "cell_type": "markdown",
   "metadata": {},
   "source": [
    "## Manipulasi value"
   ]
  },
  {
   "cell_type": "code",
   "execution_count": 11,
   "metadata": {},
   "outputs": [
    {
     "data": {
      "text/html": [
       "<div>\n",
       "<style scoped>\n",
       "    .dataframe tbody tr th:only-of-type {\n",
       "        vertical-align: middle;\n",
       "    }\n",
       "\n",
       "    .dataframe tbody tr th {\n",
       "        vertical-align: top;\n",
       "    }\n",
       "\n",
       "    .dataframe thead th {\n",
       "        text-align: right;\n",
       "    }\n",
       "</style>\n",
       "<table border=\"1\" class=\"dataframe\">\n",
       "  <thead>\n",
       "    <tr style=\"text-align: right;\">\n",
       "      <th></th>\n",
       "      <th>name</th>\n",
       "      <th>club</th>\n",
       "      <th>age</th>\n",
       "      <th>position</th>\n",
       "      <th>position_cat</th>\n",
       "      <th>market_value</th>\n",
       "      <th>page_views</th>\n",
       "      <th>fpl_value</th>\n",
       "      <th>fpl_sel</th>\n",
       "      <th>fpl_points</th>\n",
       "      <th>region</th>\n",
       "      <th>nationality</th>\n",
       "    </tr>\n",
       "  </thead>\n",
       "  <tbody>\n",
       "    <tr>\n",
       "      <th>0</th>\n",
       "      <td>Alexis Sanchez</td>\n",
       "      <td>Arsenal</td>\n",
       "      <td>28</td>\n",
       "      <td>LW</td>\n",
       "      <td>attacker</td>\n",
       "      <td>65.0</td>\n",
       "      <td>4329</td>\n",
       "      <td>12.0</td>\n",
       "      <td>17.10%</td>\n",
       "      <td>264</td>\n",
       "      <td>Americas</td>\n",
       "      <td>Chile</td>\n",
       "    </tr>\n",
       "    <tr>\n",
       "      <th>1</th>\n",
       "      <td>Mesut Ozil</td>\n",
       "      <td>Arsenal</td>\n",
       "      <td>28</td>\n",
       "      <td>AM</td>\n",
       "      <td>attacker</td>\n",
       "      <td>50.0</td>\n",
       "      <td>4395</td>\n",
       "      <td>9.5</td>\n",
       "      <td>5.60%</td>\n",
       "      <td>167</td>\n",
       "      <td>EU</td>\n",
       "      <td>Germany</td>\n",
       "    </tr>\n",
       "    <tr>\n",
       "      <th>2</th>\n",
       "      <td>Petr Cech</td>\n",
       "      <td>Arsenal</td>\n",
       "      <td>35</td>\n",
       "      <td>GK</td>\n",
       "      <td>goalkeeper</td>\n",
       "      <td>7.0</td>\n",
       "      <td>1529</td>\n",
       "      <td>5.5</td>\n",
       "      <td>5.90%</td>\n",
       "      <td>134</td>\n",
       "      <td>EU</td>\n",
       "      <td>Czech Republic</td>\n",
       "    </tr>\n",
       "    <tr>\n",
       "      <th>3</th>\n",
       "      <td>Theo Walcott</td>\n",
       "      <td>Arsenal</td>\n",
       "      <td>28</td>\n",
       "      <td>RW</td>\n",
       "      <td>attacker</td>\n",
       "      <td>20.0</td>\n",
       "      <td>2393</td>\n",
       "      <td>7.5</td>\n",
       "      <td>1.50%</td>\n",
       "      <td>122</td>\n",
       "      <td>England</td>\n",
       "      <td>England</td>\n",
       "    </tr>\n",
       "    <tr>\n",
       "      <th>4</th>\n",
       "      <td>Laurent Koscielny</td>\n",
       "      <td>Arsenal</td>\n",
       "      <td>31</td>\n",
       "      <td>CB</td>\n",
       "      <td>defender</td>\n",
       "      <td>22.0</td>\n",
       "      <td>912</td>\n",
       "      <td>6.0</td>\n",
       "      <td>0.70%</td>\n",
       "      <td>121</td>\n",
       "      <td>EU</td>\n",
       "      <td>France</td>\n",
       "    </tr>\n",
       "    <tr>\n",
       "      <th>...</th>\n",
       "      <td>...</td>\n",
       "      <td>...</td>\n",
       "      <td>...</td>\n",
       "      <td>...</td>\n",
       "      <td>...</td>\n",
       "      <td>...</td>\n",
       "      <td>...</td>\n",
       "      <td>...</td>\n",
       "      <td>...</td>\n",
       "      <td>...</td>\n",
       "      <td>...</td>\n",
       "      <td>...</td>\n",
       "    </tr>\n",
       "    <tr>\n",
       "      <th>456</th>\n",
       "      <td>Edimilson Fernandes</td>\n",
       "      <td>West+Ham</td>\n",
       "      <td>21</td>\n",
       "      <td>CM</td>\n",
       "      <td>midfielder</td>\n",
       "      <td>5.0</td>\n",
       "      <td>288</td>\n",
       "      <td>4.5</td>\n",
       "      <td>0.40%</td>\n",
       "      <td>38</td>\n",
       "      <td>EU</td>\n",
       "      <td>Switzerland</td>\n",
       "    </tr>\n",
       "    <tr>\n",
       "      <th>457</th>\n",
       "      <td>Arthur Masuaku</td>\n",
       "      <td>West+Ham</td>\n",
       "      <td>23</td>\n",
       "      <td>LB</td>\n",
       "      <td>defender</td>\n",
       "      <td>7.0</td>\n",
       "      <td>199</td>\n",
       "      <td>4.5</td>\n",
       "      <td>0.20%</td>\n",
       "      <td>34</td>\n",
       "      <td>Rest Of World</td>\n",
       "      <td>Congo DR</td>\n",
       "    </tr>\n",
       "    <tr>\n",
       "      <th>458</th>\n",
       "      <td>Sam Byram</td>\n",
       "      <td>West+Ham</td>\n",
       "      <td>23</td>\n",
       "      <td>RB</td>\n",
       "      <td>defender</td>\n",
       "      <td>4.5</td>\n",
       "      <td>198</td>\n",
       "      <td>4.5</td>\n",
       "      <td>0.30%</td>\n",
       "      <td>29</td>\n",
       "      <td>England</td>\n",
       "      <td>England</td>\n",
       "    </tr>\n",
       "    <tr>\n",
       "      <th>459</th>\n",
       "      <td>Ashley Fletcher</td>\n",
       "      <td>West+Ham</td>\n",
       "      <td>21</td>\n",
       "      <td>CF</td>\n",
       "      <td>attacker</td>\n",
       "      <td>1.0</td>\n",
       "      <td>412</td>\n",
       "      <td>4.5</td>\n",
       "      <td>5.90%</td>\n",
       "      <td>16</td>\n",
       "      <td>England</td>\n",
       "      <td>England</td>\n",
       "    </tr>\n",
       "    <tr>\n",
       "      <th>460</th>\n",
       "      <td>Diafra Sakho</td>\n",
       "      <td>West+Ham</td>\n",
       "      <td>27</td>\n",
       "      <td>CF</td>\n",
       "      <td>attacker</td>\n",
       "      <td>10.0</td>\n",
       "      <td>214</td>\n",
       "      <td>5.5</td>\n",
       "      <td>0.10%</td>\n",
       "      <td>12</td>\n",
       "      <td>Rest Of World</td>\n",
       "      <td>Senegal</td>\n",
       "    </tr>\n",
       "  </tbody>\n",
       "</table>\n",
       "<p>461 rows × 12 columns</p>\n",
       "</div>"
      ],
      "text/plain": [
       "                    name      club  age position position_cat  market_value  \\\n",
       "0         Alexis Sanchez   Arsenal   28       LW     attacker          65.0   \n",
       "1             Mesut Ozil   Arsenal   28       AM     attacker          50.0   \n",
       "2              Petr Cech   Arsenal   35       GK   goalkeeper           7.0   \n",
       "3           Theo Walcott   Arsenal   28       RW     attacker          20.0   \n",
       "4      Laurent Koscielny   Arsenal   31       CB     defender          22.0   \n",
       "..                   ...       ...  ...      ...          ...           ...   \n",
       "456  Edimilson Fernandes  West+Ham   21       CM   midfielder           5.0   \n",
       "457       Arthur Masuaku  West+Ham   23       LB     defender           7.0   \n",
       "458            Sam Byram  West+Ham   23       RB     defender           4.5   \n",
       "459      Ashley Fletcher  West+Ham   21       CF     attacker           1.0   \n",
       "460         Diafra Sakho  West+Ham   27       CF     attacker          10.0   \n",
       "\n",
       "     page_views  fpl_value fpl_sel  fpl_points         region     nationality  \n",
       "0          4329       12.0  17.10%         264       Americas           Chile  \n",
       "1          4395        9.5   5.60%         167             EU         Germany  \n",
       "2          1529        5.5   5.90%         134             EU  Czech Republic  \n",
       "3          2393        7.5   1.50%         122        England         England  \n",
       "4           912        6.0   0.70%         121             EU          France  \n",
       "..          ...        ...     ...         ...            ...             ...  \n",
       "456         288        4.5   0.40%          38             EU     Switzerland  \n",
       "457         199        4.5   0.20%          34  Rest Of World        Congo DR  \n",
       "458         198        4.5   0.30%          29        England         England  \n",
       "459         412        4.5   5.90%          16        England         England  \n",
       "460         214        5.5   0.10%          12  Rest Of World         Senegal  \n",
       "\n",
       "[461 rows x 12 columns]"
      ]
     },
     "execution_count": 11,
     "metadata": {},
     "output_type": "execute_result"
    }
   ],
   "source": [
    "#update value kolom position_cat\n",
    "df_drop['position_cat'] = df_drop['position_cat'].replace({'1': 'attacker', '2': 'midfielder', '3': 'defender', '4': 'goalkeeper'})\n",
    "\n",
    "#update value kolom region\n",
    "df_drop['region'] = df_drop['region'].replace({'1.0': 'England', '2.0': 'EU', '3.0': 'Americas', '4.0': 'Rest Of World'})\n",
    "df_drop"
   ]
  },
  {
   "attachments": {},
   "cell_type": "markdown",
   "metadata": {},
   "source": [
    "pada kolom position_cat dirubah menjadi : \n",
    "\n",
    "* 1=attacker,\n",
    "* 2=midfilder,\n",
    "* 3=defender,\n",
    "* 4=goalkeeper\n",
    "\n",
    "pada kolom region :\n",
    "\n",
    "* 1.0 = England\n",
    "* 2.0 = EU\n",
    "* 3.0 = Americas\n",
    "* 4.0 = Rest Of World\n",
    "\n",
    "data dirubah dengan maksud agar data terlihat lebih jelas ketika divisualisasikan\n",
    "dan data siap diexplorasi sesuai dengan problem statement"
   ]
  },
  {
   "cell_type": "code",
   "execution_count": 12,
   "metadata": {},
   "outputs": [
    {
     "data": {
      "text/html": [
       "<div>\n",
       "<style scoped>\n",
       "    .dataframe tbody tr th:only-of-type {\n",
       "        vertical-align: middle;\n",
       "    }\n",
       "\n",
       "    .dataframe tbody tr th {\n",
       "        vertical-align: top;\n",
       "    }\n",
       "\n",
       "    .dataframe thead th {\n",
       "        text-align: right;\n",
       "    }\n",
       "</style>\n",
       "<table border=\"1\" class=\"dataframe\">\n",
       "  <thead>\n",
       "    <tr style=\"text-align: right;\">\n",
       "      <th></th>\n",
       "      <th>name</th>\n",
       "      <th>club</th>\n",
       "      <th>age</th>\n",
       "      <th>position</th>\n",
       "      <th>position_cat</th>\n",
       "      <th>market_value</th>\n",
       "      <th>page_views</th>\n",
       "      <th>fpl_value</th>\n",
       "      <th>fpl_sel</th>\n",
       "      <th>fpl_points</th>\n",
       "      <th>region</th>\n",
       "      <th>nationality</th>\n",
       "    </tr>\n",
       "  </thead>\n",
       "  <tbody>\n",
       "    <tr>\n",
       "      <th>0</th>\n",
       "      <td>Alexis Sanchez</td>\n",
       "      <td>Arsenal</td>\n",
       "      <td>28</td>\n",
       "      <td>LW</td>\n",
       "      <td>attacker</td>\n",
       "      <td>65.0</td>\n",
       "      <td>4329</td>\n",
       "      <td>12.0</td>\n",
       "      <td>17.10%</td>\n",
       "      <td>264</td>\n",
       "      <td>Americas</td>\n",
       "      <td>Chile</td>\n",
       "    </tr>\n",
       "    <tr>\n",
       "      <th>1</th>\n",
       "      <td>Mesut Ozil</td>\n",
       "      <td>Arsenal</td>\n",
       "      <td>28</td>\n",
       "      <td>AM</td>\n",
       "      <td>attacker</td>\n",
       "      <td>50.0</td>\n",
       "      <td>4395</td>\n",
       "      <td>9.5</td>\n",
       "      <td>5.60%</td>\n",
       "      <td>167</td>\n",
       "      <td>EU</td>\n",
       "      <td>Germany</td>\n",
       "    </tr>\n",
       "    <tr>\n",
       "      <th>2</th>\n",
       "      <td>Petr Cech</td>\n",
       "      <td>Arsenal</td>\n",
       "      <td>35</td>\n",
       "      <td>GK</td>\n",
       "      <td>goalkeeper</td>\n",
       "      <td>7.0</td>\n",
       "      <td>1529</td>\n",
       "      <td>5.5</td>\n",
       "      <td>5.90%</td>\n",
       "      <td>134</td>\n",
       "      <td>EU</td>\n",
       "      <td>Czech Republic</td>\n",
       "    </tr>\n",
       "    <tr>\n",
       "      <th>3</th>\n",
       "      <td>Theo Walcott</td>\n",
       "      <td>Arsenal</td>\n",
       "      <td>28</td>\n",
       "      <td>RW</td>\n",
       "      <td>attacker</td>\n",
       "      <td>20.0</td>\n",
       "      <td>2393</td>\n",
       "      <td>7.5</td>\n",
       "      <td>1.50%</td>\n",
       "      <td>122</td>\n",
       "      <td>England</td>\n",
       "      <td>England</td>\n",
       "    </tr>\n",
       "    <tr>\n",
       "      <th>4</th>\n",
       "      <td>Laurent Koscielny</td>\n",
       "      <td>Arsenal</td>\n",
       "      <td>31</td>\n",
       "      <td>CB</td>\n",
       "      <td>defender</td>\n",
       "      <td>22.0</td>\n",
       "      <td>912</td>\n",
       "      <td>6.0</td>\n",
       "      <td>0.70%</td>\n",
       "      <td>121</td>\n",
       "      <td>EU</td>\n",
       "      <td>France</td>\n",
       "    </tr>\n",
       "    <tr>\n",
       "      <th>...</th>\n",
       "      <td>...</td>\n",
       "      <td>...</td>\n",
       "      <td>...</td>\n",
       "      <td>...</td>\n",
       "      <td>...</td>\n",
       "      <td>...</td>\n",
       "      <td>...</td>\n",
       "      <td>...</td>\n",
       "      <td>...</td>\n",
       "      <td>...</td>\n",
       "      <td>...</td>\n",
       "      <td>...</td>\n",
       "    </tr>\n",
       "    <tr>\n",
       "      <th>456</th>\n",
       "      <td>Edimilson Fernandes</td>\n",
       "      <td>West+Ham</td>\n",
       "      <td>21</td>\n",
       "      <td>CM</td>\n",
       "      <td>midfielder</td>\n",
       "      <td>5.0</td>\n",
       "      <td>288</td>\n",
       "      <td>4.5</td>\n",
       "      <td>0.40%</td>\n",
       "      <td>38</td>\n",
       "      <td>EU</td>\n",
       "      <td>Switzerland</td>\n",
       "    </tr>\n",
       "    <tr>\n",
       "      <th>457</th>\n",
       "      <td>Arthur Masuaku</td>\n",
       "      <td>West+Ham</td>\n",
       "      <td>23</td>\n",
       "      <td>LB</td>\n",
       "      <td>defender</td>\n",
       "      <td>7.0</td>\n",
       "      <td>199</td>\n",
       "      <td>4.5</td>\n",
       "      <td>0.20%</td>\n",
       "      <td>34</td>\n",
       "      <td>Rest Of World</td>\n",
       "      <td>Congo DR</td>\n",
       "    </tr>\n",
       "    <tr>\n",
       "      <th>458</th>\n",
       "      <td>Sam Byram</td>\n",
       "      <td>West+Ham</td>\n",
       "      <td>23</td>\n",
       "      <td>RB</td>\n",
       "      <td>defender</td>\n",
       "      <td>4.5</td>\n",
       "      <td>198</td>\n",
       "      <td>4.5</td>\n",
       "      <td>0.30%</td>\n",
       "      <td>29</td>\n",
       "      <td>England</td>\n",
       "      <td>England</td>\n",
       "    </tr>\n",
       "    <tr>\n",
       "      <th>459</th>\n",
       "      <td>Ashley Fletcher</td>\n",
       "      <td>West+Ham</td>\n",
       "      <td>21</td>\n",
       "      <td>CF</td>\n",
       "      <td>attacker</td>\n",
       "      <td>1.0</td>\n",
       "      <td>412</td>\n",
       "      <td>4.5</td>\n",
       "      <td>5.90%</td>\n",
       "      <td>16</td>\n",
       "      <td>England</td>\n",
       "      <td>England</td>\n",
       "    </tr>\n",
       "    <tr>\n",
       "      <th>460</th>\n",
       "      <td>Diafra Sakho</td>\n",
       "      <td>West+Ham</td>\n",
       "      <td>27</td>\n",
       "      <td>CF</td>\n",
       "      <td>attacker</td>\n",
       "      <td>10.0</td>\n",
       "      <td>214</td>\n",
       "      <td>5.5</td>\n",
       "      <td>0.10%</td>\n",
       "      <td>12</td>\n",
       "      <td>Rest Of World</td>\n",
       "      <td>Senegal</td>\n",
       "    </tr>\n",
       "  </tbody>\n",
       "</table>\n",
       "<p>461 rows × 12 columns</p>\n",
       "</div>"
      ],
      "text/plain": [
       "                    name      club  age position position_cat  market_value  \\\n",
       "0         Alexis Sanchez   Arsenal   28       LW     attacker          65.0   \n",
       "1             Mesut Ozil   Arsenal   28       AM     attacker          50.0   \n",
       "2              Petr Cech   Arsenal   35       GK   goalkeeper           7.0   \n",
       "3           Theo Walcott   Arsenal   28       RW     attacker          20.0   \n",
       "4      Laurent Koscielny   Arsenal   31       CB     defender          22.0   \n",
       "..                   ...       ...  ...      ...          ...           ...   \n",
       "456  Edimilson Fernandes  West+Ham   21       CM   midfielder           5.0   \n",
       "457       Arthur Masuaku  West+Ham   23       LB     defender           7.0   \n",
       "458            Sam Byram  West+Ham   23       RB     defender           4.5   \n",
       "459      Ashley Fletcher  West+Ham   21       CF     attacker           1.0   \n",
       "460         Diafra Sakho  West+Ham   27       CF     attacker          10.0   \n",
       "\n",
       "     page_views  fpl_value fpl_sel  fpl_points         region     nationality  \n",
       "0          4329       12.0  17.10%         264       Americas           Chile  \n",
       "1          4395        9.5   5.60%         167             EU         Germany  \n",
       "2          1529        5.5   5.90%         134             EU  Czech Republic  \n",
       "3          2393        7.5   1.50%         122        England         England  \n",
       "4           912        6.0   0.70%         121             EU          France  \n",
       "..          ...        ...     ...         ...            ...             ...  \n",
       "456         288        4.5   0.40%          38             EU     Switzerland  \n",
       "457         199        4.5   0.20%          34  Rest Of World        Congo DR  \n",
       "458         198        4.5   0.30%          29        England         England  \n",
       "459         412        4.5   5.90%          16        England         England  \n",
       "460         214        5.5   0.10%          12  Rest Of World         Senegal  \n",
       "\n",
       "[461 rows x 12 columns]"
      ]
     },
     "execution_count": 12,
     "metadata": {},
     "output_type": "execute_result"
    }
   ],
   "source": [
    "clean_data=df_drop\n",
    "clean_data"
   ]
  },
  {
   "attachments": {},
   "cell_type": "markdown",
   "metadata": {},
   "source": [
    "* name: Nama Pemain\n",
    "* club: Nama Club\n",
    "* age : Umur Player\n",
    "* position : posisi bermain\n",
    "* position_cat : katagori posisi\n",
    "* market_value : nilai jual pemain dalam (juta Pounds)\n",
    "* page_views : rata-rata dicari di website wikipedia\n",
    "* fpl_value : nilai di aplikasi fantasy premier league\n",
    "* fpl_sel : persentase terpilih di skuad inti\n",
    "* fpl_points : point fpl diambil dari season sebelumnya\n",
    "* region: asal region pemain\n",
    "* nationality : player nationality\n"
   ]
  },
  {
   "attachments": {},
   "cell_type": "markdown",
   "metadata": {},
   "source": [
    "# IV. Analisis & Perhitungan"
   ]
  },
  {
   "attachments": {},
   "cell_type": "markdown",
   "metadata": {},
   "source": [
    "# 1. Siapakah  pemain dengan market value tertinggi?"
   ]
  },
  {
   "cell_type": "code",
   "execution_count": 13,
   "metadata": {},
   "outputs": [
    {
     "data": {
      "text/html": [
       "<div>\n",
       "<style scoped>\n",
       "    .dataframe tbody tr th:only-of-type {\n",
       "        vertical-align: middle;\n",
       "    }\n",
       "\n",
       "    .dataframe tbody tr th {\n",
       "        vertical-align: top;\n",
       "    }\n",
       "\n",
       "    .dataframe thead th {\n",
       "        text-align: right;\n",
       "    }\n",
       "</style>\n",
       "<table border=\"1\" class=\"dataframe\">\n",
       "  <thead>\n",
       "    <tr style=\"text-align: right;\">\n",
       "      <th></th>\n",
       "      <th>name</th>\n",
       "      <th>club</th>\n",
       "      <th>age</th>\n",
       "      <th>position</th>\n",
       "      <th>position_cat</th>\n",
       "      <th>market_value</th>\n",
       "      <th>page_views</th>\n",
       "      <th>fpl_value</th>\n",
       "      <th>fpl_sel</th>\n",
       "      <th>fpl_points</th>\n",
       "      <th>region</th>\n",
       "      <th>nationality</th>\n",
       "    </tr>\n",
       "  </thead>\n",
       "  <tbody>\n",
       "    <tr>\n",
       "      <th>92</th>\n",
       "      <td>Eden Hazard</td>\n",
       "      <td>Chelsea</td>\n",
       "      <td>26</td>\n",
       "      <td>LW</td>\n",
       "      <td>attacker</td>\n",
       "      <td>75.00</td>\n",
       "      <td>4220</td>\n",
       "      <td>10.5</td>\n",
       "      <td>2.30%</td>\n",
       "      <td>224</td>\n",
       "      <td>EU</td>\n",
       "      <td>Belgium</td>\n",
       "    </tr>\n",
       "    <tr>\n",
       "      <th>263</th>\n",
       "      <td>Paul Pogba</td>\n",
       "      <td>Manchester+United</td>\n",
       "      <td>24</td>\n",
       "      <td>CM</td>\n",
       "      <td>midfielder</td>\n",
       "      <td>75.00</td>\n",
       "      <td>7435</td>\n",
       "      <td>8.0</td>\n",
       "      <td>19.50%</td>\n",
       "      <td>115</td>\n",
       "      <td>EU</td>\n",
       "      <td>France</td>\n",
       "    </tr>\n",
       "    <tr>\n",
       "      <th>0</th>\n",
       "      <td>Alexis Sanchez</td>\n",
       "      <td>Arsenal</td>\n",
       "      <td>28</td>\n",
       "      <td>LW</td>\n",
       "      <td>attacker</td>\n",
       "      <td>65.00</td>\n",
       "      <td>4329</td>\n",
       "      <td>12.0</td>\n",
       "      <td>17.10%</td>\n",
       "      <td>264</td>\n",
       "      <td>Americas</td>\n",
       "      <td>Chile</td>\n",
       "    </tr>\n",
       "    <tr>\n",
       "      <th>240</th>\n",
       "      <td>Kevin De Bruyne</td>\n",
       "      <td>Manchester+City</td>\n",
       "      <td>26</td>\n",
       "      <td>AM</td>\n",
       "      <td>attacker</td>\n",
       "      <td>65.00</td>\n",
       "      <td>2252</td>\n",
       "      <td>10.0</td>\n",
       "      <td>17.50%</td>\n",
       "      <td>199</td>\n",
       "      <td>EU</td>\n",
       "      <td>Belgium</td>\n",
       "    </tr>\n",
       "    <tr>\n",
       "      <th>241</th>\n",
       "      <td>Sergio Aguero</td>\n",
       "      <td>Manchester+City</td>\n",
       "      <td>29</td>\n",
       "      <td>CF</td>\n",
       "      <td>attacker</td>\n",
       "      <td>65.00</td>\n",
       "      <td>4046</td>\n",
       "      <td>11.5</td>\n",
       "      <td>9.70%</td>\n",
       "      <td>175</td>\n",
       "      <td>Americas</td>\n",
       "      <td>Argentina</td>\n",
       "    </tr>\n",
       "    <tr>\n",
       "      <th>...</th>\n",
       "      <td>...</td>\n",
       "      <td>...</td>\n",
       "      <td>...</td>\n",
       "      <td>...</td>\n",
       "      <td>...</td>\n",
       "      <td>...</td>\n",
       "      <td>...</td>\n",
       "      <td>...</td>\n",
       "      <td>...</td>\n",
       "      <td>...</td>\n",
       "      <td>...</td>\n",
       "      <td>...</td>\n",
       "    </tr>\n",
       "    <tr>\n",
       "      <th>436</th>\n",
       "      <td>Sam Field</td>\n",
       "      <td>West+Brom</td>\n",
       "      <td>19</td>\n",
       "      <td>CM</td>\n",
       "      <td>midfielder</td>\n",
       "      <td>0.25</td>\n",
       "      <td>15</td>\n",
       "      <td>4.5</td>\n",
       "      <td>0.10%</td>\n",
       "      <td>9</td>\n",
       "      <td>England</td>\n",
       "      <td>England</td>\n",
       "    </tr>\n",
       "    <tr>\n",
       "      <th>177</th>\n",
       "      <td>Jack Payne</td>\n",
       "      <td>Huddersfield</td>\n",
       "      <td>25</td>\n",
       "      <td>CM</td>\n",
       "      <td>midfielder</td>\n",
       "      <td>0.25</td>\n",
       "      <td>81</td>\n",
       "      <td>4.5</td>\n",
       "      <td>0.10%</td>\n",
       "      <td>0</td>\n",
       "      <td>England</td>\n",
       "      <td>England</td>\n",
       "    </tr>\n",
       "    <tr>\n",
       "      <th>178</th>\n",
       "      <td>Dean Whitehead</td>\n",
       "      <td>Huddersfield</td>\n",
       "      <td>35</td>\n",
       "      <td>CM</td>\n",
       "      <td>midfielder</td>\n",
       "      <td>0.25</td>\n",
       "      <td>161</td>\n",
       "      <td>4.5</td>\n",
       "      <td>0.10%</td>\n",
       "      <td>0</td>\n",
       "      <td>England</td>\n",
       "      <td>England</td>\n",
       "    </tr>\n",
       "    <tr>\n",
       "      <th>283</th>\n",
       "      <td>Joel Castro Pereira</td>\n",
       "      <td>Manchester+United</td>\n",
       "      <td>21</td>\n",
       "      <td>GK</td>\n",
       "      <td>goalkeeper</td>\n",
       "      <td>0.10</td>\n",
       "      <td>395</td>\n",
       "      <td>4.0</td>\n",
       "      <td>1.00%</td>\n",
       "      <td>6</td>\n",
       "      <td>EU</td>\n",
       "      <td>Portugal</td>\n",
       "    </tr>\n",
       "    <tr>\n",
       "      <th>109</th>\n",
       "      <td>Eduardo Carvalho</td>\n",
       "      <td>Chelsea</td>\n",
       "      <td>34</td>\n",
       "      <td>LW</td>\n",
       "      <td>attacker</td>\n",
       "      <td>0.05</td>\n",
       "      <td>467</td>\n",
       "      <td>5.0</td>\n",
       "      <td>0.10%</td>\n",
       "      <td>0</td>\n",
       "      <td>EU</td>\n",
       "      <td>Portugal</td>\n",
       "    </tr>\n",
       "  </tbody>\n",
       "</table>\n",
       "<p>461 rows × 12 columns</p>\n",
       "</div>"
      ],
      "text/plain": [
       "                    name               club  age position position_cat  \\\n",
       "92           Eden Hazard            Chelsea   26       LW     attacker   \n",
       "263           Paul Pogba  Manchester+United   24       CM   midfielder   \n",
       "0         Alexis Sanchez            Arsenal   28       LW     attacker   \n",
       "240      Kevin De Bruyne    Manchester+City   26       AM     attacker   \n",
       "241        Sergio Aguero    Manchester+City   29       CF     attacker   \n",
       "..                   ...                ...  ...      ...          ...   \n",
       "436            Sam Field          West+Brom   19       CM   midfielder   \n",
       "177           Jack Payne       Huddersfield   25       CM   midfielder   \n",
       "178       Dean Whitehead       Huddersfield   35       CM   midfielder   \n",
       "283  Joel Castro Pereira  Manchester+United   21       GK   goalkeeper   \n",
       "109     Eduardo Carvalho            Chelsea   34       LW     attacker   \n",
       "\n",
       "     market_value  page_views  fpl_value fpl_sel  fpl_points    region  \\\n",
       "92          75.00        4220       10.5   2.30%         224        EU   \n",
       "263         75.00        7435        8.0  19.50%         115        EU   \n",
       "0           65.00        4329       12.0  17.10%         264  Americas   \n",
       "240         65.00        2252       10.0  17.50%         199        EU   \n",
       "241         65.00        4046       11.5   9.70%         175  Americas   \n",
       "..            ...         ...        ...     ...         ...       ...   \n",
       "436          0.25          15        4.5   0.10%           9   England   \n",
       "177          0.25          81        4.5   0.10%           0   England   \n",
       "178          0.25         161        4.5   0.10%           0   England   \n",
       "283          0.10         395        4.0   1.00%           6        EU   \n",
       "109          0.05         467        5.0   0.10%           0        EU   \n",
       "\n",
       "    nationality  \n",
       "92      Belgium  \n",
       "263      France  \n",
       "0         Chile  \n",
       "240     Belgium  \n",
       "241   Argentina  \n",
       "..          ...  \n",
       "436     England  \n",
       "177     England  \n",
       "178     England  \n",
       "283    Portugal  \n",
       "109    Portugal  \n",
       "\n",
       "[461 rows x 12 columns]"
      ]
     },
     "execution_count": 13,
     "metadata": {},
     "output_type": "execute_result"
    }
   ],
   "source": [
    "#sort market value\n",
    "df_sorted = clean_data.sort_values('market_value', ascending=False)\n",
    "df_sorted"
   ]
  },
  {
   "attachments": {},
   "cell_type": "markdown",
   "metadata": {},
   "source": [
    "data tersebut mengurutkan pemain berdasarkan market value"
   ]
  },
  {
   "cell_type": "code",
   "execution_count": 14,
   "metadata": {},
   "outputs": [
    {
     "data": {
      "image/png": "[encoded data removed]",
      "text/plain": [
       "<Figure size 640x480 with 1 Axes>"
      ]
     },
     "metadata": {},
     "output_type": "display_data"
    }
   ],
   "source": [
    "# mengurutkan pemain berdasarkan market value tertinggi\n",
    "df_sorted = clean_data.sort_values('market_value', ascending=False)\n",
    "\n",
    "# membuat bar plot\n",
    "plt.barh(df_sorted['name'].head(5), df_sorted['market_value'].head(5))\n",
    "plt.xlabel('Market Value ')\n",
    "plt.ylabel('Pemain')\n",
    "plt.title('5 Pemain dengan Market Value Tertinggi')\n",
    "plt.show()"
   ]
  },
  {
   "attachments": {},
   "cell_type": "markdown",
   "metadata": {},
   "source": [
    "Eden hazard dan paul pogba merupakan pemain dengan market value tertinggi dengan harga 75juta pounds, disusul dengan alexis sanchez, kevin De bruyne, dan sergio aguero dengan masing-masing memiliki nilai market value sebesar 65juta pounds"
   ]
  },
  {
   "attachments": {},
   "cell_type": "markdown",
   "metadata": {},
   "source": [
    "# 2.  Tim yang memiliki rata-rata pemain market value tertinggi?"
   ]
  },
  {
   "cell_type": "code",
   "execution_count": 15,
   "metadata": {},
   "outputs": [
    {
     "data": {
      "text/plain": [
       "club\n",
       "Manchester+City      28.200000\n",
       "Chelsea              27.677500\n",
       "Tottenham            23.000000\n",
       "Manchester+United    20.564000\n",
       "Arsenal              19.642857\n",
       "Name: market_value, dtype: float64"
      ]
     },
     "execution_count": 15,
     "metadata": {},
     "output_type": "execute_result"
    }
   ],
   "source": [
    "# mengelompokkan pemain berdasarkan klub dan menghitung rata-rata market value tiap klub\n",
    "club_mean = clean_data.groupby('club')['market_value'].mean()\n",
    "\n",
    "# mengurutkan klub berdasarkan rata-rata market value tertinggi dan mengambil 5 klub teratas\n",
    "club_sorted = club_mean.sort_values(ascending=False).head(5)\n",
    "club_sorted"
   ]
  },
  {
   "cell_type": "code",
   "execution_count": 16,
   "metadata": {},
   "outputs": [
    {
     "data": {
      "image/png": "[encoded data removed]",
      "text/plain": [
       "<Figure size 640x480 with 1 Axes>"
      ]
     },
     "metadata": {},
     "output_type": "display_data"
    }
   ],
   "source": [
    "# membuat bar plot dari hasil tersebut\n",
    "plt.barh(club_sorted.index, club_sorted.values)\n",
    "\n",
    "# menambahkan label pada sumbu x dan y\n",
    "plt.xlabel('Market Value ')\n",
    "plt.ylabel('Club')\n",
    "\n",
    "# menambahkan judul plot\n",
    "plt.title('Top 5 Clubs by Mean Market Value')\n",
    "\n",
    "# menampilkan plot\n",
    "plt.show()\n"
   ]
  },
  {
   "attachments": {},
   "cell_type": "markdown",
   "metadata": {},
   "source": [
    "Club dengan market value tertinggi : \n",
    "* Manchester City = 28.2 Juta Pounds\n",
    "* Chelsea = 27.6 Juta Pounds\n",
    "* Tottenham = 23 Juta Pounds\n",
    "* Manchester United = 20.5 Juta Pounds\n",
    "* Arsenal = 19.6 Juta Pounds"
   ]
  },
  {
   "attachments": {},
   "cell_type": "markdown",
   "metadata": {},
   "source": [
    "# 3. Carilah club yang memiliki rata - rata pemain termuda"
   ]
  },
  {
   "cell_type": "code",
   "execution_count": 17,
   "metadata": {},
   "outputs": [
    {
     "data": {
      "text/plain": [
       "club\n",
       "Liverpool            24.777778\n",
       "Southampton          24.956522\n",
       "Manchester+United    25.560000\n",
       "Tottenham            25.650000\n",
       "Huddersfield         26.000000\n",
       "Name: age, dtype: float64"
      ]
     },
     "execution_count": 17,
     "metadata": {},
     "output_type": "execute_result"
    }
   ],
   "source": [
    "player_mean = clean_data.groupby('club')['age'].mean()\n",
    "\n",
    "# mengurutkan klub berdasarkan rata-rata pemain dengan usia terendah  \n",
    "player_sorted = player_mean.sort_values(ascending=True).head(5)\n",
    "player_sorted"
   ]
  },
  {
   "cell_type": "code",
   "execution_count": 18,
   "metadata": {},
   "outputs": [
    {
     "data": {
      "image/png": "[encoded data removed]",
      "text/plain": [
       "<Figure size 640x480 with 1 Axes>"
      ]
     },
     "metadata": {},
     "output_type": "display_data"
    }
   ],
   "source": [
    "plt.barh(player_sorted.index, player_sorted.values)\n",
    "\n",
    "# menambahkan label pada sumbu x dan y\n",
    "plt.xlabel('Market Value ')\n",
    "plt.ylabel('Club')\n",
    "\n",
    "# menambahkan judul plot\n",
    "plt.title('Top 5 Clubs by Mean Market Value')\n",
    "\n",
    "# menampilkan plot\n",
    "plt.show()\n"
   ]
  },
  {
   "attachments": {},
   "cell_type": "markdown",
   "metadata": {},
   "source": [
    "Karena Liverpool memiliki rata-rata umur terendah dari semua club, jadi boleh dikatakan Liverpool merupakan tim yang memiliki squad dengan rata-rata termuda yaitu 24 tahun"
   ]
  },
  {
   "attachments": {},
   "cell_type": "markdown",
   "metadata": {},
   "source": [
    "# 4. jumlah pemain berdasarkan kategori posisi nya"
   ]
  },
  {
   "cell_type": "code",
   "execution_count": 19,
   "metadata": {},
   "outputs": [
    {
     "data": {
      "text/plain": [
       "position_cat\n",
       "attacker      154\n",
       "defender      153\n",
       "goalkeeper     42\n",
       "midfielder    112\n",
       "Name: position_cat, dtype: int64"
      ]
     },
     "execution_count": 19,
     "metadata": {},
     "output_type": "execute_result"
    }
   ],
   "source": [
    "clean_data.groupby(['position_cat'])['position_cat'].count()"
   ]
  },
  {
   "attachments": {},
   "cell_type": "markdown",
   "metadata": {},
   "source": [
    "* attacker berjumlah : 154 orang\n",
    "* defender berjumlah : 153 orang\n",
    "* goalkeeper berjumlah : 154 orang\n",
    "* midfilder berjumlah : 154 orang"
   ]
  },
  {
   "cell_type": "code",
   "execution_count": 20,
   "metadata": {},
   "outputs": [
    {
     "data": {
      "image/png": "[encoded data removed]",
      "text/plain": [
       "<Figure size 640x480 with 1 Axes>"
      ]
     },
     "metadata": {},
     "output_type": "display_data"
    }
   ],
   "source": [
    "pos = clean_data.groupby(['position_cat'])['position_cat'].count().to_frame(name='player_count')\n",
    "pos_sorted = pos.sort_values(by='player_count', ascending=False)\n",
    "\n",
    "plt.bar(pos_sorted.index, pos_sorted['player_count'])\n",
    "plt.xlabel('Kategori Posisi')\n",
    "plt.ylabel('Jumlah Pemain')\n",
    "plt.title('Jumlah Pemain per Kategori Posisi')\n",
    "plt.show()"
   ]
  },
  {
   "attachments": {},
   "cell_type": "markdown",
   "metadata": {},
   "source": [
    "pemain  yang berposisi sebagai `attacker` adalah posisi yang terbanyak pada Premier League Season 2017/18 "
   ]
  },
  {
   "attachments": {},
   "cell_type": "markdown",
   "metadata": {},
   "source": [
    "# Statistic Descriptive"
   ]
  },
  {
   "attachments": {},
   "cell_type": "markdown",
   "metadata": {},
   "source": [
    "## 5. Pemain dengan region mana yang paling banyak bermain di Premier League ? apakah asal inggris?"
   ]
  },
  {
   "cell_type": "code",
   "execution_count": 21,
   "metadata": {},
   "outputs": [
    {
     "name": "stdout",
     "output_type": "stream",
     "text": [
      "Modus dari kolom region adalah: EU\n"
     ]
    },
    {
     "data": {
      "image/png": "[encoded data removed]",
      "text/plain": [
       "<Figure size 640x480 with 1 Axes>"
      ]
     },
     "metadata": {},
     "output_type": "display_data"
    }
   ],
   "source": [
    "# Mencari modus kolom region\n",
    "modus_region = clean_data['region'].mode()[0]\n",
    "print('Modus dari kolom region adalah:', modus_region)\n",
    "\n",
    "# Menghitung jumlah data untuk masing-masing nilai pada kolom region\n",
    "count_by_region = clean_data['region'].value_counts()\n",
    "\n",
    "# Memvisualisasikan kolom region menggunakan pie chart\n",
    "plt.pie(count_by_region, labels=count_by_region.index, autopct='%1.1f%%')\n",
    "plt.title('Distribusi Data pada Kolom Region')\n",
    "plt.show()\n",
    "\n",
    "\n",
    "\n",
    "\n"
   ]
  },
  {
   "attachments": {},
   "cell_type": "markdown",
   "metadata": {},
   "source": [
    "untuk mencari region mana yang paling banyak bermain diPremier League Season 2017/18 adalah dengan mencari **modus** pada kolom `region`.\n",
    "Inggris bukanlah region terbanyak tetapi Pemain asal EU adalah region terbanyak dari jumlah pemain yang ada dipremier league"
   ]
  },
  {
   "attachments": {},
   "cell_type": "markdown",
   "metadata": {},
   "source": [
    "# Statistic Inferential"
   ]
  },
  {
   "attachments": {},
   "cell_type": "markdown",
   "metadata": {},
   "source": [
    "## 6. Uji hipotesis, apakah rata-rata nilai market value chelsea sama dengan arsenal?"
   ]
  },
  {
   "attachments": {},
   "cell_type": "markdown",
   "metadata": {},
   "source": [
    "One Sample Two tailed\n"
   ]
  },
  {
   "attachments": {},
   "cell_type": "markdown",
   "metadata": {},
   "source": [
    "Our Hypothesis on this case : \n",
    "* H0 : market value chelsea = market_value_arsenal\n",
    "* H1 : market value chelsea != market_value_arsenal\n"
   ]
  },
  {
   "cell_type": "code",
   "execution_count": 22,
   "metadata": {},
   "outputs": [
    {
     "name": "stdout",
     "output_type": "stream",
     "text": [
      "p-value =  0.09319356813417434\n"
     ]
    }
   ],
   "source": [
    "# extract  market value data dari Chelsea and Arsenal\n",
    "market_value_chelsea = clean_data[clean_data['club'] == 'Chelsea']['market_value']\n",
    "market_value_arsenal = clean_data[clean_data['club'] == 'Arsenal']['market_value']\n",
    "\n",
    "# perform t-test\n",
    "t, p = ttest_ind(market_value_chelsea, market_value_arsenal)\n",
    "\n",
    "# print p-value\n",
    "print(\"p-value = \", p)"
   ]
  },
  {
   "attachments": {},
   "cell_type": "markdown",
   "metadata": {},
   "source": [
    "dikarenakan p-value >0.05, berarti kita tolak H0. Yang berarti market value pemain chelsea `tidak sama dengan` market value pemain arsenal"
   ]
  },
  {
   "cell_type": "code",
   "execution_count": 23,
   "metadata": {},
   "outputs": [
    {
     "name": "stderr",
     "output_type": "stream",
     "text": [
      "C:\\Users\\maddi\\AppData\\Local\\Temp\\ipykernel_14660\\2519579805.py:2: UserWarning: \n",
      "\n",
      "`distplot` is a deprecated function and will be removed in seaborn v0.14.0.\n",
      "\n",
      "Please adapt your code to use either `displot` (a figure-level function with\n",
      "similar flexibility) or `histplot` (an axes-level function for histograms).\n",
      "\n",
      "For a guide to updating your code to use the new functions, please see\n",
      "https://gist.github.com/mwaskom/de44147ed2974457ad6372750bbe5751\n",
      "\n",
      "  sns.distplot(market_value_chelsea, label='Chelsea')\n",
      "C:\\Users\\maddi\\AppData\\Local\\Temp\\ipykernel_14660\\2519579805.py:3: UserWarning: \n",
      "\n",
      "`distplot` is a deprecated function and will be removed in seaborn v0.14.0.\n",
      "\n",
      "Please adapt your code to use either `displot` (a figure-level function with\n",
      "similar flexibility) or `histplot` (an axes-level function for histograms).\n",
      "\n",
      "For a guide to updating your code to use the new functions, please see\n",
      "https://gist.github.com/mwaskom/de44147ed2974457ad6372750bbe5751\n",
      "\n",
      "  sns.distplot(market_value_arsenal, label='Arsenal')\n"
     ]
    },
    {
     "data": {
      "image/png": "[encoded data removed]",
      "text/plain": [
       "<Figure size 640x480 with 1 Axes>"
      ]
     },
     "metadata": {},
     "output_type": "display_data"
    }
   ],
   "source": [
    "# membuat distribution plot\n",
    "sns.distplot(market_value_chelsea, label='Chelsea')\n",
    "sns.distplot(market_value_arsenal, label='Arsenal')\n",
    "\n",
    "# add legend and p-value to plot\n",
    "plt.legend()\n",
    "if p < 0.05:\n",
    "    plt.title('Market Value Comparison (p-value = {:.3f}, statistically significant)'.format(p))\n",
    "else:\n",
    "    plt.title('Market Value Comparison (p-value = {:.3f}, not statistically significant)'.format(p))\n",
    "\n",
    "# show plot\n",
    "plt.show()"
   ]
  },
  {
   "attachments": {},
   "cell_type": "markdown",
   "metadata": {},
   "source": [
    "dari grafik tersebut terlihat terdapat perbedaan antara rata rata market value pemain chelsea dan arsenal walaupun tidak cukup signifikan secara statistik."
   ]
  },
  {
   "attachments": {},
   "cell_type": "markdown",
   "metadata": {},
   "source": [
    "# Kesimpulan"
   ]
  },
  {
   "attachments": {},
   "cell_type": "markdown",
   "metadata": {},
   "source": [
    "Dari seluruh penjabaran diatas dapat disimpulkan bahwa Liga Premier Inggris memiliki banyak pemain bintang, dengan adanya Paul Pogba dan Eden Hazard sebagai pemain termahal mencapai angka 75juta pounds, ini menggambarkan bahwa Premier League adalah salah satu Liga Sepakbola Professional terbaik didunia saat ini. Namun sayangnya pemain asli Inggris harus kalah jumlah dari pemain asing. Ini merupakan catatan yang sangat besar bagi Pengurus Sepakbola di Inggris untuk lebih baik lagi dalam pembinaan pemain usia muda, agar para pemain asli inggris dapat kesempatan untuk bermain di negara sendiri."
   ]
  },
  {
   "attachments": {},
   "cell_type": "markdown",
   "metadata": {},
   "source": [
    "# Dashboard"
   ]
  },
  {
   "attachments": {},
   "cell_type": "markdown",
   "metadata": {},
   "source": [
    "`https://lookerstudio.google.com/reporting/446a94a0-e8e0-43ae-93a1-daf1c27ecd1a`"
   ]
  },
  {
   "cell_type": "code",
   "execution_count": 27,
   "metadata": {},
   "outputs": [
    {
     "name": "stderr",
     "output_type": "stream",
     "text": [
      "C:\\Users\\maddi\\AppData\\Local\\Temp\\ipykernel_14660\\1370368592.py:1: FutureWarning: As the xlwt package is no longer maintained, the xlwt engine will be removed in a future version of pandas. This is the only engine in pandas that supports writing in the xls format. Install openpyxl and write to an xlsx file instead. You can set the option io.excel.xls.writer to 'xlwt' to silence this warning. While this option is deprecated and will also raise a warning, it can be globally set and the warning suppressed.\n",
      "  clean_data.to_excel('data.xls', index=False)\n"
     ]
    },
    {
     "ename": "ModuleNotFoundError",
     "evalue": "No module named 'xlwt'",
     "output_type": "error",
     "traceback": [
      "\u001b[1;31m---------------------------------------------------------------------------\u001b[0m",
      "\u001b[1;31mModuleNotFoundError\u001b[0m                       Traceback (most recent call last)",
      "Cell \u001b[1;32mIn[27], line 1\u001b[0m\n\u001b[1;32m----> 1\u001b[0m clean_data\u001b[39m.\u001b[39;49mto_excel(\u001b[39m'\u001b[39;49m\u001b[39mdata.xls\u001b[39;49m\u001b[39m'\u001b[39;49m, index\u001b[39m=\u001b[39;49m\u001b[39mFalse\u001b[39;49;00m)\n",
      "File \u001b[1;32mc:\\Users\\maddi\\anaconda3\\lib\\site-packages\\pandas\\util\\_decorators.py:211\u001b[0m, in \u001b[0;36mdeprecate_kwarg.<locals>._deprecate_kwarg.<locals>.wrapper\u001b[1;34m(*args, **kwargs)\u001b[0m\n\u001b[0;32m    209\u001b[0m     \u001b[39melse\u001b[39;00m:\n\u001b[0;32m    210\u001b[0m         kwargs[new_arg_name] \u001b[39m=\u001b[39m new_arg_value\n\u001b[1;32m--> 211\u001b[0m \u001b[39mreturn\u001b[39;00m func(\u001b[39m*\u001b[39margs, \u001b[39m*\u001b[39m\u001b[39m*\u001b[39mkwargs)\n",
      "File \u001b[1;32mc:\\Users\\maddi\\anaconda3\\lib\\site-packages\\pandas\\util\\_decorators.py:211\u001b[0m, in \u001b[0;36mdeprecate_kwarg.<locals>._deprecate_kwarg.<locals>.wrapper\u001b[1;34m(*args, **kwargs)\u001b[0m\n\u001b[0;32m    209\u001b[0m     \u001b[39melse\u001b[39;00m:\n\u001b[0;32m    210\u001b[0m         kwargs[new_arg_name] \u001b[39m=\u001b[39m new_arg_value\n\u001b[1;32m--> 211\u001b[0m \u001b[39mreturn\u001b[39;00m func(\u001b[39m*\u001b[39margs, \u001b[39m*\u001b[39m\u001b[39m*\u001b[39mkwargs)\n",
      "File \u001b[1;32mc:\\Users\\maddi\\anaconda3\\lib\\site-packages\\pandas\\core\\generic.py:2374\u001b[0m, in \u001b[0;36mNDFrame.to_excel\u001b[1;34m(self, excel_writer, sheet_name, na_rep, float_format, columns, header, index, index_label, startrow, startcol, engine, merge_cells, encoding, inf_rep, verbose, freeze_panes, storage_options)\u001b[0m\n\u001b[0;32m   2361\u001b[0m \u001b[39mfrom\u001b[39;00m \u001b[39mpandas\u001b[39;00m\u001b[39m.\u001b[39;00m\u001b[39mio\u001b[39;00m\u001b[39m.\u001b[39;00m\u001b[39mformats\u001b[39;00m\u001b[39m.\u001b[39;00m\u001b[39mexcel\u001b[39;00m \u001b[39mimport\u001b[39;00m ExcelFormatter\n\u001b[0;32m   2363\u001b[0m formatter \u001b[39m=\u001b[39m ExcelFormatter(\n\u001b[0;32m   2364\u001b[0m     df,\n\u001b[0;32m   2365\u001b[0m     na_rep\u001b[39m=\u001b[39mna_rep,\n\u001b[1;32m   (...)\u001b[0m\n\u001b[0;32m   2372\u001b[0m     inf_rep\u001b[39m=\u001b[39minf_rep,\n\u001b[0;32m   2373\u001b[0m )\n\u001b[1;32m-> 2374\u001b[0m formatter\u001b[39m.\u001b[39;49mwrite(\n\u001b[0;32m   2375\u001b[0m     excel_writer,\n\u001b[0;32m   2376\u001b[0m     sheet_name\u001b[39m=\u001b[39;49msheet_name,\n\u001b[0;32m   2377\u001b[0m     startrow\u001b[39m=\u001b[39;49mstartrow,\n\u001b[0;32m   2378\u001b[0m     startcol\u001b[39m=\u001b[39;49mstartcol,\n\u001b[0;32m   2379\u001b[0m     freeze_panes\u001b[39m=\u001b[39;49mfreeze_panes,\n\u001b[0;32m   2380\u001b[0m     engine\u001b[39m=\u001b[39;49mengine,\n\u001b[0;32m   2381\u001b[0m     storage_options\u001b[39m=\u001b[39;49mstorage_options,\n\u001b[0;32m   2382\u001b[0m )\n",
      "File \u001b[1;32mc:\\Users\\maddi\\anaconda3\\lib\\site-packages\\pandas\\io\\formats\\excel.py:944\u001b[0m, in \u001b[0;36mExcelFormatter.write\u001b[1;34m(self, writer, sheet_name, startrow, startcol, freeze_panes, engine, storage_options)\u001b[0m\n\u001b[0;32m    940\u001b[0m     need_save \u001b[39m=\u001b[39m \u001b[39mFalse\u001b[39;00m\n\u001b[0;32m    941\u001b[0m \u001b[39melse\u001b[39;00m:\n\u001b[0;32m    942\u001b[0m     \u001b[39m# error: Cannot instantiate abstract class 'ExcelWriter' with abstract\u001b[39;00m\n\u001b[0;32m    943\u001b[0m     \u001b[39m# attributes 'engine', 'save', 'supported_extensions' and 'write_cells'\u001b[39;00m\n\u001b[1;32m--> 944\u001b[0m     writer \u001b[39m=\u001b[39m ExcelWriter(  \u001b[39m# type: ignore[abstract]\u001b[39;49;00m\n\u001b[0;32m    945\u001b[0m         writer, engine\u001b[39m=\u001b[39;49mengine, storage_options\u001b[39m=\u001b[39;49mstorage_options\n\u001b[0;32m    946\u001b[0m     )\n\u001b[0;32m    947\u001b[0m     need_save \u001b[39m=\u001b[39m \u001b[39mTrue\u001b[39;00m\n\u001b[0;32m    949\u001b[0m \u001b[39mtry\u001b[39;00m:\n",
      "File \u001b[1;32mc:\\Users\\maddi\\anaconda3\\lib\\site-packages\\pandas\\io\\excel\\_xlwt.py:48\u001b[0m, in \u001b[0;36mXlwtWriter.__init__\u001b[1;34m(self, path, engine, date_format, datetime_format, encoding, mode, storage_options, if_sheet_exists, engine_kwargs, **kwargs)\u001b[0m\n\u001b[0;32m     34\u001b[0m \u001b[39mdef\u001b[39;00m \u001b[39m__init__\u001b[39m(\n\u001b[0;32m     35\u001b[0m     \u001b[39mself\u001b[39m,\n\u001b[0;32m     36\u001b[0m     path: FilePath \u001b[39m|\u001b[39m WriteExcelBuffer \u001b[39m|\u001b[39m ExcelWriter,\n\u001b[1;32m   (...)\u001b[0m\n\u001b[0;32m     46\u001b[0m ) \u001b[39m-\u001b[39m\u001b[39m>\u001b[39m \u001b[39mNone\u001b[39;00m:\n\u001b[0;32m     47\u001b[0m     \u001b[39m# Use the xlwt module as the Excel writer.\u001b[39;00m\n\u001b[1;32m---> 48\u001b[0m     \u001b[39mimport\u001b[39;00m \u001b[39mxlwt\u001b[39;00m\n\u001b[0;32m     50\u001b[0m     engine_kwargs \u001b[39m=\u001b[39m combine_kwargs(engine_kwargs, kwargs)\n\u001b[0;32m     52\u001b[0m     \u001b[39mif\u001b[39;00m mode \u001b[39m==\u001b[39m \u001b[39m\"\u001b[39m\u001b[39ma\u001b[39m\u001b[39m\"\u001b[39m:\n",
      "\u001b[1;31mModuleNotFoundError\u001b[0m: No module named 'xlwt'"
     ]
    }
   ],
   "source": [
    "clean_data.to_excel('data.xls', index=False)"
   ]
  }
 ],
 "metadata": {
  "kernelspec": {
   "display_name": "base",
   "language": "python",
   "name": "python3"
  },
  "language_info": {
   "codemirror_mode": {
    "name": "ipython",
    "version": 3
   },
   "file_extension": ".py",
   "mimetype": "text/x-python",
   "name": "python",
   "nbconvert_exporter": "python",
   "pygments_lexer": "ipython3",
   "version": "3.10.9"
  },
  "orig_nbformat": 4
 },
 "nbformat": 4,
 "nbformat_minor": 2
}
