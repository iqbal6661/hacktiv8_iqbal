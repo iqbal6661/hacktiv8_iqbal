{
  "nbformat": 4,
  "nbformat_minor": 0,
  "metadata": {
    "colab": {
      "provenance": []
    },
    "kernelspec": {
      "name": "python3",
      "display_name": "Python 3"
    },
    "language_info": {
      "name": "python"
    }
  },
  "cells": [
    {
      "cell_type": "markdown",
      "source": [
        "#Hacktiv 8 FTDS"
      ],
      "metadata": {
        "id": "TJUsgm1dWrIV"
      }
    },
    {
      "cell_type": "markdown",
      "source": [
        "#i. Perkenalan"
      ],
      "metadata": {
        "id": "cgslGvoqW6sI"
      }
    },
    {
      "cell_type": "markdown",
      "source": [
        "\n",
        "\n",
        "GC1 : \n",
        "\n",
        "*   Nama : Iqbal Awis N.\n",
        "*   Batch: RMT-19\n",
        "\n",
        "Latar Belakang Permasalahan : \n",
        "Dataset tentang kasus covid-19 yang terjadi di seluruh dunia tahun 2020-2022\n",
        "\n",
        "Problem statement : \n",
        "\n",
        "\n",
        "*   5 Province teratas dengan kasus covid-19 terbanyak dinegara US\n",
        "*   5 Province dengan Angka kematian tertinggi tertinggi\n",
        "*   Puncak terparah kasus selama sepanjang tahun\n",
        "\n",
        "\n",
        "\n",
        "\n",
        "\n",
        "\n",
        "\n",
        "\n"
      ],
      "metadata": {
        "id": "LEilCfwAXfVW"
      }
    },
    {
      "cell_type": "markdown",
      "source": [
        "#ii. Import Pustaka yang dibutuhkan"
      ],
      "metadata": {
        "id": "-6diI9R4aO6F"
      }
    },
    {
      "cell_type": "code",
      "execution_count": 39,
      "metadata": {
        "colab": {
          "base_uri": "https://localhost:8080/"
        },
        "id": "Y9sdHHY3Wo-a",
        "outputId": "d2e12303-ff81-437d-c0e4-c382ef4d94be"
      },
      "outputs": [
        {
          "output_type": "stream",
          "name": "stdout",
          "text": [
            "Drive already mounted at /content/drive; to attempt to forcibly remount, call drive.mount(\"/content/drive\", force_remount=True).\n"
          ]
        }
      ],
      "source": [
        "#Import library pandas\n",
        "import pandas as pd\n",
        "import matplotlib.pyplot as plt\n",
        "#menghubungkan notebook dengan google drive\n",
        "from google.colab import drive\n",
        "drive.mount('/content/drive')"
      ]
    },
    {
      "cell_type": "markdown",
      "source": [
        "**import pandas as pd** ini perintah untuk meload library pandas\n",
        "\n",
        "---\n",
        "\n",
        "**import matplotlib.pyplot as plt** perintah ini untuk meload library matplotlib untuk melakukan visualisasi\n",
        "\n",
        "---\n",
        "\n",
        "**from google.colab import drive**\n",
        "**drive.mount('/content/drive')** perintah ini untuk menghubungkan google drive dengan notebokk"
      ],
      "metadata": {
        "id": "KyL3XrqTsoQC"
      }
    },
    {
      "cell_type": "markdown",
      "source": [
        "#iii. Data Loading"
      ],
      "metadata": {
        "id": "oMs6jCJiazFU"
      }
    },
    {
      "cell_type": "markdown",
      "source": [
        "### SQL Query"
      ],
      "metadata": {
        "id": "teIXaEBAfNlT"
      }
    },
    {
      "cell_type": "markdown",
      "source": [
        "SELECT *\n",
        "FROM\n",
        "`bigquery-public-data.covid19_jhu_csse_eu.summary`;\n",
        "\n"
      ],
      "metadata": {
        "id": "4YWMErzvfWrt"
      }
    },
    {
      "cell_type": "markdown",
      "source": [
        "Perintah tersebut akan memanggil database `bigquery-public-data.covid19_jhu_csse_eu` pada tabel `summary`\n",
        "\n",
        "\n"
      ],
      "metadata": {
        "id": "hIFVsS9dsHLH"
      }
    },
    {
      "cell_type": "markdown",
      "source": [
        "### Meload dataset"
      ],
      "metadata": {
        "id": "rn9rjDFAY8kN"
      }
    },
    {
      "cell_type": "code",
      "source": [
        "#memuat / meload dataset\n",
        "df=pd.read_csv('/content/drive/MyDrive/h8dsft_P0GC1_iqbal_awis.csv')"
      ],
      "metadata": {
        "id": "ajHrSFRua9BO"
      },
      "execution_count": 40,
      "outputs": []
    },
    {
      "cell_type": "markdown",
      "source": [
        "Perintah tersebut akan meload dataset yang terdapat pada google drive"
      ],
      "metadata": {
        "id": "urn46F5ese8S"
      }
    },
    {
      "cell_type": "markdown",
      "source": [
        "## Meload data teratas"
      ],
      "metadata": {
        "id": "nlVLdiykrRc6"
      }
    },
    {
      "cell_type": "code",
      "source": [
        "#memuat 5 data teratas\n",
        "df.head()"
      ],
      "metadata": {
        "colab": {
          "base_uri": "https://localhost:8080/",
          "height": 206
        },
        "id": "jq77LnHZcNYh",
        "outputId": "91f82fd2-f347-4f71-ac2e-5c1010e46252"
      },
      "execution_count": 41,
      "outputs": [
        {
          "output_type": "execute_result",
          "data": {
            "text/plain": [
              "   province_state country_region        date   latitude  longitude  \\\n",
              "0         Georgia             US  2020-05-15  34.471977 -85.345357   \n",
              "1        New York             US  2020-05-15  42.138911 -76.763880   \n",
              "2       Wisconsin             US  2020-05-15  45.069397 -91.280689   \n",
              "3  North Carolina             US  2020-05-15  36.129081 -76.601184   \n",
              "4        Kentucky             US  2020-05-15  36.892678 -87.490554   \n",
              "\n",
              "                     location_geom  confirmed  deaths  recovered  active  \\\n",
              "0  POINT(-85.34535662 34.47197698)       15.0     2.0        0.0    13.0   \n",
              "1   POINT(-76.7638805 42.13891056)      133.0     1.0        0.0   132.0   \n",
              "2  POINT(-91.28068855 45.06939744)       37.0     0.0        0.0    37.0   \n",
              "3  POINT(-76.60118385 36.12908077)       12.0     0.0        0.0    12.0   \n",
              "4  POINT(-87.49055367 36.89267803)       95.0     3.0        0.0    92.0   \n",
              "\n",
              "      fips     admin2                combined_key  \n",
              "0  13055.0  Chattooga      Chattooga, Georgia, US  \n",
              "1  36015.0    Chemung       Chemung, New York, US  \n",
              "2  55017.0   Chippewa     Chippewa, Wisconsin, US  \n",
              "3  37041.0     Chowan  Chowan, North Carolina, US  \n",
              "4  21047.0  Christian     Christian, Kentucky, US  "
            ],
            "text/html": [
              "\n",
              "  <div id=\"df-a586ebe4-4bad-483d-9465-400a69878cb6\">\n",
              "    <div class=\"colab-df-container\">\n",
              "      <div>\n",
              "<style scoped>\n",
              "    .dataframe tbody tr th:only-of-type {\n",
              "        vertical-align: middle;\n",
              "    }\n",
              "\n",
              "    .dataframe tbody tr th {\n",
              "        vertical-align: top;\n",
              "    }\n",
              "\n",
              "    .dataframe thead th {\n",
              "        text-align: right;\n",
              "    }\n",
              "</style>\n",
              "<table border=\"1\" class=\"dataframe\">\n",
              "  <thead>\n",
              "    <tr style=\"text-align: right;\">\n",
              "      <th></th>\n",
              "      <th>province_state</th>\n",
              "      <th>country_region</th>\n",
              "      <th>date</th>\n",
              "      <th>latitude</th>\n",
              "      <th>longitude</th>\n",
              "      <th>location_geom</th>\n",
              "      <th>confirmed</th>\n",
              "      <th>deaths</th>\n",
              "      <th>recovered</th>\n",
              "      <th>active</th>\n",
              "      <th>fips</th>\n",
              "      <th>admin2</th>\n",
              "      <th>combined_key</th>\n",
              "    </tr>\n",
              "  </thead>\n",
              "  <tbody>\n",
              "    <tr>\n",
              "      <th>0</th>\n",
              "      <td>Georgia</td>\n",
              "      <td>US</td>\n",
              "      <td>2020-05-15</td>\n",
              "      <td>34.471977</td>\n",
              "      <td>-85.345357</td>\n",
              "      <td>POINT(-85.34535662 34.47197698)</td>\n",
              "      <td>15.0</td>\n",
              "      <td>2.0</td>\n",
              "      <td>0.0</td>\n",
              "      <td>13.0</td>\n",
              "      <td>13055.0</td>\n",
              "      <td>Chattooga</td>\n",
              "      <td>Chattooga, Georgia, US</td>\n",
              "    </tr>\n",
              "    <tr>\n",
              "      <th>1</th>\n",
              "      <td>New York</td>\n",
              "      <td>US</td>\n",
              "      <td>2020-05-15</td>\n",
              "      <td>42.138911</td>\n",
              "      <td>-76.763880</td>\n",
              "      <td>POINT(-76.7638805 42.13891056)</td>\n",
              "      <td>133.0</td>\n",
              "      <td>1.0</td>\n",
              "      <td>0.0</td>\n",
              "      <td>132.0</td>\n",
              "      <td>36015.0</td>\n",
              "      <td>Chemung</td>\n",
              "      <td>Chemung, New York, US</td>\n",
              "    </tr>\n",
              "    <tr>\n",
              "      <th>2</th>\n",
              "      <td>Wisconsin</td>\n",
              "      <td>US</td>\n",
              "      <td>2020-05-15</td>\n",
              "      <td>45.069397</td>\n",
              "      <td>-91.280689</td>\n",
              "      <td>POINT(-91.28068855 45.06939744)</td>\n",
              "      <td>37.0</td>\n",
              "      <td>0.0</td>\n",
              "      <td>0.0</td>\n",
              "      <td>37.0</td>\n",
              "      <td>55017.0</td>\n",
              "      <td>Chippewa</td>\n",
              "      <td>Chippewa, Wisconsin, US</td>\n",
              "    </tr>\n",
              "    <tr>\n",
              "      <th>3</th>\n",
              "      <td>North Carolina</td>\n",
              "      <td>US</td>\n",
              "      <td>2020-05-15</td>\n",
              "      <td>36.129081</td>\n",
              "      <td>-76.601184</td>\n",
              "      <td>POINT(-76.60118385 36.12908077)</td>\n",
              "      <td>12.0</td>\n",
              "      <td>0.0</td>\n",
              "      <td>0.0</td>\n",
              "      <td>12.0</td>\n",
              "      <td>37041.0</td>\n",
              "      <td>Chowan</td>\n",
              "      <td>Chowan, North Carolina, US</td>\n",
              "    </tr>\n",
              "    <tr>\n",
              "      <th>4</th>\n",
              "      <td>Kentucky</td>\n",
              "      <td>US</td>\n",
              "      <td>2020-05-15</td>\n",
              "      <td>36.892678</td>\n",
              "      <td>-87.490554</td>\n",
              "      <td>POINT(-87.49055367 36.89267803)</td>\n",
              "      <td>95.0</td>\n",
              "      <td>3.0</td>\n",
              "      <td>0.0</td>\n",
              "      <td>92.0</td>\n",
              "      <td>21047.0</td>\n",
              "      <td>Christian</td>\n",
              "      <td>Christian, Kentucky, US</td>\n",
              "    </tr>\n",
              "  </tbody>\n",
              "</table>\n",
              "</div>\n",
              "      <button class=\"colab-df-convert\" onclick=\"convertToInteractive('df-a586ebe4-4bad-483d-9465-400a69878cb6')\"\n",
              "              title=\"Convert this dataframe to an interactive table.\"\n",
              "              style=\"display:none;\">\n",
              "        \n",
              "  <svg xmlns=\"http://www.w3.org/2000/svg\" height=\"24px\"viewBox=\"0 0 24 24\"\n",
              "       width=\"24px\">\n",
              "    <path d=\"M0 0h24v24H0V0z\" fill=\"none\"/>\n",
              "    <path d=\"M18.56 5.44l.94 2.06.94-2.06 2.06-.94-2.06-.94-.94-2.06-.94 2.06-2.06.94zm-11 1L8.5 8.5l.94-2.06 2.06-.94-2.06-.94L8.5 2.5l-.94 2.06-2.06.94zm10 10l.94 2.06.94-2.06 2.06-.94-2.06-.94-.94-2.06-.94 2.06-2.06.94z\"/><path d=\"M17.41 7.96l-1.37-1.37c-.4-.4-.92-.59-1.43-.59-.52 0-1.04.2-1.43.59L10.3 9.45l-7.72 7.72c-.78.78-.78 2.05 0 2.83L4 21.41c.39.39.9.59 1.41.59.51 0 1.02-.2 1.41-.59l7.78-7.78 2.81-2.81c.8-.78.8-2.07 0-2.86zM5.41 20L4 18.59l7.72-7.72 1.47 1.35L5.41 20z\"/>\n",
              "  </svg>\n",
              "      </button>\n",
              "      \n",
              "  <style>\n",
              "    .colab-df-container {\n",
              "      display:flex;\n",
              "      flex-wrap:wrap;\n",
              "      gap: 12px;\n",
              "    }\n",
              "\n",
              "    .colab-df-convert {\n",
              "      background-color: #E8F0FE;\n",
              "      border: none;\n",
              "      border-radius: 50%;\n",
              "      cursor: pointer;\n",
              "      display: none;\n",
              "      fill: #1967D2;\n",
              "      height: 32px;\n",
              "      padding: 0 0 0 0;\n",
              "      width: 32px;\n",
              "    }\n",
              "\n",
              "    .colab-df-convert:hover {\n",
              "      background-color: #E2EBFA;\n",
              "      box-shadow: 0px 1px 2px rgba(60, 64, 67, 0.3), 0px 1px 3px 1px rgba(60, 64, 67, 0.15);\n",
              "      fill: #174EA6;\n",
              "    }\n",
              "\n",
              "    [theme=dark] .colab-df-convert {\n",
              "      background-color: #3B4455;\n",
              "      fill: #D2E3FC;\n",
              "    }\n",
              "\n",
              "    [theme=dark] .colab-df-convert:hover {\n",
              "      background-color: #434B5C;\n",
              "      box-shadow: 0px 1px 3px 1px rgba(0, 0, 0, 0.15);\n",
              "      filter: drop-shadow(0px 1px 2px rgba(0, 0, 0, 0.3));\n",
              "      fill: #FFFFFF;\n",
              "    }\n",
              "  </style>\n",
              "\n",
              "      <script>\n",
              "        const buttonEl =\n",
              "          document.querySelector('#df-a586ebe4-4bad-483d-9465-400a69878cb6 button.colab-df-convert');\n",
              "        buttonEl.style.display =\n",
              "          google.colab.kernel.accessAllowed ? 'block' : 'none';\n",
              "\n",
              "        async function convertToInteractive(key) {\n",
              "          const element = document.querySelector('#df-a586ebe4-4bad-483d-9465-400a69878cb6');\n",
              "          const dataTable =\n",
              "            await google.colab.kernel.invokeFunction('convertToInteractive',\n",
              "                                                     [key], {});\n",
              "          if (!dataTable) return;\n",
              "\n",
              "          const docLinkHtml = 'Like what you see? Visit the ' +\n",
              "            '<a target=\"_blank\" href=https://colab.research.google.com/notebooks/data_table.ipynb>data table notebook</a>'\n",
              "            + ' to learn more about interactive tables.';\n",
              "          element.innerHTML = '';\n",
              "          dataTable['output_type'] = 'display_data';\n",
              "          await google.colab.output.renderOutput(dataTable, element);\n",
              "          const docLink = document.createElement('div');\n",
              "          docLink.innerHTML = docLinkHtml;\n",
              "          element.appendChild(docLink);\n",
              "        }\n",
              "      </script>\n",
              "    </div>\n",
              "  </div>\n",
              "  "
            ]
          },
          "metadata": {},
          "execution_count": 41
        }
      ]
    },
    {
      "cell_type": "markdown",
      "source": [
        "ini adalah dataset 5 teratas"
      ],
      "metadata": {
        "id": "aZAoBtlorU4Q"
      }
    },
    {
      "cell_type": "markdown",
      "source": [
        "## Memuat 5 data terbawah"
      ],
      "metadata": {
        "id": "iBeN5JHNaXWc"
      }
    },
    {
      "cell_type": "code",
      "source": [
        "#memuat data dari yang terbawah\n",
        "df.tail()"
      ],
      "metadata": {
        "colab": {
          "base_uri": "https://localhost:8080/",
          "height": 206
        },
        "id": "E3ck1jKgcc0Y",
        "outputId": "761f0283-322e-433e-fdc8-2586d9e24946"
      },
      "execution_count": 42,
      "outputs": [
        {
          "output_type": "execute_result",
          "data": {
            "text/plain": [
              "        province_state country_region        date   latitude  longitude  \\\n",
              "4264075      Wisconsin             US  2022-09-29  44.583074 -91.999496   \n",
              "4264076      Wisconsin             US  2022-09-29  44.718503 -92.422442   \n",
              "4264077      Wisconsin             US  2022-09-29  42.747531 -88.059413   \n",
              "4264078      Wisconsin             US  2022-09-29  42.671516 -89.071479   \n",
              "4264079      Wisconsin             US  2022-09-29  45.474989 -91.133301   \n",
              "\n",
              "                           location_geom  confirmed  deaths  recovered  \\\n",
              "4264075  POINT(-91.99949611 44.58307413)     2204.0    19.0        NaN   \n",
              "4264076   POINT(-92.4224416 44.71850291)    12827.0    77.0        NaN   \n",
              "4264077  POINT(-88.05941254 42.74753117)    65770.0   717.0        NaN   \n",
              "4264078    POINT(-89.071479 42.67151616)    50990.0   421.0        NaN   \n",
              "4264079   POINT(-91.1333012 45.47498854)     3936.0    60.0        NaN   \n",
              "\n",
              "         active     fips  admin2           combined_key  \n",
              "4264075     NaN  55091.0   Pepin   Pepin, Wisconsin, US  \n",
              "4264076     NaN  55093.0  Pierce  Pierce, Wisconsin, US  \n",
              "4264077     NaN  55101.0  Racine  Racine, Wisconsin, US  \n",
              "4264078     NaN  55105.0    Rock    Rock, Wisconsin, US  \n",
              "4264079     NaN  55107.0    Rusk    Rusk, Wisconsin, US  "
            ],
            "text/html": [
              "\n",
              "  <div id=\"df-27bf7dfd-f41e-4944-8852-d94e5175caa9\">\n",
              "    <div class=\"colab-df-container\">\n",
              "      <div>\n",
              "<style scoped>\n",
              "    .dataframe tbody tr th:only-of-type {\n",
              "        vertical-align: middle;\n",
              "    }\n",
              "\n",
              "    .dataframe tbody tr th {\n",
              "        vertical-align: top;\n",
              "    }\n",
              "\n",
              "    .dataframe thead th {\n",
              "        text-align: right;\n",
              "    }\n",
              "</style>\n",
              "<table border=\"1\" class=\"dataframe\">\n",
              "  <thead>\n",
              "    <tr style=\"text-align: right;\">\n",
              "      <th></th>\n",
              "      <th>province_state</th>\n",
              "      <th>country_region</th>\n",
              "      <th>date</th>\n",
              "      <th>latitude</th>\n",
              "      <th>longitude</th>\n",
              "      <th>location_geom</th>\n",
              "      <th>confirmed</th>\n",
              "      <th>deaths</th>\n",
              "      <th>recovered</th>\n",
              "      <th>active</th>\n",
              "      <th>fips</th>\n",
              "      <th>admin2</th>\n",
              "      <th>combined_key</th>\n",
              "    </tr>\n",
              "  </thead>\n",
              "  <tbody>\n",
              "    <tr>\n",
              "      <th>4264075</th>\n",
              "      <td>Wisconsin</td>\n",
              "      <td>US</td>\n",
              "      <td>2022-09-29</td>\n",
              "      <td>44.583074</td>\n",
              "      <td>-91.999496</td>\n",
              "      <td>POINT(-91.99949611 44.58307413)</td>\n",
              "      <td>2204.0</td>\n",
              "      <td>19.0</td>\n",
              "      <td>NaN</td>\n",
              "      <td>NaN</td>\n",
              "      <td>55091.0</td>\n",
              "      <td>Pepin</td>\n",
              "      <td>Pepin, Wisconsin, US</td>\n",
              "    </tr>\n",
              "    <tr>\n",
              "      <th>4264076</th>\n",
              "      <td>Wisconsin</td>\n",
              "      <td>US</td>\n",
              "      <td>2022-09-29</td>\n",
              "      <td>44.718503</td>\n",
              "      <td>-92.422442</td>\n",
              "      <td>POINT(-92.4224416 44.71850291)</td>\n",
              "      <td>12827.0</td>\n",
              "      <td>77.0</td>\n",
              "      <td>NaN</td>\n",
              "      <td>NaN</td>\n",
              "      <td>55093.0</td>\n",
              "      <td>Pierce</td>\n",
              "      <td>Pierce, Wisconsin, US</td>\n",
              "    </tr>\n",
              "    <tr>\n",
              "      <th>4264077</th>\n",
              "      <td>Wisconsin</td>\n",
              "      <td>US</td>\n",
              "      <td>2022-09-29</td>\n",
              "      <td>42.747531</td>\n",
              "      <td>-88.059413</td>\n",
              "      <td>POINT(-88.05941254 42.74753117)</td>\n",
              "      <td>65770.0</td>\n",
              "      <td>717.0</td>\n",
              "      <td>NaN</td>\n",
              "      <td>NaN</td>\n",
              "      <td>55101.0</td>\n",
              "      <td>Racine</td>\n",
              "      <td>Racine, Wisconsin, US</td>\n",
              "    </tr>\n",
              "    <tr>\n",
              "      <th>4264078</th>\n",
              "      <td>Wisconsin</td>\n",
              "      <td>US</td>\n",
              "      <td>2022-09-29</td>\n",
              "      <td>42.671516</td>\n",
              "      <td>-89.071479</td>\n",
              "      <td>POINT(-89.071479 42.67151616)</td>\n",
              "      <td>50990.0</td>\n",
              "      <td>421.0</td>\n",
              "      <td>NaN</td>\n",
              "      <td>NaN</td>\n",
              "      <td>55105.0</td>\n",
              "      <td>Rock</td>\n",
              "      <td>Rock, Wisconsin, US</td>\n",
              "    </tr>\n",
              "    <tr>\n",
              "      <th>4264079</th>\n",
              "      <td>Wisconsin</td>\n",
              "      <td>US</td>\n",
              "      <td>2022-09-29</td>\n",
              "      <td>45.474989</td>\n",
              "      <td>-91.133301</td>\n",
              "      <td>POINT(-91.1333012 45.47498854)</td>\n",
              "      <td>3936.0</td>\n",
              "      <td>60.0</td>\n",
              "      <td>NaN</td>\n",
              "      <td>NaN</td>\n",
              "      <td>55107.0</td>\n",
              "      <td>Rusk</td>\n",
              "      <td>Rusk, Wisconsin, US</td>\n",
              "    </tr>\n",
              "  </tbody>\n",
              "</table>\n",
              "</div>\n",
              "      <button class=\"colab-df-convert\" onclick=\"convertToInteractive('df-27bf7dfd-f41e-4944-8852-d94e5175caa9')\"\n",
              "              title=\"Convert this dataframe to an interactive table.\"\n",
              "              style=\"display:none;\">\n",
              "        \n",
              "  <svg xmlns=\"http://www.w3.org/2000/svg\" height=\"24px\"viewBox=\"0 0 24 24\"\n",
              "       width=\"24px\">\n",
              "    <path d=\"M0 0h24v24H0V0z\" fill=\"none\"/>\n",
              "    <path d=\"M18.56 5.44l.94 2.06.94-2.06 2.06-.94-2.06-.94-.94-2.06-.94 2.06-2.06.94zm-11 1L8.5 8.5l.94-2.06 2.06-.94-2.06-.94L8.5 2.5l-.94 2.06-2.06.94zm10 10l.94 2.06.94-2.06 2.06-.94-2.06-.94-.94-2.06-.94 2.06-2.06.94z\"/><path d=\"M17.41 7.96l-1.37-1.37c-.4-.4-.92-.59-1.43-.59-.52 0-1.04.2-1.43.59L10.3 9.45l-7.72 7.72c-.78.78-.78 2.05 0 2.83L4 21.41c.39.39.9.59 1.41.59.51 0 1.02-.2 1.41-.59l7.78-7.78 2.81-2.81c.8-.78.8-2.07 0-2.86zM5.41 20L4 18.59l7.72-7.72 1.47 1.35L5.41 20z\"/>\n",
              "  </svg>\n",
              "      </button>\n",
              "      \n",
              "  <style>\n",
              "    .colab-df-container {\n",
              "      display:flex;\n",
              "      flex-wrap:wrap;\n",
              "      gap: 12px;\n",
              "    }\n",
              "\n",
              "    .colab-df-convert {\n",
              "      background-color: #E8F0FE;\n",
              "      border: none;\n",
              "      border-radius: 50%;\n",
              "      cursor: pointer;\n",
              "      display: none;\n",
              "      fill: #1967D2;\n",
              "      height: 32px;\n",
              "      padding: 0 0 0 0;\n",
              "      width: 32px;\n",
              "    }\n",
              "\n",
              "    .colab-df-convert:hover {\n",
              "      background-color: #E2EBFA;\n",
              "      box-shadow: 0px 1px 2px rgba(60, 64, 67, 0.3), 0px 1px 3px 1px rgba(60, 64, 67, 0.15);\n",
              "      fill: #174EA6;\n",
              "    }\n",
              "\n",
              "    [theme=dark] .colab-df-convert {\n",
              "      background-color: #3B4455;\n",
              "      fill: #D2E3FC;\n",
              "    }\n",
              "\n",
              "    [theme=dark] .colab-df-convert:hover {\n",
              "      background-color: #434B5C;\n",
              "      box-shadow: 0px 1px 3px 1px rgba(0, 0, 0, 0.15);\n",
              "      filter: drop-shadow(0px 1px 2px rgba(0, 0, 0, 0.3));\n",
              "      fill: #FFFFFF;\n",
              "    }\n",
              "  </style>\n",
              "\n",
              "      <script>\n",
              "        const buttonEl =\n",
              "          document.querySelector('#df-27bf7dfd-f41e-4944-8852-d94e5175caa9 button.colab-df-convert');\n",
              "        buttonEl.style.display =\n",
              "          google.colab.kernel.accessAllowed ? 'block' : 'none';\n",
              "\n",
              "        async function convertToInteractive(key) {\n",
              "          const element = document.querySelector('#df-27bf7dfd-f41e-4944-8852-d94e5175caa9');\n",
              "          const dataTable =\n",
              "            await google.colab.kernel.invokeFunction('convertToInteractive',\n",
              "                                                     [key], {});\n",
              "          if (!dataTable) return;\n",
              "\n",
              "          const docLinkHtml = 'Like what you see? Visit the ' +\n",
              "            '<a target=\"_blank\" href=https://colab.research.google.com/notebooks/data_table.ipynb>data table notebook</a>'\n",
              "            + ' to learn more about interactive tables.';\n",
              "          element.innerHTML = '';\n",
              "          dataTable['output_type'] = 'display_data';\n",
              "          await google.colab.output.renderOutput(dataTable, element);\n",
              "          const docLink = document.createElement('div');\n",
              "          docLink.innerHTML = docLinkHtml;\n",
              "          element.appendChild(docLink);\n",
              "        }\n",
              "      </script>\n",
              "    </div>\n",
              "  </div>\n",
              "  "
            ]
          },
          "metadata": {},
          "execution_count": 42
        }
      ]
    },
    {
      "cell_type": "markdown",
      "source": [
        "ini adalah dataset 5 terbawah"
      ],
      "metadata": {
        "id": "ehYYsj-wrY1T"
      }
    },
    {
      "cell_type": "markdown",
      "source": [
        "## Meload seluruh data"
      ],
      "metadata": {
        "id": "r4iKnz_hbkyK"
      }
    },
    {
      "cell_type": "code",
      "source": [
        "#meload seluruh data\n",
        "\n",
        "df"
      ],
      "metadata": {
        "id": "bMuyZB6tdF1-",
        "outputId": "58cb616b-f893-4013-d876-0995eacff743",
        "colab": {
          "base_uri": "https://localhost:8080/",
          "height": 424
        }
      },
      "execution_count": 43,
      "outputs": [
        {
          "output_type": "execute_result",
          "data": {
            "text/plain": [
              "         province_state country_region        date   latitude  longitude  \\\n",
              "0               Georgia             US  2020-05-15  34.471977 -85.345357   \n",
              "1              New York             US  2020-05-15  42.138911 -76.763880   \n",
              "2             Wisconsin             US  2020-05-15  45.069397 -91.280689   \n",
              "3        North Carolina             US  2020-05-15  36.129081 -76.601184   \n",
              "4              Kentucky             US  2020-05-15  36.892678 -87.490554   \n",
              "...                 ...            ...         ...        ...        ...   \n",
              "4264075       Wisconsin             US  2022-09-29  44.583074 -91.999496   \n",
              "4264076       Wisconsin             US  2022-09-29  44.718503 -92.422442   \n",
              "4264077       Wisconsin             US  2022-09-29  42.747531 -88.059413   \n",
              "4264078       Wisconsin             US  2022-09-29  42.671516 -89.071479   \n",
              "4264079       Wisconsin             US  2022-09-29  45.474989 -91.133301   \n",
              "\n",
              "                           location_geom  confirmed  deaths  recovered  \\\n",
              "0        POINT(-85.34535662 34.47197698)       15.0     2.0        0.0   \n",
              "1         POINT(-76.7638805 42.13891056)      133.0     1.0        0.0   \n",
              "2        POINT(-91.28068855 45.06939744)       37.0     0.0        0.0   \n",
              "3        POINT(-76.60118385 36.12908077)       12.0     0.0        0.0   \n",
              "4        POINT(-87.49055367 36.89267803)       95.0     3.0        0.0   \n",
              "...                                  ...        ...     ...        ...   \n",
              "4264075  POINT(-91.99949611 44.58307413)     2204.0    19.0        NaN   \n",
              "4264076   POINT(-92.4224416 44.71850291)    12827.0    77.0        NaN   \n",
              "4264077  POINT(-88.05941254 42.74753117)    65770.0   717.0        NaN   \n",
              "4264078    POINT(-89.071479 42.67151616)    50990.0   421.0        NaN   \n",
              "4264079   POINT(-91.1333012 45.47498854)     3936.0    60.0        NaN   \n",
              "\n",
              "         active     fips     admin2                combined_key  \n",
              "0          13.0  13055.0  Chattooga      Chattooga, Georgia, US  \n",
              "1         132.0  36015.0    Chemung       Chemung, New York, US  \n",
              "2          37.0  55017.0   Chippewa     Chippewa, Wisconsin, US  \n",
              "3          12.0  37041.0     Chowan  Chowan, North Carolina, US  \n",
              "4          92.0  21047.0  Christian     Christian, Kentucky, US  \n",
              "...         ...      ...        ...                         ...  \n",
              "4264075     NaN  55091.0      Pepin        Pepin, Wisconsin, US  \n",
              "4264076     NaN  55093.0     Pierce       Pierce, Wisconsin, US  \n",
              "4264077     NaN  55101.0     Racine       Racine, Wisconsin, US  \n",
              "4264078     NaN  55105.0       Rock         Rock, Wisconsin, US  \n",
              "4264079     NaN  55107.0       Rusk         Rusk, Wisconsin, US  \n",
              "\n",
              "[4264080 rows x 13 columns]"
            ],
            "text/html": [
              "\n",
              "  <div id=\"df-14d6dadd-c79a-439a-853a-c0e895119711\">\n",
              "    <div class=\"colab-df-container\">\n",
              "      <div>\n",
              "<style scoped>\n",
              "    .dataframe tbody tr th:only-of-type {\n",
              "        vertical-align: middle;\n",
              "    }\n",
              "\n",
              "    .dataframe tbody tr th {\n",
              "        vertical-align: top;\n",
              "    }\n",
              "\n",
              "    .dataframe thead th {\n",
              "        text-align: right;\n",
              "    }\n",
              "</style>\n",
              "<table border=\"1\" class=\"dataframe\">\n",
              "  <thead>\n",
              "    <tr style=\"text-align: right;\">\n",
              "      <th></th>\n",
              "      <th>province_state</th>\n",
              "      <th>country_region</th>\n",
              "      <th>date</th>\n",
              "      <th>latitude</th>\n",
              "      <th>longitude</th>\n",
              "      <th>location_geom</th>\n",
              "      <th>confirmed</th>\n",
              "      <th>deaths</th>\n",
              "      <th>recovered</th>\n",
              "      <th>active</th>\n",
              "      <th>fips</th>\n",
              "      <th>admin2</th>\n",
              "      <th>combined_key</th>\n",
              "    </tr>\n",
              "  </thead>\n",
              "  <tbody>\n",
              "    <tr>\n",
              "      <th>0</th>\n",
              "      <td>Georgia</td>\n",
              "      <td>US</td>\n",
              "      <td>2020-05-15</td>\n",
              "      <td>34.471977</td>\n",
              "      <td>-85.345357</td>\n",
              "      <td>POINT(-85.34535662 34.47197698)</td>\n",
              "      <td>15.0</td>\n",
              "      <td>2.0</td>\n",
              "      <td>0.0</td>\n",
              "      <td>13.0</td>\n",
              "      <td>13055.0</td>\n",
              "      <td>Chattooga</td>\n",
              "      <td>Chattooga, Georgia, US</td>\n",
              "    </tr>\n",
              "    <tr>\n",
              "      <th>1</th>\n",
              "      <td>New York</td>\n",
              "      <td>US</td>\n",
              "      <td>2020-05-15</td>\n",
              "      <td>42.138911</td>\n",
              "      <td>-76.763880</td>\n",
              "      <td>POINT(-76.7638805 42.13891056)</td>\n",
              "      <td>133.0</td>\n",
              "      <td>1.0</td>\n",
              "      <td>0.0</td>\n",
              "      <td>132.0</td>\n",
              "      <td>36015.0</td>\n",
              "      <td>Chemung</td>\n",
              "      <td>Chemung, New York, US</td>\n",
              "    </tr>\n",
              "    <tr>\n",
              "      <th>2</th>\n",
              "      <td>Wisconsin</td>\n",
              "      <td>US</td>\n",
              "      <td>2020-05-15</td>\n",
              "      <td>45.069397</td>\n",
              "      <td>-91.280689</td>\n",
              "      <td>POINT(-91.28068855 45.06939744)</td>\n",
              "      <td>37.0</td>\n",
              "      <td>0.0</td>\n",
              "      <td>0.0</td>\n",
              "      <td>37.0</td>\n",
              "      <td>55017.0</td>\n",
              "      <td>Chippewa</td>\n",
              "      <td>Chippewa, Wisconsin, US</td>\n",
              "    </tr>\n",
              "    <tr>\n",
              "      <th>3</th>\n",
              "      <td>North Carolina</td>\n",
              "      <td>US</td>\n",
              "      <td>2020-05-15</td>\n",
              "      <td>36.129081</td>\n",
              "      <td>-76.601184</td>\n",
              "      <td>POINT(-76.60118385 36.12908077)</td>\n",
              "      <td>12.0</td>\n",
              "      <td>0.0</td>\n",
              "      <td>0.0</td>\n",
              "      <td>12.0</td>\n",
              "      <td>37041.0</td>\n",
              "      <td>Chowan</td>\n",
              "      <td>Chowan, North Carolina, US</td>\n",
              "    </tr>\n",
              "    <tr>\n",
              "      <th>4</th>\n",
              "      <td>Kentucky</td>\n",
              "      <td>US</td>\n",
              "      <td>2020-05-15</td>\n",
              "      <td>36.892678</td>\n",
              "      <td>-87.490554</td>\n",
              "      <td>POINT(-87.49055367 36.89267803)</td>\n",
              "      <td>95.0</td>\n",
              "      <td>3.0</td>\n",
              "      <td>0.0</td>\n",
              "      <td>92.0</td>\n",
              "      <td>21047.0</td>\n",
              "      <td>Christian</td>\n",
              "      <td>Christian, Kentucky, US</td>\n",
              "    </tr>\n",
              "    <tr>\n",
              "      <th>...</th>\n",
              "      <td>...</td>\n",
              "      <td>...</td>\n",
              "      <td>...</td>\n",
              "      <td>...</td>\n",
              "      <td>...</td>\n",
              "      <td>...</td>\n",
              "      <td>...</td>\n",
              "      <td>...</td>\n",
              "      <td>...</td>\n",
              "      <td>...</td>\n",
              "      <td>...</td>\n",
              "      <td>...</td>\n",
              "      <td>...</td>\n",
              "    </tr>\n",
              "    <tr>\n",
              "      <th>4264075</th>\n",
              "      <td>Wisconsin</td>\n",
              "      <td>US</td>\n",
              "      <td>2022-09-29</td>\n",
              "      <td>44.583074</td>\n",
              "      <td>-91.999496</td>\n",
              "      <td>POINT(-91.99949611 44.58307413)</td>\n",
              "      <td>2204.0</td>\n",
              "      <td>19.0</td>\n",
              "      <td>NaN</td>\n",
              "      <td>NaN</td>\n",
              "      <td>55091.0</td>\n",
              "      <td>Pepin</td>\n",
              "      <td>Pepin, Wisconsin, US</td>\n",
              "    </tr>\n",
              "    <tr>\n",
              "      <th>4264076</th>\n",
              "      <td>Wisconsin</td>\n",
              "      <td>US</td>\n",
              "      <td>2022-09-29</td>\n",
              "      <td>44.718503</td>\n",
              "      <td>-92.422442</td>\n",
              "      <td>POINT(-92.4224416 44.71850291)</td>\n",
              "      <td>12827.0</td>\n",
              "      <td>77.0</td>\n",
              "      <td>NaN</td>\n",
              "      <td>NaN</td>\n",
              "      <td>55093.0</td>\n",
              "      <td>Pierce</td>\n",
              "      <td>Pierce, Wisconsin, US</td>\n",
              "    </tr>\n",
              "    <tr>\n",
              "      <th>4264077</th>\n",
              "      <td>Wisconsin</td>\n",
              "      <td>US</td>\n",
              "      <td>2022-09-29</td>\n",
              "      <td>42.747531</td>\n",
              "      <td>-88.059413</td>\n",
              "      <td>POINT(-88.05941254 42.74753117)</td>\n",
              "      <td>65770.0</td>\n",
              "      <td>717.0</td>\n",
              "      <td>NaN</td>\n",
              "      <td>NaN</td>\n",
              "      <td>55101.0</td>\n",
              "      <td>Racine</td>\n",
              "      <td>Racine, Wisconsin, US</td>\n",
              "    </tr>\n",
              "    <tr>\n",
              "      <th>4264078</th>\n",
              "      <td>Wisconsin</td>\n",
              "      <td>US</td>\n",
              "      <td>2022-09-29</td>\n",
              "      <td>42.671516</td>\n",
              "      <td>-89.071479</td>\n",
              "      <td>POINT(-89.071479 42.67151616)</td>\n",
              "      <td>50990.0</td>\n",
              "      <td>421.0</td>\n",
              "      <td>NaN</td>\n",
              "      <td>NaN</td>\n",
              "      <td>55105.0</td>\n",
              "      <td>Rock</td>\n",
              "      <td>Rock, Wisconsin, US</td>\n",
              "    </tr>\n",
              "    <tr>\n",
              "      <th>4264079</th>\n",
              "      <td>Wisconsin</td>\n",
              "      <td>US</td>\n",
              "      <td>2022-09-29</td>\n",
              "      <td>45.474989</td>\n",
              "      <td>-91.133301</td>\n",
              "      <td>POINT(-91.1333012 45.47498854)</td>\n",
              "      <td>3936.0</td>\n",
              "      <td>60.0</td>\n",
              "      <td>NaN</td>\n",
              "      <td>NaN</td>\n",
              "      <td>55107.0</td>\n",
              "      <td>Rusk</td>\n",
              "      <td>Rusk, Wisconsin, US</td>\n",
              "    </tr>\n",
              "  </tbody>\n",
              "</table>\n",
              "<p>4264080 rows × 13 columns</p>\n",
              "</div>\n",
              "      <button class=\"colab-df-convert\" onclick=\"convertToInteractive('df-14d6dadd-c79a-439a-853a-c0e895119711')\"\n",
              "              title=\"Convert this dataframe to an interactive table.\"\n",
              "              style=\"display:none;\">\n",
              "        \n",
              "  <svg xmlns=\"http://www.w3.org/2000/svg\" height=\"24px\"viewBox=\"0 0 24 24\"\n",
              "       width=\"24px\">\n",
              "    <path d=\"M0 0h24v24H0V0z\" fill=\"none\"/>\n",
              "    <path d=\"M18.56 5.44l.94 2.06.94-2.06 2.06-.94-2.06-.94-.94-2.06-.94 2.06-2.06.94zm-11 1L8.5 8.5l.94-2.06 2.06-.94-2.06-.94L8.5 2.5l-.94 2.06-2.06.94zm10 10l.94 2.06.94-2.06 2.06-.94-2.06-.94-.94-2.06-.94 2.06-2.06.94z\"/><path d=\"M17.41 7.96l-1.37-1.37c-.4-.4-.92-.59-1.43-.59-.52 0-1.04.2-1.43.59L10.3 9.45l-7.72 7.72c-.78.78-.78 2.05 0 2.83L4 21.41c.39.39.9.59 1.41.59.51 0 1.02-.2 1.41-.59l7.78-7.78 2.81-2.81c.8-.78.8-2.07 0-2.86zM5.41 20L4 18.59l7.72-7.72 1.47 1.35L5.41 20z\"/>\n",
              "  </svg>\n",
              "      </button>\n",
              "      \n",
              "  <style>\n",
              "    .colab-df-container {\n",
              "      display:flex;\n",
              "      flex-wrap:wrap;\n",
              "      gap: 12px;\n",
              "    }\n",
              "\n",
              "    .colab-df-convert {\n",
              "      background-color: #E8F0FE;\n",
              "      border: none;\n",
              "      border-radius: 50%;\n",
              "      cursor: pointer;\n",
              "      display: none;\n",
              "      fill: #1967D2;\n",
              "      height: 32px;\n",
              "      padding: 0 0 0 0;\n",
              "      width: 32px;\n",
              "    }\n",
              "\n",
              "    .colab-df-convert:hover {\n",
              "      background-color: #E2EBFA;\n",
              "      box-shadow: 0px 1px 2px rgba(60, 64, 67, 0.3), 0px 1px 3px 1px rgba(60, 64, 67, 0.15);\n",
              "      fill: #174EA6;\n",
              "    }\n",
              "\n",
              "    [theme=dark] .colab-df-convert {\n",
              "      background-color: #3B4455;\n",
              "      fill: #D2E3FC;\n",
              "    }\n",
              "\n",
              "    [theme=dark] .colab-df-convert:hover {\n",
              "      background-color: #434B5C;\n",
              "      box-shadow: 0px 1px 3px 1px rgba(0, 0, 0, 0.15);\n",
              "      filter: drop-shadow(0px 1px 2px rgba(0, 0, 0, 0.3));\n",
              "      fill: #FFFFFF;\n",
              "    }\n",
              "  </style>\n",
              "\n",
              "      <script>\n",
              "        const buttonEl =\n",
              "          document.querySelector('#df-14d6dadd-c79a-439a-853a-c0e895119711 button.colab-df-convert');\n",
              "        buttonEl.style.display =\n",
              "          google.colab.kernel.accessAllowed ? 'block' : 'none';\n",
              "\n",
              "        async function convertToInteractive(key) {\n",
              "          const element = document.querySelector('#df-14d6dadd-c79a-439a-853a-c0e895119711');\n",
              "          const dataTable =\n",
              "            await google.colab.kernel.invokeFunction('convertToInteractive',\n",
              "                                                     [key], {});\n",
              "          if (!dataTable) return;\n",
              "\n",
              "          const docLinkHtml = 'Like what you see? Visit the ' +\n",
              "            '<a target=\"_blank\" href=https://colab.research.google.com/notebooks/data_table.ipynb>data table notebook</a>'\n",
              "            + ' to learn more about interactive tables.';\n",
              "          element.innerHTML = '';\n",
              "          dataTable['output_type'] = 'display_data';\n",
              "          await google.colab.output.renderOutput(dataTable, element);\n",
              "          const docLink = document.createElement('div');\n",
              "          docLink.innerHTML = docLinkHtml;\n",
              "          element.appendChild(docLink);\n",
              "        }\n",
              "      </script>\n",
              "    </div>\n",
              "  </div>\n",
              "  "
            ]
          },
          "metadata": {},
          "execution_count": 43
        }
      ]
    },
    {
      "cell_type": "markdown",
      "source": [
        "ini adalah dataset dari menyebaran covid diseluruh dunia "
      ],
      "metadata": {
        "id": "qSdTwxxJlONf"
      }
    },
    {
      "cell_type": "markdown",
      "source": [
        "\n",
        "\n",
        "*   **province_state** | Nama Provinsi\n",
        "*   **country_region** | Nama Negara\n",
        "*   **date** | Tanggal\n",
        "*   **latitude** | titik kordidat sumbu y\n",
        "*   **logitude** | titik kordinat sumbu x\n",
        "*   **location_goem** | titik lokasi geometri\n",
        "*   **confirmed** | Jumlah data yang positif terkena covid19\n",
        "*   **deaths** | Jumlah korban meninggal\n",
        "*   **recovered** | Jumlah pasien sembuh\n",
        "*   **active** | Jumlah selisih dari data 'confirmed' dan 'death'\n",
        "*   **fips** | Kode federal information Processing Standars \n",
        "*   **admin2** | nama distrik\n",
        "*   **combined_key** | gabungan nama distrik,provinsi,negara\n",
        "\n"
      ],
      "metadata": {
        "id": "iU-Tbxk-vp8g"
      }
    },
    {
      "cell_type": "markdown",
      "source": [
        "# iv. Data Cleaning"
      ],
      "metadata": {
        "id": "CUoxId8O4DJb"
      }
    },
    {
      "cell_type": "code",
      "source": [
        "#informasi dataset \n",
        "df.info()"
      ],
      "metadata": {
        "colab": {
          "base_uri": "https://localhost:8080/"
        },
        "id": "Zer0C8Sk3-hL",
        "outputId": "bd843e4d-bca6-4bae-8a47-3539d5559a1b"
      },
      "execution_count": 44,
      "outputs": [
        {
          "output_type": "stream",
          "name": "stdout",
          "text": [
            "<class 'pandas.core.frame.DataFrame'>\n",
            "RangeIndex: 4264080 entries, 0 to 4264079\n",
            "Data columns (total 13 columns):\n",
            " #   Column          Dtype  \n",
            "---  ------          -----  \n",
            " 0   province_state  object \n",
            " 1   country_region  object \n",
            " 2   date            object \n",
            " 3   latitude        float64\n",
            " 4   longitude       float64\n",
            " 5   location_geom   object \n",
            " 6   confirmed       float64\n",
            " 7   deaths          float64\n",
            " 8   recovered       float64\n",
            " 9   active          float64\n",
            " 10  fips            float64\n",
            " 11  admin2          object \n",
            " 12  combined_key    object \n",
            "dtypes: float64(7), object(6)\n",
            "memory usage: 422.9+ MB\n"
          ]
        }
      ]
    },
    {
      "cell_type": "code",
      "source": [
        "#meload deskripsi dari dataset menggunakan funtion .describe\n",
        "df.describe()"
      ],
      "metadata": {
        "colab": {
          "base_uri": "https://localhost:8080/",
          "height": 301
        },
        "id": "ireNRcXDFri0",
        "outputId": "f56ef443-a3d0-4d59-9512-b69b6f77944b"
      },
      "execution_count": 45,
      "outputs": [
        {
          "output_type": "execute_result",
          "data": {
            "text/plain": [
              "           latitude     longitude     confirmed        deaths     recovered  \\\n",
              "count  4.168817e+06  4.168817e+06  4.264061e+06  4.263638e+06  1.435591e+06   \n",
              "mean   3.590688e+01 -7.203787e+01  7.424153e+04  1.026421e+03  1.636175e+04   \n",
              "std    1.305595e+01  5.386805e+01  5.864612e+05  6.351388e+03  1.341763e+05   \n",
              "min   -7.194990e+01 -1.781165e+02 -3.028440e+05 -1.780000e+02 -8.544050e+05   \n",
              "25%    3.326679e+01 -9.657264e+01  8.010000e+02  1.100000e+01  0.000000e+00   \n",
              "50%    3.793358e+01 -8.686492e+01  3.741000e+03  5.800000e+01  0.000000e+00   \n",
              "75%    4.213891e+01 -7.765540e+01  1.606500e+04  2.230000e+02  0.000000e+00   \n",
              "max    7.200000e+01  1.780650e+02  3.861851e+07  6.246410e+05  6.399531e+06   \n",
              "\n",
              "             active          fips  \n",
              "count  1.427512e+06  3.499492e+06  \n",
              "mean   6.556527e+03  3.228783e+04  \n",
              "std    9.286123e+04  1.793271e+04  \n",
              "min   -6.298082e+06  6.000000e+01  \n",
              "25%    5.500000e+01  1.904100e+04  \n",
              "50%    4.710000e+02  3.005700e+04  \n",
              "75%    2.248000e+03  4.702900e+04  \n",
              "max    1.087776e+07  9.999900e+04  "
            ],
            "text/html": [
              "\n",
              "  <div id=\"df-cc62a2ac-2d1c-460a-a4cc-824bde904e51\">\n",
              "    <div class=\"colab-df-container\">\n",
              "      <div>\n",
              "<style scoped>\n",
              "    .dataframe tbody tr th:only-of-type {\n",
              "        vertical-align: middle;\n",
              "    }\n",
              "\n",
              "    .dataframe tbody tr th {\n",
              "        vertical-align: top;\n",
              "    }\n",
              "\n",
              "    .dataframe thead th {\n",
              "        text-align: right;\n",
              "    }\n",
              "</style>\n",
              "<table border=\"1\" class=\"dataframe\">\n",
              "  <thead>\n",
              "    <tr style=\"text-align: right;\">\n",
              "      <th></th>\n",
              "      <th>latitude</th>\n",
              "      <th>longitude</th>\n",
              "      <th>confirmed</th>\n",
              "      <th>deaths</th>\n",
              "      <th>recovered</th>\n",
              "      <th>active</th>\n",
              "      <th>fips</th>\n",
              "    </tr>\n",
              "  </thead>\n",
              "  <tbody>\n",
              "    <tr>\n",
              "      <th>count</th>\n",
              "      <td>4.168817e+06</td>\n",
              "      <td>4.168817e+06</td>\n",
              "      <td>4.264061e+06</td>\n",
              "      <td>4.263638e+06</td>\n",
              "      <td>1.435591e+06</td>\n",
              "      <td>1.427512e+06</td>\n",
              "      <td>3.499492e+06</td>\n",
              "    </tr>\n",
              "    <tr>\n",
              "      <th>mean</th>\n",
              "      <td>3.590688e+01</td>\n",
              "      <td>-7.203787e+01</td>\n",
              "      <td>7.424153e+04</td>\n",
              "      <td>1.026421e+03</td>\n",
              "      <td>1.636175e+04</td>\n",
              "      <td>6.556527e+03</td>\n",
              "      <td>3.228783e+04</td>\n",
              "    </tr>\n",
              "    <tr>\n",
              "      <th>std</th>\n",
              "      <td>1.305595e+01</td>\n",
              "      <td>5.386805e+01</td>\n",
              "      <td>5.864612e+05</td>\n",
              "      <td>6.351388e+03</td>\n",
              "      <td>1.341763e+05</td>\n",
              "      <td>9.286123e+04</td>\n",
              "      <td>1.793271e+04</td>\n",
              "    </tr>\n",
              "    <tr>\n",
              "      <th>min</th>\n",
              "      <td>-7.194990e+01</td>\n",
              "      <td>-1.781165e+02</td>\n",
              "      <td>-3.028440e+05</td>\n",
              "      <td>-1.780000e+02</td>\n",
              "      <td>-8.544050e+05</td>\n",
              "      <td>-6.298082e+06</td>\n",
              "      <td>6.000000e+01</td>\n",
              "    </tr>\n",
              "    <tr>\n",
              "      <th>25%</th>\n",
              "      <td>3.326679e+01</td>\n",
              "      <td>-9.657264e+01</td>\n",
              "      <td>8.010000e+02</td>\n",
              "      <td>1.100000e+01</td>\n",
              "      <td>0.000000e+00</td>\n",
              "      <td>5.500000e+01</td>\n",
              "      <td>1.904100e+04</td>\n",
              "    </tr>\n",
              "    <tr>\n",
              "      <th>50%</th>\n",
              "      <td>3.793358e+01</td>\n",
              "      <td>-8.686492e+01</td>\n",
              "      <td>3.741000e+03</td>\n",
              "      <td>5.800000e+01</td>\n",
              "      <td>0.000000e+00</td>\n",
              "      <td>4.710000e+02</td>\n",
              "      <td>3.005700e+04</td>\n",
              "    </tr>\n",
              "    <tr>\n",
              "      <th>75%</th>\n",
              "      <td>4.213891e+01</td>\n",
              "      <td>-7.765540e+01</td>\n",
              "      <td>1.606500e+04</td>\n",
              "      <td>2.230000e+02</td>\n",
              "      <td>0.000000e+00</td>\n",
              "      <td>2.248000e+03</td>\n",
              "      <td>4.702900e+04</td>\n",
              "    </tr>\n",
              "    <tr>\n",
              "      <th>max</th>\n",
              "      <td>7.200000e+01</td>\n",
              "      <td>1.780650e+02</td>\n",
              "      <td>3.861851e+07</td>\n",
              "      <td>6.246410e+05</td>\n",
              "      <td>6.399531e+06</td>\n",
              "      <td>1.087776e+07</td>\n",
              "      <td>9.999900e+04</td>\n",
              "    </tr>\n",
              "  </tbody>\n",
              "</table>\n",
              "</div>\n",
              "      <button class=\"colab-df-convert\" onclick=\"convertToInteractive('df-cc62a2ac-2d1c-460a-a4cc-824bde904e51')\"\n",
              "              title=\"Convert this dataframe to an interactive table.\"\n",
              "              style=\"display:none;\">\n",
              "        \n",
              "  <svg xmlns=\"http://www.w3.org/2000/svg\" height=\"24px\"viewBox=\"0 0 24 24\"\n",
              "       width=\"24px\">\n",
              "    <path d=\"M0 0h24v24H0V0z\" fill=\"none\"/>\n",
              "    <path d=\"M18.56 5.44l.94 2.06.94-2.06 2.06-.94-2.06-.94-.94-2.06-.94 2.06-2.06.94zm-11 1L8.5 8.5l.94-2.06 2.06-.94-2.06-.94L8.5 2.5l-.94 2.06-2.06.94zm10 10l.94 2.06.94-2.06 2.06-.94-2.06-.94-.94-2.06-.94 2.06-2.06.94z\"/><path d=\"M17.41 7.96l-1.37-1.37c-.4-.4-.92-.59-1.43-.59-.52 0-1.04.2-1.43.59L10.3 9.45l-7.72 7.72c-.78.78-.78 2.05 0 2.83L4 21.41c.39.39.9.59 1.41.59.51 0 1.02-.2 1.41-.59l7.78-7.78 2.81-2.81c.8-.78.8-2.07 0-2.86zM5.41 20L4 18.59l7.72-7.72 1.47 1.35L5.41 20z\"/>\n",
              "  </svg>\n",
              "      </button>\n",
              "      \n",
              "  <style>\n",
              "    .colab-df-container {\n",
              "      display:flex;\n",
              "      flex-wrap:wrap;\n",
              "      gap: 12px;\n",
              "    }\n",
              "\n",
              "    .colab-df-convert {\n",
              "      background-color: #E8F0FE;\n",
              "      border: none;\n",
              "      border-radius: 50%;\n",
              "      cursor: pointer;\n",
              "      display: none;\n",
              "      fill: #1967D2;\n",
              "      height: 32px;\n",
              "      padding: 0 0 0 0;\n",
              "      width: 32px;\n",
              "    }\n",
              "\n",
              "    .colab-df-convert:hover {\n",
              "      background-color: #E2EBFA;\n",
              "      box-shadow: 0px 1px 2px rgba(60, 64, 67, 0.3), 0px 1px 3px 1px rgba(60, 64, 67, 0.15);\n",
              "      fill: #174EA6;\n",
              "    }\n",
              "\n",
              "    [theme=dark] .colab-df-convert {\n",
              "      background-color: #3B4455;\n",
              "      fill: #D2E3FC;\n",
              "    }\n",
              "\n",
              "    [theme=dark] .colab-df-convert:hover {\n",
              "      background-color: #434B5C;\n",
              "      box-shadow: 0px 1px 3px 1px rgba(0, 0, 0, 0.15);\n",
              "      filter: drop-shadow(0px 1px 2px rgba(0, 0, 0, 0.3));\n",
              "      fill: #FFFFFF;\n",
              "    }\n",
              "  </style>\n",
              "\n",
              "      <script>\n",
              "        const buttonEl =\n",
              "          document.querySelector('#df-cc62a2ac-2d1c-460a-a4cc-824bde904e51 button.colab-df-convert');\n",
              "        buttonEl.style.display =\n",
              "          google.colab.kernel.accessAllowed ? 'block' : 'none';\n",
              "\n",
              "        async function convertToInteractive(key) {\n",
              "          const element = document.querySelector('#df-cc62a2ac-2d1c-460a-a4cc-824bde904e51');\n",
              "          const dataTable =\n",
              "            await google.colab.kernel.invokeFunction('convertToInteractive',\n",
              "                                                     [key], {});\n",
              "          if (!dataTable) return;\n",
              "\n",
              "          const docLinkHtml = 'Like what you see? Visit the ' +\n",
              "            '<a target=\"_blank\" href=https://colab.research.google.com/notebooks/data_table.ipynb>data table notebook</a>'\n",
              "            + ' to learn more about interactive tables.';\n",
              "          element.innerHTML = '';\n",
              "          dataTable['output_type'] = 'display_data';\n",
              "          await google.colab.output.renderOutput(dataTable, element);\n",
              "          const docLink = document.createElement('div');\n",
              "          docLink.innerHTML = docLinkHtml;\n",
              "          element.appendChild(docLink);\n",
              "        }\n",
              "      </script>\n",
              "    </div>\n",
              "  </div>\n",
              "  "
            ]
          },
          "metadata": {},
          "execution_count": 45
        }
      ]
    },
    {
      "cell_type": "code",
      "source": [
        "#meload data covid 19 hanya di negara US\n",
        "\n",
        "data_c_us=df.query(\"country_region == 'US'\")\n",
        "print(data_c_us)"
      ],
      "metadata": {
        "colab": {
          "base_uri": "https://localhost:8080/"
        },
        "id": "zkt3CFllng2f",
        "outputId": "3de021ba-ff1d-4dad-85aa-12b28f3f9c7a"
      },
      "execution_count": 46,
      "outputs": [
        {
          "output_type": "stream",
          "name": "stdout",
          "text": [
            "         province_state country_region        date   latitude  longitude  \\\n",
            "0               Georgia             US  2020-05-15  34.471977 -85.345357   \n",
            "1              New York             US  2020-05-15  42.138911 -76.763880   \n",
            "2             Wisconsin             US  2020-05-15  45.069397 -91.280689   \n",
            "3        North Carolina             US  2020-05-15  36.129081 -76.601184   \n",
            "4              Kentucky             US  2020-05-15  36.892678 -87.490554   \n",
            "...                 ...            ...         ...        ...        ...   \n",
            "4264075       Wisconsin             US  2022-09-29  44.583074 -91.999496   \n",
            "4264076       Wisconsin             US  2022-09-29  44.718503 -92.422442   \n",
            "4264077       Wisconsin             US  2022-09-29  42.747531 -88.059413   \n",
            "4264078       Wisconsin             US  2022-09-29  42.671516 -89.071479   \n",
            "4264079       Wisconsin             US  2022-09-29  45.474989 -91.133301   \n",
            "\n",
            "                           location_geom  confirmed  deaths  recovered  \\\n",
            "0        POINT(-85.34535662 34.47197698)       15.0     2.0        0.0   \n",
            "1         POINT(-76.7638805 42.13891056)      133.0     1.0        0.0   \n",
            "2        POINT(-91.28068855 45.06939744)       37.0     0.0        0.0   \n",
            "3        POINT(-76.60118385 36.12908077)       12.0     0.0        0.0   \n",
            "4        POINT(-87.49055367 36.89267803)       95.0     3.0        0.0   \n",
            "...                                  ...        ...     ...        ...   \n",
            "4264075  POINT(-91.99949611 44.58307413)     2204.0    19.0        NaN   \n",
            "4264076   POINT(-92.4224416 44.71850291)    12827.0    77.0        NaN   \n",
            "4264077  POINT(-88.05941254 42.74753117)    65770.0   717.0        NaN   \n",
            "4264078    POINT(-89.071479 42.67151616)    50990.0   421.0        NaN   \n",
            "4264079   POINT(-91.1333012 45.47498854)     3936.0    60.0        NaN   \n",
            "\n",
            "         active     fips     admin2                combined_key  \n",
            "0          13.0  13055.0  Chattooga      Chattooga, Georgia, US  \n",
            "1         132.0  36015.0    Chemung       Chemung, New York, US  \n",
            "2          37.0  55017.0   Chippewa     Chippewa, Wisconsin, US  \n",
            "3          12.0  37041.0     Chowan  Chowan, North Carolina, US  \n",
            "4          92.0  21047.0  Christian     Christian, Kentucky, US  \n",
            "...         ...      ...        ...                         ...  \n",
            "4264075     NaN  55091.0      Pepin        Pepin, Wisconsin, US  \n",
            "4264076     NaN  55093.0     Pierce       Pierce, Wisconsin, US  \n",
            "4264077     NaN  55101.0     Racine       Racine, Wisconsin, US  \n",
            "4264078     NaN  55105.0       Rock         Rock, Wisconsin, US  \n",
            "4264079     NaN  55107.0       Rusk         Rusk, Wisconsin, US  \n",
            "\n",
            "[3513278 rows x 13 columns]\n"
          ]
        }
      ]
    },
    {
      "cell_type": "markdown",
      "source": [
        "data menampilkan menyebaran covid-19 hanya di negara US dengan membuat variabel baru bernama : data_c_us"
      ],
      "metadata": {
        "id": "qJo-H5ZaqqCQ"
      }
    },
    {
      "cell_type": "code",
      "source": [
        "data_c_us.isnull().sum()"
      ],
      "metadata": {
        "colab": {
          "base_uri": "https://localhost:8080/"
        },
        "id": "ifGGQjhsrtph",
        "outputId": "71c6e918-cbe4-48b0-8641-63cbbc77b285"
      },
      "execution_count": 47,
      "outputs": [
        {
          "output_type": "execute_result",
          "data": {
            "text/plain": [
              "province_state          0\n",
              "country_region          0\n",
              "date                    0\n",
              "latitude            74357\n",
              "longitude           74357\n",
              "location_geom       74357\n",
              "confirmed               0\n",
              "deaths                 30\n",
              "recovered         2403080\n",
              "active            2404744\n",
              "fips                13793\n",
              "admin2               8703\n",
              "combined_key         1560\n",
              "dtype: int64"
            ]
          },
          "metadata": {},
          "execution_count": 47
        }
      ]
    },
    {
      "cell_type": "markdown",
      "source": [
        "mencari data null pada setiap kolom"
      ],
      "metadata": {
        "id": "PMuFGBplLGcg"
      }
    },
    {
      "cell_type": "code",
      "source": [
        "# menggabungkan 3 kolom menjadi 1 \n",
        "\n",
        "kolom_kordinat =['latitude', 'longitude', 'location_geom']"
      ],
      "metadata": {
        "id": "fslE_lZtHcyE"
      },
      "execution_count": 48,
      "outputs": []
    },
    {
      "cell_type": "markdown",
      "source": [
        "kolom ['latitude', 'longitude', 'location_geom'] akan menjadi 1 data yang nanti nya akan dihapus"
      ],
      "metadata": {
        "id": "yktbayYkusDK"
      }
    },
    {
      "cell_type": "code",
      "source": [
        "#menghapus kolom \n",
        "data_c_us.drop(kolom_kordinat, inplace=True, axis=1)\n",
        "\n",
        "data_c_us.drop(['fips'], inplace=True, axis=1)"
      ],
      "metadata": {
        "colab": {
          "base_uri": "https://localhost:8080/"
        },
        "id": "v8tSefEVJMAL",
        "outputId": "edbc0d6a-2c53-43de-aa35-1dd50443f996"
      },
      "execution_count": 49,
      "outputs": [
        {
          "output_type": "stream",
          "name": "stderr",
          "text": [
            "<ipython-input-49-b9c17e1c26e8>:2: SettingWithCopyWarning: \n",
            "A value is trying to be set on a copy of a slice from a DataFrame\n",
            "\n",
            "See the caveats in the documentation: https://pandas.pydata.org/pandas-docs/stable/user_guide/indexing.html#returning-a-view-versus-a-copy\n",
            "  data_c_us.drop(kolom_kordinat, inplace=True, axis=1)\n",
            "<ipython-input-49-b9c17e1c26e8>:4: SettingWithCopyWarning: \n",
            "A value is trying to be set on a copy of a slice from a DataFrame\n",
            "\n",
            "See the caveats in the documentation: https://pandas.pydata.org/pandas-docs/stable/user_guide/indexing.html#returning-a-view-versus-a-copy\n",
            "  data_c_us.drop(['fips'], inplace=True, axis=1)\n"
          ]
        }
      ]
    },
    {
      "cell_type": "markdown",
      "source": [
        " kolom : latitue, longitute, location_geom, fips\n",
        "tidak diperlukan karena tidak mempengaruhi tujuan dalam mmenjawab *problem state*"
      ],
      "metadata": {
        "id": "V4Qp-vUSKM2S"
      }
    },
    {
      "cell_type": "code",
      "source": [
        "data_c_us"
      ],
      "metadata": {
        "colab": {
          "base_uri": "https://localhost:8080/",
          "height": 424
        },
        "id": "ZrJhAl81Jqk1",
        "outputId": "fdcde957-ae90-454d-92bc-4f966b329d7b"
      },
      "execution_count": 50,
      "outputs": [
        {
          "output_type": "execute_result",
          "data": {
            "text/plain": [
              "         province_state country_region        date  confirmed  deaths  \\\n",
              "0               Georgia             US  2020-05-15       15.0     2.0   \n",
              "1              New York             US  2020-05-15      133.0     1.0   \n",
              "2             Wisconsin             US  2020-05-15       37.0     0.0   \n",
              "3        North Carolina             US  2020-05-15       12.0     0.0   \n",
              "4              Kentucky             US  2020-05-15       95.0     3.0   \n",
              "...                 ...            ...         ...        ...     ...   \n",
              "4264075       Wisconsin             US  2022-09-29     2204.0    19.0   \n",
              "4264076       Wisconsin             US  2022-09-29    12827.0    77.0   \n",
              "4264077       Wisconsin             US  2022-09-29    65770.0   717.0   \n",
              "4264078       Wisconsin             US  2022-09-29    50990.0   421.0   \n",
              "4264079       Wisconsin             US  2022-09-29     3936.0    60.0   \n",
              "\n",
              "         recovered  active     admin2                combined_key  \n",
              "0              0.0    13.0  Chattooga      Chattooga, Georgia, US  \n",
              "1              0.0   132.0    Chemung       Chemung, New York, US  \n",
              "2              0.0    37.0   Chippewa     Chippewa, Wisconsin, US  \n",
              "3              0.0    12.0     Chowan  Chowan, North Carolina, US  \n",
              "4              0.0    92.0  Christian     Christian, Kentucky, US  \n",
              "...            ...     ...        ...                         ...  \n",
              "4264075        NaN     NaN      Pepin        Pepin, Wisconsin, US  \n",
              "4264076        NaN     NaN     Pierce       Pierce, Wisconsin, US  \n",
              "4264077        NaN     NaN     Racine       Racine, Wisconsin, US  \n",
              "4264078        NaN     NaN       Rock         Rock, Wisconsin, US  \n",
              "4264079        NaN     NaN       Rusk         Rusk, Wisconsin, US  \n",
              "\n",
              "[3513278 rows x 9 columns]"
            ],
            "text/html": [
              "\n",
              "  <div id=\"df-71e48e8e-cf5a-42f3-8937-18dfd15cdf57\">\n",
              "    <div class=\"colab-df-container\">\n",
              "      <div>\n",
              "<style scoped>\n",
              "    .dataframe tbody tr th:only-of-type {\n",
              "        vertical-align: middle;\n",
              "    }\n",
              "\n",
              "    .dataframe tbody tr th {\n",
              "        vertical-align: top;\n",
              "    }\n",
              "\n",
              "    .dataframe thead th {\n",
              "        text-align: right;\n",
              "    }\n",
              "</style>\n",
              "<table border=\"1\" class=\"dataframe\">\n",
              "  <thead>\n",
              "    <tr style=\"text-align: right;\">\n",
              "      <th></th>\n",
              "      <th>province_state</th>\n",
              "      <th>country_region</th>\n",
              "      <th>date</th>\n",
              "      <th>confirmed</th>\n",
              "      <th>deaths</th>\n",
              "      <th>recovered</th>\n",
              "      <th>active</th>\n",
              "      <th>admin2</th>\n",
              "      <th>combined_key</th>\n",
              "    </tr>\n",
              "  </thead>\n",
              "  <tbody>\n",
              "    <tr>\n",
              "      <th>0</th>\n",
              "      <td>Georgia</td>\n",
              "      <td>US</td>\n",
              "      <td>2020-05-15</td>\n",
              "      <td>15.0</td>\n",
              "      <td>2.0</td>\n",
              "      <td>0.0</td>\n",
              "      <td>13.0</td>\n",
              "      <td>Chattooga</td>\n",
              "      <td>Chattooga, Georgia, US</td>\n",
              "    </tr>\n",
              "    <tr>\n",
              "      <th>1</th>\n",
              "      <td>New York</td>\n",
              "      <td>US</td>\n",
              "      <td>2020-05-15</td>\n",
              "      <td>133.0</td>\n",
              "      <td>1.0</td>\n",
              "      <td>0.0</td>\n",
              "      <td>132.0</td>\n",
              "      <td>Chemung</td>\n",
              "      <td>Chemung, New York, US</td>\n",
              "    </tr>\n",
              "    <tr>\n",
              "      <th>2</th>\n",
              "      <td>Wisconsin</td>\n",
              "      <td>US</td>\n",
              "      <td>2020-05-15</td>\n",
              "      <td>37.0</td>\n",
              "      <td>0.0</td>\n",
              "      <td>0.0</td>\n",
              "      <td>37.0</td>\n",
              "      <td>Chippewa</td>\n",
              "      <td>Chippewa, Wisconsin, US</td>\n",
              "    </tr>\n",
              "    <tr>\n",
              "      <th>3</th>\n",
              "      <td>North Carolina</td>\n",
              "      <td>US</td>\n",
              "      <td>2020-05-15</td>\n",
              "      <td>12.0</td>\n",
              "      <td>0.0</td>\n",
              "      <td>0.0</td>\n",
              "      <td>12.0</td>\n",
              "      <td>Chowan</td>\n",
              "      <td>Chowan, North Carolina, US</td>\n",
              "    </tr>\n",
              "    <tr>\n",
              "      <th>4</th>\n",
              "      <td>Kentucky</td>\n",
              "      <td>US</td>\n",
              "      <td>2020-05-15</td>\n",
              "      <td>95.0</td>\n",
              "      <td>3.0</td>\n",
              "      <td>0.0</td>\n",
              "      <td>92.0</td>\n",
              "      <td>Christian</td>\n",
              "      <td>Christian, Kentucky, US</td>\n",
              "    </tr>\n",
              "    <tr>\n",
              "      <th>...</th>\n",
              "      <td>...</td>\n",
              "      <td>...</td>\n",
              "      <td>...</td>\n",
              "      <td>...</td>\n",
              "      <td>...</td>\n",
              "      <td>...</td>\n",
              "      <td>...</td>\n",
              "      <td>...</td>\n",
              "      <td>...</td>\n",
              "    </tr>\n",
              "    <tr>\n",
              "      <th>4264075</th>\n",
              "      <td>Wisconsin</td>\n",
              "      <td>US</td>\n",
              "      <td>2022-09-29</td>\n",
              "      <td>2204.0</td>\n",
              "      <td>19.0</td>\n",
              "      <td>NaN</td>\n",
              "      <td>NaN</td>\n",
              "      <td>Pepin</td>\n",
              "      <td>Pepin, Wisconsin, US</td>\n",
              "    </tr>\n",
              "    <tr>\n",
              "      <th>4264076</th>\n",
              "      <td>Wisconsin</td>\n",
              "      <td>US</td>\n",
              "      <td>2022-09-29</td>\n",
              "      <td>12827.0</td>\n",
              "      <td>77.0</td>\n",
              "      <td>NaN</td>\n",
              "      <td>NaN</td>\n",
              "      <td>Pierce</td>\n",
              "      <td>Pierce, Wisconsin, US</td>\n",
              "    </tr>\n",
              "    <tr>\n",
              "      <th>4264077</th>\n",
              "      <td>Wisconsin</td>\n",
              "      <td>US</td>\n",
              "      <td>2022-09-29</td>\n",
              "      <td>65770.0</td>\n",
              "      <td>717.0</td>\n",
              "      <td>NaN</td>\n",
              "      <td>NaN</td>\n",
              "      <td>Racine</td>\n",
              "      <td>Racine, Wisconsin, US</td>\n",
              "    </tr>\n",
              "    <tr>\n",
              "      <th>4264078</th>\n",
              "      <td>Wisconsin</td>\n",
              "      <td>US</td>\n",
              "      <td>2022-09-29</td>\n",
              "      <td>50990.0</td>\n",
              "      <td>421.0</td>\n",
              "      <td>NaN</td>\n",
              "      <td>NaN</td>\n",
              "      <td>Rock</td>\n",
              "      <td>Rock, Wisconsin, US</td>\n",
              "    </tr>\n",
              "    <tr>\n",
              "      <th>4264079</th>\n",
              "      <td>Wisconsin</td>\n",
              "      <td>US</td>\n",
              "      <td>2022-09-29</td>\n",
              "      <td>3936.0</td>\n",
              "      <td>60.0</td>\n",
              "      <td>NaN</td>\n",
              "      <td>NaN</td>\n",
              "      <td>Rusk</td>\n",
              "      <td>Rusk, Wisconsin, US</td>\n",
              "    </tr>\n",
              "  </tbody>\n",
              "</table>\n",
              "<p>3513278 rows × 9 columns</p>\n",
              "</div>\n",
              "      <button class=\"colab-df-convert\" onclick=\"convertToInteractive('df-71e48e8e-cf5a-42f3-8937-18dfd15cdf57')\"\n",
              "              title=\"Convert this dataframe to an interactive table.\"\n",
              "              style=\"display:none;\">\n",
              "        \n",
              "  <svg xmlns=\"http://www.w3.org/2000/svg\" height=\"24px\"viewBox=\"0 0 24 24\"\n",
              "       width=\"24px\">\n",
              "    <path d=\"M0 0h24v24H0V0z\" fill=\"none\"/>\n",
              "    <path d=\"M18.56 5.44l.94 2.06.94-2.06 2.06-.94-2.06-.94-.94-2.06-.94 2.06-2.06.94zm-11 1L8.5 8.5l.94-2.06 2.06-.94-2.06-.94L8.5 2.5l-.94 2.06-2.06.94zm10 10l.94 2.06.94-2.06 2.06-.94-2.06-.94-.94-2.06-.94 2.06-2.06.94z\"/><path d=\"M17.41 7.96l-1.37-1.37c-.4-.4-.92-.59-1.43-.59-.52 0-1.04.2-1.43.59L10.3 9.45l-7.72 7.72c-.78.78-.78 2.05 0 2.83L4 21.41c.39.39.9.59 1.41.59.51 0 1.02-.2 1.41-.59l7.78-7.78 2.81-2.81c.8-.78.8-2.07 0-2.86zM5.41 20L4 18.59l7.72-7.72 1.47 1.35L5.41 20z\"/>\n",
              "  </svg>\n",
              "      </button>\n",
              "      \n",
              "  <style>\n",
              "    .colab-df-container {\n",
              "      display:flex;\n",
              "      flex-wrap:wrap;\n",
              "      gap: 12px;\n",
              "    }\n",
              "\n",
              "    .colab-df-convert {\n",
              "      background-color: #E8F0FE;\n",
              "      border: none;\n",
              "      border-radius: 50%;\n",
              "      cursor: pointer;\n",
              "      display: none;\n",
              "      fill: #1967D2;\n",
              "      height: 32px;\n",
              "      padding: 0 0 0 0;\n",
              "      width: 32px;\n",
              "    }\n",
              "\n",
              "    .colab-df-convert:hover {\n",
              "      background-color: #E2EBFA;\n",
              "      box-shadow: 0px 1px 2px rgba(60, 64, 67, 0.3), 0px 1px 3px 1px rgba(60, 64, 67, 0.15);\n",
              "      fill: #174EA6;\n",
              "    }\n",
              "\n",
              "    [theme=dark] .colab-df-convert {\n",
              "      background-color: #3B4455;\n",
              "      fill: #D2E3FC;\n",
              "    }\n",
              "\n",
              "    [theme=dark] .colab-df-convert:hover {\n",
              "      background-color: #434B5C;\n",
              "      box-shadow: 0px 1px 3px 1px rgba(0, 0, 0, 0.15);\n",
              "      filter: drop-shadow(0px 1px 2px rgba(0, 0, 0, 0.3));\n",
              "      fill: #FFFFFF;\n",
              "    }\n",
              "  </style>\n",
              "\n",
              "      <script>\n",
              "        const buttonEl =\n",
              "          document.querySelector('#df-71e48e8e-cf5a-42f3-8937-18dfd15cdf57 button.colab-df-convert');\n",
              "        buttonEl.style.display =\n",
              "          google.colab.kernel.accessAllowed ? 'block' : 'none';\n",
              "\n",
              "        async function convertToInteractive(key) {\n",
              "          const element = document.querySelector('#df-71e48e8e-cf5a-42f3-8937-18dfd15cdf57');\n",
              "          const dataTable =\n",
              "            await google.colab.kernel.invokeFunction('convertToInteractive',\n",
              "                                                     [key], {});\n",
              "          if (!dataTable) return;\n",
              "\n",
              "          const docLinkHtml = 'Like what you see? Visit the ' +\n",
              "            '<a target=\"_blank\" href=https://colab.research.google.com/notebooks/data_table.ipynb>data table notebook</a>'\n",
              "            + ' to learn more about interactive tables.';\n",
              "          element.innerHTML = '';\n",
              "          dataTable['output_type'] = 'display_data';\n",
              "          await google.colab.output.renderOutput(dataTable, element);\n",
              "          const docLink = document.createElement('div');\n",
              "          docLink.innerHTML = docLinkHtml;\n",
              "          element.appendChild(docLink);\n",
              "        }\n",
              "      </script>\n",
              "    </div>\n",
              "  </div>\n",
              "  "
            ]
          },
          "metadata": {},
          "execution_count": 50
        }
      ]
    },
    {
      "cell_type": "markdown",
      "source": [
        "Kolom ['latitude', 'longitude', 'location_geom'] sudah terhapus karena kolom tersebut tidak mempengaruhi nilai death,confirmed dan province "
      ],
      "metadata": {
        "id": "BGxioQpGu1iF"
      }
    },
    {
      "cell_type": "code",
      "source": [
        "data_c_us.groupby('province_state', sort=False)"
      ],
      "metadata": {
        "colab": {
          "base_uri": "https://localhost:8080/"
        },
        "id": "NuKRFob6MnDQ",
        "outputId": "a38d0712-e9f1-44fd-8879-ae152b5e596b"
      },
      "execution_count": 51,
      "outputs": [
        {
          "output_type": "execute_result",
          "data": {
            "text/plain": [
              "<pandas.core.groupby.generic.DataFrameGroupBy object at 0x7f4f5a856880>"
            ]
          },
          "metadata": {},
          "execution_count": 51
        }
      ]
    },
    {
      "cell_type": "code",
      "source": [
        "#mengubah type data data yang tadi nya object menjadi 'date'\n",
        "data_c_us[\"date\"] =pd.to_datetime(data_c_us[\"date\"], format=\"%Y/%m/%d\")"
      ],
      "metadata": {
        "colab": {
          "base_uri": "https://localhost:8080/"
        },
        "id": "dNmyg8hUSjeT",
        "outputId": "a86b8958-fe92-42dc-8e03-7bebacc70608"
      },
      "execution_count": 52,
      "outputs": [
        {
          "output_type": "stream",
          "name": "stderr",
          "text": [
            "<ipython-input-52-d425a1b089d8>:2: SettingWithCopyWarning: \n",
            "A value is trying to be set on a copy of a slice from a DataFrame.\n",
            "Try using .loc[row_indexer,col_indexer] = value instead\n",
            "\n",
            "See the caveats in the documentation: https://pandas.pydata.org/pandas-docs/stable/user_guide/indexing.html#returning-a-view-versus-a-copy\n",
            "  data_c_us[\"date\"] =pd.to_datetime(data_c_us[\"date\"], format=\"%Y/%m/%d\")\n"
          ]
        }
      ]
    },
    {
      "cell_type": "code",
      "source": [
        "data_c_us.info()"
      ],
      "metadata": {
        "colab": {
          "base_uri": "https://localhost:8080/"
        },
        "id": "xdBSwyd0NrbA",
        "outputId": "7cf51c1f-665d-4ec7-9a20-fecfd9a2fbc0"
      },
      "execution_count": 53,
      "outputs": [
        {
          "output_type": "stream",
          "name": "stdout",
          "text": [
            "<class 'pandas.core.frame.DataFrame'>\n",
            "Int64Index: 3513278 entries, 0 to 4264079\n",
            "Data columns (total 9 columns):\n",
            " #   Column          Dtype         \n",
            "---  ------          -----         \n",
            " 0   province_state  object        \n",
            " 1   country_region  object        \n",
            " 2   date            datetime64[ns]\n",
            " 3   confirmed       float64       \n",
            " 4   deaths          float64       \n",
            " 5   recovered       float64       \n",
            " 6   active          float64       \n",
            " 7   admin2          object        \n",
            " 8   combined_key    object        \n",
            "dtypes: datetime64[ns](1), float64(4), object(4)\n",
            "memory usage: 268.0+ MB\n"
          ]
        }
      ]
    },
    {
      "cell_type": "markdown",
      "source": [
        "typedata didalam kolom **date** sudah berubah menjadi datetime"
      ],
      "metadata": {
        "id": "c-aR2Pe-vZ3d"
      }
    },
    {
      "cell_type": "markdown",
      "source": [
        "## Missing value"
      ],
      "metadata": {
        "id": "QTIKSORlOU9W"
      }
    },
    {
      "cell_type": "markdown",
      "source": [
        "### Mengecek Missing value"
      ],
      "metadata": {
        "id": "pN9M3OroYcgI"
      }
    },
    {
      "cell_type": "code",
      "source": [
        "#mengecek missing value\n",
        "\n",
        "data_c_us.isnull().sum()"
      ],
      "metadata": {
        "colab": {
          "base_uri": "https://localhost:8080/"
        },
        "id": "rDEVKG_mOqCv",
        "outputId": "73e1dfba-9aa7-4b0a-9c9c-2f551ca8933c"
      },
      "execution_count": 54,
      "outputs": [
        {
          "output_type": "execute_result",
          "data": {
            "text/plain": [
              "province_state          0\n",
              "country_region          0\n",
              "date                    0\n",
              "confirmed               0\n",
              "deaths                 30\n",
              "recovered         2403080\n",
              "active            2404744\n",
              "admin2               8703\n",
              "combined_key         1560\n",
              "dtype: int64"
            ]
          },
          "metadata": {},
          "execution_count": 54
        }
      ]
    },
    {
      "cell_type": "markdown",
      "source": [
        "terdapat missing value dikolom : deaths, recovered, active, admin2, combined key"
      ],
      "metadata": {
        "id": "4dt74DMwvnxo"
      }
    },
    {
      "cell_type": "markdown",
      "source": [
        "### Menghilangkan missing value"
      ],
      "metadata": {
        "id": "-KJXdj9mYnsW"
      }
    },
    {
      "cell_type": "code",
      "source": [
        "#menghilangan missing value \n",
        "\n",
        "data_c_us.dropna(subset=['deaths'], inplace=True)\n",
        "\n",
        "data_c_us['recovered'].fillna(value=0, inplace=True)\n",
        "\n",
        "data_c_us['active'].fillna(value=0, inplace=True)\n",
        "\n",
        "data_c_us['admin2'].fillna(value='Unregistered', inplace=True)\n",
        "\n",
        "data_c_us['combined_key'].fillna(value='Unregistered', inplace=True)\n",
        "\n"
      ],
      "metadata": {
        "colab": {
          "base_uri": "https://localhost:8080/"
        },
        "id": "cSJ9jdceO-Tr",
        "outputId": "6f27e4ba-a9a6-41e2-ab41-6160341d4502"
      },
      "execution_count": 55,
      "outputs": [
        {
          "output_type": "stream",
          "name": "stderr",
          "text": [
            "<ipython-input-55-67af1f166fe0>:3: SettingWithCopyWarning: \n",
            "A value is trying to be set on a copy of a slice from a DataFrame\n",
            "\n",
            "See the caveats in the documentation: https://pandas.pydata.org/pandas-docs/stable/user_guide/indexing.html#returning-a-view-versus-a-copy\n",
            "  data_c_us.dropna(subset=['deaths'], inplace=True)\n",
            "<ipython-input-55-67af1f166fe0>:5: SettingWithCopyWarning: \n",
            "A value is trying to be set on a copy of a slice from a DataFrame\n",
            "\n",
            "See the caveats in the documentation: https://pandas.pydata.org/pandas-docs/stable/user_guide/indexing.html#returning-a-view-versus-a-copy\n",
            "  data_c_us['recovered'].fillna(value=0, inplace=True)\n",
            "<ipython-input-55-67af1f166fe0>:7: SettingWithCopyWarning: \n",
            "A value is trying to be set on a copy of a slice from a DataFrame\n",
            "\n",
            "See the caveats in the documentation: https://pandas.pydata.org/pandas-docs/stable/user_guide/indexing.html#returning-a-view-versus-a-copy\n",
            "  data_c_us['active'].fillna(value=0, inplace=True)\n",
            "<ipython-input-55-67af1f166fe0>:9: SettingWithCopyWarning: \n",
            "A value is trying to be set on a copy of a slice from a DataFrame\n",
            "\n",
            "See the caveats in the documentation: https://pandas.pydata.org/pandas-docs/stable/user_guide/indexing.html#returning-a-view-versus-a-copy\n",
            "  data_c_us['admin2'].fillna(value='Unregistered', inplace=True)\n",
            "<ipython-input-55-67af1f166fe0>:11: SettingWithCopyWarning: \n",
            "A value is trying to be set on a copy of a slice from a DataFrame\n",
            "\n",
            "See the caveats in the documentation: https://pandas.pydata.org/pandas-docs/stable/user_guide/indexing.html#returning-a-view-versus-a-copy\n",
            "  data_c_us['combined_key'].fillna(value='Unregistered', inplace=True)\n"
          ]
        }
      ]
    },
    {
      "cell_type": "markdown",
      "source": [
        "kolom death yang ada null dihapus\n",
        "\n",
        "kolom recovered dan active diubah menjadi 0\n",
        "\n",
        "kolom admin2 dan combined_key diubah menjadi 'Unregistered'"
      ],
      "metadata": {
        "id": "phwgYqoKQ0Un"
      }
    },
    {
      "cell_type": "code",
      "source": [
        "#data sudah tidak ada missing value\n",
        "data_c_us.isnull().sum()"
      ],
      "metadata": {
        "colab": {
          "base_uri": "https://localhost:8080/"
        },
        "id": "XhMCOAC7ROPS",
        "outputId": "4783b416-4245-487c-8181-732825077781"
      },
      "execution_count": 56,
      "outputs": [
        {
          "output_type": "execute_result",
          "data": {
            "text/plain": [
              "province_state    0\n",
              "country_region    0\n",
              "date              0\n",
              "confirmed         0\n",
              "deaths            0\n",
              "recovered         0\n",
              "active            0\n",
              "admin2            0\n",
              "combined_key      0\n",
              "dtype: int64"
            ]
          },
          "metadata": {},
          "execution_count": 56
        }
      ]
    },
    {
      "cell_type": "markdown",
      "source": [
        "dataset sudah tidak ada nilai yang missing value"
      ],
      "metadata": {
        "id": "-_gKcbr_v78_"
      }
    },
    {
      "cell_type": "markdown",
      "source": [
        "## Manipulating Data"
      ],
      "metadata": {
        "id": "WvxePS9OSr3V"
      }
    },
    {
      "cell_type": "markdown",
      "source": [
        "### Mengganti nama kolom"
      ],
      "metadata": {
        "id": "EWWlpLy9VS00"
      }
    },
    {
      "cell_type": "code",
      "source": [
        "#mengganti nama kolom  province_state,country_region,admin2\n",
        "\n",
        "renamed_covid = data_c_us.rename(\n",
        "    columns={\"province_state\": \"province\", \"country_region\": \"country\", \"admin2\" : \"city\"}\n",
        ")\n"
      ],
      "metadata": {
        "id": "Gc85dOs_Su6H"
      },
      "execution_count": 57,
      "outputs": []
    },
    {
      "cell_type": "markdown",
      "source": [
        "agar terlihat lebih sederhana dan mudah untuk diload, kolom kita akan mengganti nama nama kolom\n",
        "\n",
        "*   Kolom **province_state** telah diubah menjadi **province** \n",
        "*   Kolom **country_region** telah diubah menjadi **country**\n",
        "*   Kolom **admin2** telah diubah menjadi **city**\n",
        "\n",
        "kolom tersebut dirubah agar mudah dalam meload data\n"
      ],
      "metadata": {
        "id": "1uvuPS06UP9D"
      }
    },
    {
      "cell_type": "markdown",
      "source": [
        "### Menghapus kolom"
      ],
      "metadata": {
        "id": "DqNaWdwlVtYz"
      }
    },
    {
      "cell_type": "code",
      "source": [
        "#menghapus kolom admin2 dan combined_key\n",
        "\n",
        "#menggabungkan kolom\n",
        "data_hapus=['city', 'combined_key']\n",
        "\n",
        "#mendrop/menghapus kolom\n",
        "renamed_covid.drop(data_hapus, inplace=True , axis=1)"
      ],
      "metadata": {
        "id": "FWncMBXKVPBV"
      },
      "execution_count": 58,
      "outputs": []
    },
    {
      "cell_type": "markdown",
      "source": [
        "Kolom city dan combined key ternyata tidak diperlukan dalam eksplorasi data mencari 5 province dengan kasus active terbesar "
      ],
      "metadata": {
        "id": "Pz7pkjeYXMAD"
      }
    },
    {
      "cell_type": "markdown",
      "source": [
        "### Menambah kolom "
      ],
      "metadata": {
        "id": "gCOoHQyHQ7Zu"
      }
    },
    {
      "cell_type": "code",
      "source": [
        "#menambah kolom year\n",
        "renamed_covid['year'] = pd.DatetimeIndex(renamed_covid['date']).year\n",
        "renamed_covid['year'] = renamed_covid['year'].astype(int)"
      ],
      "metadata": {
        "id": "oKmTF6XYQ270"
      },
      "execution_count": 59,
      "outputs": []
    },
    {
      "cell_type": "markdown",
      "source": [
        "menambah kolom **year** untuk mengrouping dan mendapatkan insight berupa kasus tertinggi dari tahun ke tahun"
      ],
      "metadata": {
        "id": "XTopr-5gRJmS"
      }
    },
    {
      "cell_type": "code",
      "source": [
        "renamed_covid['year'] = renamed_covid['year'].astype(int)"
      ],
      "metadata": {
        "id": "oXX86kCtjo8a"
      },
      "execution_count": 60,
      "outputs": []
    },
    {
      "cell_type": "markdown",
      "source": [
        "# V. Explorasi Data"
      ],
      "metadata": {
        "id": "mBvwJGfbApz3"
      }
    },
    {
      "cell_type": "markdown",
      "source": [
        "## Grouping 1"
      ],
      "metadata": {
        "id": "sWLekPC1BIAb"
      }
    },
    {
      "cell_type": "code",
      "source": [
        "#menggabungkan provinsi dengan confirmed\n",
        "\n",
        "renamed_covid.groupby([\"province\"])[\"confirmed\"].sum()\n"
      ],
      "metadata": {
        "colab": {
          "base_uri": "https://localhost:8080/"
        },
        "id": "3EZyfdq5YsWH",
        "outputId": "49943cc4-93db-47d4-fe49-491f5e884b43"
      },
      "execution_count": 61,
      "outputs": [
        {
          "output_type": "execute_result",
          "data": {
            "text/plain": [
              "province\n",
              " Norfolk County, MA      7.000000e+00\n",
              "Alabama                  8.727719e+08\n",
              "Alameda County, CA       6.000000e+00\n",
              "Alaska                   1.529082e+08\n",
              "American Samoa           2.607936e+06\n",
              "                             ...     \n",
              "Williamson County, TN    5.000000e+00\n",
              "Wisconsin                1.064866e+09\n",
              "Wuhan Evacuee            4.000000e+00\n",
              "Wyoming                  1.014698e+08\n",
              "Yolo County, CA          4.000000e+00\n",
              "Name: confirmed, Length: 198, dtype: float64"
            ]
          },
          "metadata": {},
          "execution_count": 61
        }
      ]
    },
    {
      "cell_type": "markdown",
      "source": [
        "mengkelompokan kolom **province** dengan **confirmed** yang sudah dijumlahkan untuk mendapatkan insight berupa **province** manakah dengan tingkat **confirmed** tertinggi"
      ],
      "metadata": {
        "id": "o7hURb_RBayD"
      }
    },
    {
      "cell_type": "code",
      "source": [
        "# membuat variabel baru untuk menggrouping province dengan confirmed \n",
        "\n",
        "covid = renamed_covid.groupby([\"province\"])[\"confirmed\"].sum()"
      ],
      "metadata": {
        "id": "PANEbhD0Znkw"
      },
      "execution_count": 62,
      "outputs": []
    },
    {
      "cell_type": "markdown",
      "source": [
        "groupby() digunakan untuk mengelompokkan data berdasarkan kolom \"province\", yang menghasilkan grup data yang terpisah untuk setiap provinsi."
      ],
      "metadata": {
        "id": "ZWuMACuzCxRJ"
      }
    },
    {
      "cell_type": "code",
      "source": [
        "#membuat varibel data frame baru\n",
        "\n",
        "covid_us=pd.DataFrame(covid)\n"
      ],
      "metadata": {
        "id": "EaF0WxncZyyS"
      },
      "execution_count": 63,
      "outputs": []
    },
    {
      "cell_type": "markdown",
      "source": [
        "perintah ini dibuat untuk menghasilkan sebuah data frame baru bernama *covid_us*"
      ],
      "metadata": {
        "id": "mgbfj6fKDOdt"
      }
    },
    {
      "cell_type": "code",
      "source": [
        "covid_us"
      ],
      "metadata": {
        "colab": {
          "base_uri": "https://localhost:8080/",
          "height": 455
        },
        "id": "V5mDUY02ajuf",
        "outputId": "9c8be172-b516-4fa1-caeb-7ace1df8f92d"
      },
      "execution_count": 64,
      "outputs": [
        {
          "output_type": "execute_result",
          "data": {
            "text/plain": [
              "                          confirmed\n",
              "province                           \n",
              " Norfolk County, MA    7.000000e+00\n",
              "Alabama                8.727719e+08\n",
              "Alameda County, CA     6.000000e+00\n",
              "Alaska                 1.529082e+08\n",
              "American Samoa         2.607936e+06\n",
              "...                             ...\n",
              "Williamson County, TN  5.000000e+00\n",
              "Wisconsin              1.064866e+09\n",
              "Wuhan Evacuee          4.000000e+00\n",
              "Wyoming                1.014698e+08\n",
              "Yolo County, CA        4.000000e+00\n",
              "\n",
              "[198 rows x 1 columns]"
            ],
            "text/html": [
              "\n",
              "  <div id=\"df-c5c58ee9-057a-4616-83df-8c20f41351b5\">\n",
              "    <div class=\"colab-df-container\">\n",
              "      <div>\n",
              "<style scoped>\n",
              "    .dataframe tbody tr th:only-of-type {\n",
              "        vertical-align: middle;\n",
              "    }\n",
              "\n",
              "    .dataframe tbody tr th {\n",
              "        vertical-align: top;\n",
              "    }\n",
              "\n",
              "    .dataframe thead th {\n",
              "        text-align: right;\n",
              "    }\n",
              "</style>\n",
              "<table border=\"1\" class=\"dataframe\">\n",
              "  <thead>\n",
              "    <tr style=\"text-align: right;\">\n",
              "      <th></th>\n",
              "      <th>confirmed</th>\n",
              "    </tr>\n",
              "    <tr>\n",
              "      <th>province</th>\n",
              "      <th></th>\n",
              "    </tr>\n",
              "  </thead>\n",
              "  <tbody>\n",
              "    <tr>\n",
              "      <th>Norfolk County, MA</th>\n",
              "      <td>7.000000e+00</td>\n",
              "    </tr>\n",
              "    <tr>\n",
              "      <th>Alabama</th>\n",
              "      <td>8.727719e+08</td>\n",
              "    </tr>\n",
              "    <tr>\n",
              "      <th>Alameda County, CA</th>\n",
              "      <td>6.000000e+00</td>\n",
              "    </tr>\n",
              "    <tr>\n",
              "      <th>Alaska</th>\n",
              "      <td>1.529082e+08</td>\n",
              "    </tr>\n",
              "    <tr>\n",
              "      <th>American Samoa</th>\n",
              "      <td>2.607936e+06</td>\n",
              "    </tr>\n",
              "    <tr>\n",
              "      <th>...</th>\n",
              "      <td>...</td>\n",
              "    </tr>\n",
              "    <tr>\n",
              "      <th>Williamson County, TN</th>\n",
              "      <td>5.000000e+00</td>\n",
              "    </tr>\n",
              "    <tr>\n",
              "      <th>Wisconsin</th>\n",
              "      <td>1.064866e+09</td>\n",
              "    </tr>\n",
              "    <tr>\n",
              "      <th>Wuhan Evacuee</th>\n",
              "      <td>4.000000e+00</td>\n",
              "    </tr>\n",
              "    <tr>\n",
              "      <th>Wyoming</th>\n",
              "      <td>1.014698e+08</td>\n",
              "    </tr>\n",
              "    <tr>\n",
              "      <th>Yolo County, CA</th>\n",
              "      <td>4.000000e+00</td>\n",
              "    </tr>\n",
              "  </tbody>\n",
              "</table>\n",
              "<p>198 rows × 1 columns</p>\n",
              "</div>\n",
              "      <button class=\"colab-df-convert\" onclick=\"convertToInteractive('df-c5c58ee9-057a-4616-83df-8c20f41351b5')\"\n",
              "              title=\"Convert this dataframe to an interactive table.\"\n",
              "              style=\"display:none;\">\n",
              "        \n",
              "  <svg xmlns=\"http://www.w3.org/2000/svg\" height=\"24px\"viewBox=\"0 0 24 24\"\n",
              "       width=\"24px\">\n",
              "    <path d=\"M0 0h24v24H0V0z\" fill=\"none\"/>\n",
              "    <path d=\"M18.56 5.44l.94 2.06.94-2.06 2.06-.94-2.06-.94-.94-2.06-.94 2.06-2.06.94zm-11 1L8.5 8.5l.94-2.06 2.06-.94-2.06-.94L8.5 2.5l-.94 2.06-2.06.94zm10 10l.94 2.06.94-2.06 2.06-.94-2.06-.94-.94-2.06-.94 2.06-2.06.94z\"/><path d=\"M17.41 7.96l-1.37-1.37c-.4-.4-.92-.59-1.43-.59-.52 0-1.04.2-1.43.59L10.3 9.45l-7.72 7.72c-.78.78-.78 2.05 0 2.83L4 21.41c.39.39.9.59 1.41.59.51 0 1.02-.2 1.41-.59l7.78-7.78 2.81-2.81c.8-.78.8-2.07 0-2.86zM5.41 20L4 18.59l7.72-7.72 1.47 1.35L5.41 20z\"/>\n",
              "  </svg>\n",
              "      </button>\n",
              "      \n",
              "  <style>\n",
              "    .colab-df-container {\n",
              "      display:flex;\n",
              "      flex-wrap:wrap;\n",
              "      gap: 12px;\n",
              "    }\n",
              "\n",
              "    .colab-df-convert {\n",
              "      background-color: #E8F0FE;\n",
              "      border: none;\n",
              "      border-radius: 50%;\n",
              "      cursor: pointer;\n",
              "      display: none;\n",
              "      fill: #1967D2;\n",
              "      height: 32px;\n",
              "      padding: 0 0 0 0;\n",
              "      width: 32px;\n",
              "    }\n",
              "\n",
              "    .colab-df-convert:hover {\n",
              "      background-color: #E2EBFA;\n",
              "      box-shadow: 0px 1px 2px rgba(60, 64, 67, 0.3), 0px 1px 3px 1px rgba(60, 64, 67, 0.15);\n",
              "      fill: #174EA6;\n",
              "    }\n",
              "\n",
              "    [theme=dark] .colab-df-convert {\n",
              "      background-color: #3B4455;\n",
              "      fill: #D2E3FC;\n",
              "    }\n",
              "\n",
              "    [theme=dark] .colab-df-convert:hover {\n",
              "      background-color: #434B5C;\n",
              "      box-shadow: 0px 1px 3px 1px rgba(0, 0, 0, 0.15);\n",
              "      filter: drop-shadow(0px 1px 2px rgba(0, 0, 0, 0.3));\n",
              "      fill: #FFFFFF;\n",
              "    }\n",
              "  </style>\n",
              "\n",
              "      <script>\n",
              "        const buttonEl =\n",
              "          document.querySelector('#df-c5c58ee9-057a-4616-83df-8c20f41351b5 button.colab-df-convert');\n",
              "        buttonEl.style.display =\n",
              "          google.colab.kernel.accessAllowed ? 'block' : 'none';\n",
              "\n",
              "        async function convertToInteractive(key) {\n",
              "          const element = document.querySelector('#df-c5c58ee9-057a-4616-83df-8c20f41351b5');\n",
              "          const dataTable =\n",
              "            await google.colab.kernel.invokeFunction('convertToInteractive',\n",
              "                                                     [key], {});\n",
              "          if (!dataTable) return;\n",
              "\n",
              "          const docLinkHtml = 'Like what you see? Visit the ' +\n",
              "            '<a target=\"_blank\" href=https://colab.research.google.com/notebooks/data_table.ipynb>data table notebook</a>'\n",
              "            + ' to learn more about interactive tables.';\n",
              "          element.innerHTML = '';\n",
              "          dataTable['output_type'] = 'display_data';\n",
              "          await google.colab.output.renderOutput(dataTable, element);\n",
              "          const docLink = document.createElement('div');\n",
              "          docLink.innerHTML = docLinkHtml;\n",
              "          element.appendChild(docLink);\n",
              "        }\n",
              "      </script>\n",
              "    </div>\n",
              "  </div>\n",
              "  "
            ]
          },
          "metadata": {},
          "execution_count": 64
        }
      ]
    },
    {
      "cell_type": "markdown",
      "source": [
        "variabel *covid_us* sudah menjadi sebuah dataframe baru"
      ],
      "metadata": {
        "id": "KZaSOdV6OusR"
      }
    },
    {
      "cell_type": "code",
      "source": [
        "#mengurutkan data dari terbesar sampai yang terkecil\n",
        "covid_us = covid_us.sort_values(by='confirmed', ascending=False)\n",
        "covid_us"
      ],
      "metadata": {
        "colab": {
          "base_uri": "https://localhost:8080/",
          "height": 455
        },
        "id": "pgJMffmyOXdV",
        "outputId": "165f96a2-96e5-47ff-deef-0019656d10b1"
      },
      "execution_count": 65,
      "outputs": [
        {
          "output_type": "execute_result",
          "data": {
            "text/plain": [
              "                           confirmed\n",
              "province                            \n",
              "California              6.138070e+09\n",
              "Texas                   4.561083e+09\n",
              "Florida                 3.977572e+09\n",
              "New York                3.390806e+09\n",
              "Illinois                2.122215e+09\n",
              "...                              ...\n",
              "Spartanburg County, SC  1.000000e+00\n",
              "Santa Cruz County, CA   1.000000e+00\n",
              "Norwell County, MA      1.000000e+00\n",
              "Recovered               0.000000e+00\n",
              "Montgomery County, TX   0.000000e+00\n",
              "\n",
              "[198 rows x 1 columns]"
            ],
            "text/html": [
              "\n",
              "  <div id=\"df-9523abca-fc0e-4f36-9e89-f39bf41ae715\">\n",
              "    <div class=\"colab-df-container\">\n",
              "      <div>\n",
              "<style scoped>\n",
              "    .dataframe tbody tr th:only-of-type {\n",
              "        vertical-align: middle;\n",
              "    }\n",
              "\n",
              "    .dataframe tbody tr th {\n",
              "        vertical-align: top;\n",
              "    }\n",
              "\n",
              "    .dataframe thead th {\n",
              "        text-align: right;\n",
              "    }\n",
              "</style>\n",
              "<table border=\"1\" class=\"dataframe\">\n",
              "  <thead>\n",
              "    <tr style=\"text-align: right;\">\n",
              "      <th></th>\n",
              "      <th>confirmed</th>\n",
              "    </tr>\n",
              "    <tr>\n",
              "      <th>province</th>\n",
              "      <th></th>\n",
              "    </tr>\n",
              "  </thead>\n",
              "  <tbody>\n",
              "    <tr>\n",
              "      <th>California</th>\n",
              "      <td>6.138070e+09</td>\n",
              "    </tr>\n",
              "    <tr>\n",
              "      <th>Texas</th>\n",
              "      <td>4.561083e+09</td>\n",
              "    </tr>\n",
              "    <tr>\n",
              "      <th>Florida</th>\n",
              "      <td>3.977572e+09</td>\n",
              "    </tr>\n",
              "    <tr>\n",
              "      <th>New York</th>\n",
              "      <td>3.390806e+09</td>\n",
              "    </tr>\n",
              "    <tr>\n",
              "      <th>Illinois</th>\n",
              "      <td>2.122215e+09</td>\n",
              "    </tr>\n",
              "    <tr>\n",
              "      <th>...</th>\n",
              "      <td>...</td>\n",
              "    </tr>\n",
              "    <tr>\n",
              "      <th>Spartanburg County, SC</th>\n",
              "      <td>1.000000e+00</td>\n",
              "    </tr>\n",
              "    <tr>\n",
              "      <th>Santa Cruz County, CA</th>\n",
              "      <td>1.000000e+00</td>\n",
              "    </tr>\n",
              "    <tr>\n",
              "      <th>Norwell County, MA</th>\n",
              "      <td>1.000000e+00</td>\n",
              "    </tr>\n",
              "    <tr>\n",
              "      <th>Recovered</th>\n",
              "      <td>0.000000e+00</td>\n",
              "    </tr>\n",
              "    <tr>\n",
              "      <th>Montgomery County, TX</th>\n",
              "      <td>0.000000e+00</td>\n",
              "    </tr>\n",
              "  </tbody>\n",
              "</table>\n",
              "<p>198 rows × 1 columns</p>\n",
              "</div>\n",
              "      <button class=\"colab-df-convert\" onclick=\"convertToInteractive('df-9523abca-fc0e-4f36-9e89-f39bf41ae715')\"\n",
              "              title=\"Convert this dataframe to an interactive table.\"\n",
              "              style=\"display:none;\">\n",
              "        \n",
              "  <svg xmlns=\"http://www.w3.org/2000/svg\" height=\"24px\"viewBox=\"0 0 24 24\"\n",
              "       width=\"24px\">\n",
              "    <path d=\"M0 0h24v24H0V0z\" fill=\"none\"/>\n",
              "    <path d=\"M18.56 5.44l.94 2.06.94-2.06 2.06-.94-2.06-.94-.94-2.06-.94 2.06-2.06.94zm-11 1L8.5 8.5l.94-2.06 2.06-.94-2.06-.94L8.5 2.5l-.94 2.06-2.06.94zm10 10l.94 2.06.94-2.06 2.06-.94-2.06-.94-.94-2.06-.94 2.06-2.06.94z\"/><path d=\"M17.41 7.96l-1.37-1.37c-.4-.4-.92-.59-1.43-.59-.52 0-1.04.2-1.43.59L10.3 9.45l-7.72 7.72c-.78.78-.78 2.05 0 2.83L4 21.41c.39.39.9.59 1.41.59.51 0 1.02-.2 1.41-.59l7.78-7.78 2.81-2.81c.8-.78.8-2.07 0-2.86zM5.41 20L4 18.59l7.72-7.72 1.47 1.35L5.41 20z\"/>\n",
              "  </svg>\n",
              "      </button>\n",
              "      \n",
              "  <style>\n",
              "    .colab-df-container {\n",
              "      display:flex;\n",
              "      flex-wrap:wrap;\n",
              "      gap: 12px;\n",
              "    }\n",
              "\n",
              "    .colab-df-convert {\n",
              "      background-color: #E8F0FE;\n",
              "      border: none;\n",
              "      border-radius: 50%;\n",
              "      cursor: pointer;\n",
              "      display: none;\n",
              "      fill: #1967D2;\n",
              "      height: 32px;\n",
              "      padding: 0 0 0 0;\n",
              "      width: 32px;\n",
              "    }\n",
              "\n",
              "    .colab-df-convert:hover {\n",
              "      background-color: #E2EBFA;\n",
              "      box-shadow: 0px 1px 2px rgba(60, 64, 67, 0.3), 0px 1px 3px 1px rgba(60, 64, 67, 0.15);\n",
              "      fill: #174EA6;\n",
              "    }\n",
              "\n",
              "    [theme=dark] .colab-df-convert {\n",
              "      background-color: #3B4455;\n",
              "      fill: #D2E3FC;\n",
              "    }\n",
              "\n",
              "    [theme=dark] .colab-df-convert:hover {\n",
              "      background-color: #434B5C;\n",
              "      box-shadow: 0px 1px 3px 1px rgba(0, 0, 0, 0.15);\n",
              "      filter: drop-shadow(0px 1px 2px rgba(0, 0, 0, 0.3));\n",
              "      fill: #FFFFFF;\n",
              "    }\n",
              "  </style>\n",
              "\n",
              "      <script>\n",
              "        const buttonEl =\n",
              "          document.querySelector('#df-9523abca-fc0e-4f36-9e89-f39bf41ae715 button.colab-df-convert');\n",
              "        buttonEl.style.display =\n",
              "          google.colab.kernel.accessAllowed ? 'block' : 'none';\n",
              "\n",
              "        async function convertToInteractive(key) {\n",
              "          const element = document.querySelector('#df-9523abca-fc0e-4f36-9e89-f39bf41ae715');\n",
              "          const dataTable =\n",
              "            await google.colab.kernel.invokeFunction('convertToInteractive',\n",
              "                                                     [key], {});\n",
              "          if (!dataTable) return;\n",
              "\n",
              "          const docLinkHtml = 'Like what you see? Visit the ' +\n",
              "            '<a target=\"_blank\" href=https://colab.research.google.com/notebooks/data_table.ipynb>data table notebook</a>'\n",
              "            + ' to learn more about interactive tables.';\n",
              "          element.innerHTML = '';\n",
              "          dataTable['output_type'] = 'display_data';\n",
              "          await google.colab.output.renderOutput(dataTable, element);\n",
              "          const docLink = document.createElement('div');\n",
              "          docLink.innerHTML = docLinkHtml;\n",
              "          element.appendChild(docLink);\n",
              "        }\n",
              "      </script>\n",
              "    </div>\n",
              "  </div>\n",
              "  "
            ]
          },
          "metadata": {},
          "execution_count": 65
        }
      ]
    },
    {
      "cell_type": "markdown",
      "source": [
        "DataFrame \"covid_us\" akan diubah menjadi DataFrame baru yang diurutkan secara menurun berdasarkan jumlah kasus terkonfirmasi COVID-19 di setiap provinsi. Baris pertama DataFrame akan berisi data provinsi dengan jumlah kasus terkonfirmasi COVID-19 tertinggi, sedangkan baris terakhir akan berisi data provinsi dengan jumlah kasus terkonfirmasi COVID-19 terendah.\n",
        "\n",
        "dan data siap divisualisasikan"
      ],
      "metadata": {
        "id": "8hTcG7WEOpMP"
      }
    },
    {
      "cell_type": "code",
      "source": [
        "# Mengambil 5 data province tertinggi\n",
        "top_5_province = covid_us.sort_values(by=['confirmed'], ascending=False).head(5)\n",
        "\n",
        "# Membuat bar plot\n",
        "plt.bar(top_5_province.index, top_5_province['confirmed'])\n",
        "\n",
        "# Memberikan judul pada plot dan sumbu-sumbunya\n",
        "plt.title('5 Province dengan Jumlah Kasus COVID-19 Tertinggi di Amerika Serikat')\n",
        "plt.xlabel('Province')\n",
        "plt.ylabel('Jumlah Kasus Terkonfirmasi')\n",
        "\n",
        "# Menampilkan plot\n",
        "plt.show()"
      ],
      "metadata": {
        "colab": {
          "base_uri": "https://localhost:8080/",
          "height": 487
        },
        "id": "EGPt_DErckkO",
        "outputId": "04230c32-41b6-416e-d748-327e19f90b30"
      },
      "execution_count": 66,
      "outputs": [
        {
          "output_type": "display_data",
          "data": {
            "text/plain": [
              "<Figure size 640x480 with 1 Axes>"
            ],
            "image/png": "[encoded data removed]"
          },
          "metadata": {}
        }
      ]
    },
    {
      "cell_type": "markdown",
      "source": [
        "ini adalah visualisasi hasil 5 Province dengan jumlah kasus covid tertinggi dinegara US"
      ],
      "metadata": {
        "id": "JX5k2PdsnFUN"
      }
    },
    {
      "cell_type": "markdown",
      "source": [
        "## Grouping 2"
      ],
      "metadata": {
        "id": "_QroiYshKcme"
      }
    },
    {
      "cell_type": "code",
      "source": [
        "#membuat variabel baru bernama covid_deaths\n",
        "\n",
        "covid_deaths=renamed_covid.groupby([\"province\"])[\"deaths\"].sum()"
      ],
      "metadata": {
        "id": "csqYa3VtKoX0"
      },
      "execution_count": 67,
      "outputs": []
    },
    {
      "cell_type": "markdown",
      "source": [
        "Variabel dibuat untuk mengroup province dan deaths untuk melihat province mana yang angka deaths nya tertinggi"
      ],
      "metadata": {
        "id": "oAo7WTgKLGfG"
      }
    },
    {
      "cell_type": "code",
      "source": [
        "#mengubah data menjadi dataframe\n",
        "\n",
        "top_deaths_covid=pd.DataFrame(covid_deaths)"
      ],
      "metadata": {
        "id": "mMFUTKwwLVol"
      },
      "execution_count": 68,
      "outputs": []
    },
    {
      "cell_type": "markdown",
      "source": [
        "perintah ini dibuat untuk menghasilkan sebuah data frame baru bernama top_deaths_covid"
      ],
      "metadata": {
        "id": "dINveV7XMe-z"
      }
    },
    {
      "cell_type": "code",
      "source": [
        "#menampilkan dataset baru\n",
        "top_deaths_covid"
      ],
      "metadata": {
        "colab": {
          "base_uri": "https://localhost:8080/",
          "height": 455
        },
        "id": "YhY8UtffMm8G",
        "outputId": "d2063862-226e-492a-b65c-c0acb690f01b"
      },
      "execution_count": 69,
      "outputs": [
        {
          "output_type": "execute_result",
          "data": {
            "text/plain": [
              "                           deaths\n",
              "province                         \n",
              " Norfolk County, MA           0.0\n",
              "Alabama                13398266.0\n",
              "Alameda County, CA            0.0\n",
              "Alaska                   751482.0\n",
              "American Samoa            10838.0\n",
              "...                           ...\n",
              "Williamson County, TN         0.0\n",
              "Wisconsin               9763905.0\n",
              "Wuhan Evacuee                 0.0\n",
              "Wyoming                 1136735.0\n",
              "Yolo County, CA               0.0\n",
              "\n",
              "[198 rows x 1 columns]"
            ],
            "text/html": [
              "\n",
              "  <div id=\"df-d046c03b-3a42-40f9-b855-c2d7a95ddc54\">\n",
              "    <div class=\"colab-df-container\">\n",
              "      <div>\n",
              "<style scoped>\n",
              "    .dataframe tbody tr th:only-of-type {\n",
              "        vertical-align: middle;\n",
              "    }\n",
              "\n",
              "    .dataframe tbody tr th {\n",
              "        vertical-align: top;\n",
              "    }\n",
              "\n",
              "    .dataframe thead th {\n",
              "        text-align: right;\n",
              "    }\n",
              "</style>\n",
              "<table border=\"1\" class=\"dataframe\">\n",
              "  <thead>\n",
              "    <tr style=\"text-align: right;\">\n",
              "      <th></th>\n",
              "      <th>deaths</th>\n",
              "    </tr>\n",
              "    <tr>\n",
              "      <th>province</th>\n",
              "      <th></th>\n",
              "    </tr>\n",
              "  </thead>\n",
              "  <tbody>\n",
              "    <tr>\n",
              "      <th>Norfolk County, MA</th>\n",
              "      <td>0.0</td>\n",
              "    </tr>\n",
              "    <tr>\n",
              "      <th>Alabama</th>\n",
              "      <td>13398266.0</td>\n",
              "    </tr>\n",
              "    <tr>\n",
              "      <th>Alameda County, CA</th>\n",
              "      <td>0.0</td>\n",
              "    </tr>\n",
              "    <tr>\n",
              "      <th>Alaska</th>\n",
              "      <td>751482.0</td>\n",
              "    </tr>\n",
              "    <tr>\n",
              "      <th>American Samoa</th>\n",
              "      <td>10838.0</td>\n",
              "    </tr>\n",
              "    <tr>\n",
              "      <th>...</th>\n",
              "      <td>...</td>\n",
              "    </tr>\n",
              "    <tr>\n",
              "      <th>Williamson County, TN</th>\n",
              "      <td>0.0</td>\n",
              "    </tr>\n",
              "    <tr>\n",
              "      <th>Wisconsin</th>\n",
              "      <td>9763905.0</td>\n",
              "    </tr>\n",
              "    <tr>\n",
              "      <th>Wuhan Evacuee</th>\n",
              "      <td>0.0</td>\n",
              "    </tr>\n",
              "    <tr>\n",
              "      <th>Wyoming</th>\n",
              "      <td>1136735.0</td>\n",
              "    </tr>\n",
              "    <tr>\n",
              "      <th>Yolo County, CA</th>\n",
              "      <td>0.0</td>\n",
              "    </tr>\n",
              "  </tbody>\n",
              "</table>\n",
              "<p>198 rows × 1 columns</p>\n",
              "</div>\n",
              "      <button class=\"colab-df-convert\" onclick=\"convertToInteractive('df-d046c03b-3a42-40f9-b855-c2d7a95ddc54')\"\n",
              "              title=\"Convert this dataframe to an interactive table.\"\n",
              "              style=\"display:none;\">\n",
              "        \n",
              "  <svg xmlns=\"http://www.w3.org/2000/svg\" height=\"24px\"viewBox=\"0 0 24 24\"\n",
              "       width=\"24px\">\n",
              "    <path d=\"M0 0h24v24H0V0z\" fill=\"none\"/>\n",
              "    <path d=\"M18.56 5.44l.94 2.06.94-2.06 2.06-.94-2.06-.94-.94-2.06-.94 2.06-2.06.94zm-11 1L8.5 8.5l.94-2.06 2.06-.94-2.06-.94L8.5 2.5l-.94 2.06-2.06.94zm10 10l.94 2.06.94-2.06 2.06-.94-2.06-.94-.94-2.06-.94 2.06-2.06.94z\"/><path d=\"M17.41 7.96l-1.37-1.37c-.4-.4-.92-.59-1.43-.59-.52 0-1.04.2-1.43.59L10.3 9.45l-7.72 7.72c-.78.78-.78 2.05 0 2.83L4 21.41c.39.39.9.59 1.41.59.51 0 1.02-.2 1.41-.59l7.78-7.78 2.81-2.81c.8-.78.8-2.07 0-2.86zM5.41 20L4 18.59l7.72-7.72 1.47 1.35L5.41 20z\"/>\n",
              "  </svg>\n",
              "      </button>\n",
              "      \n",
              "  <style>\n",
              "    .colab-df-container {\n",
              "      display:flex;\n",
              "      flex-wrap:wrap;\n",
              "      gap: 12px;\n",
              "    }\n",
              "\n",
              "    .colab-df-convert {\n",
              "      background-color: #E8F0FE;\n",
              "      border: none;\n",
              "      border-radius: 50%;\n",
              "      cursor: pointer;\n",
              "      display: none;\n",
              "      fill: #1967D2;\n",
              "      height: 32px;\n",
              "      padding: 0 0 0 0;\n",
              "      width: 32px;\n",
              "    }\n",
              "\n",
              "    .colab-df-convert:hover {\n",
              "      background-color: #E2EBFA;\n",
              "      box-shadow: 0px 1px 2px rgba(60, 64, 67, 0.3), 0px 1px 3px 1px rgba(60, 64, 67, 0.15);\n",
              "      fill: #174EA6;\n",
              "    }\n",
              "\n",
              "    [theme=dark] .colab-df-convert {\n",
              "      background-color: #3B4455;\n",
              "      fill: #D2E3FC;\n",
              "    }\n",
              "\n",
              "    [theme=dark] .colab-df-convert:hover {\n",
              "      background-color: #434B5C;\n",
              "      box-shadow: 0px 1px 3px 1px rgba(0, 0, 0, 0.15);\n",
              "      filter: drop-shadow(0px 1px 2px rgba(0, 0, 0, 0.3));\n",
              "      fill: #FFFFFF;\n",
              "    }\n",
              "  </style>\n",
              "\n",
              "      <script>\n",
              "        const buttonEl =\n",
              "          document.querySelector('#df-d046c03b-3a42-40f9-b855-c2d7a95ddc54 button.colab-df-convert');\n",
              "        buttonEl.style.display =\n",
              "          google.colab.kernel.accessAllowed ? 'block' : 'none';\n",
              "\n",
              "        async function convertToInteractive(key) {\n",
              "          const element = document.querySelector('#df-d046c03b-3a42-40f9-b855-c2d7a95ddc54');\n",
              "          const dataTable =\n",
              "            await google.colab.kernel.invokeFunction('convertToInteractive',\n",
              "                                                     [key], {});\n",
              "          if (!dataTable) return;\n",
              "\n",
              "          const docLinkHtml = 'Like what you see? Visit the ' +\n",
              "            '<a target=\"_blank\" href=https://colab.research.google.com/notebooks/data_table.ipynb>data table notebook</a>'\n",
              "            + ' to learn more about interactive tables.';\n",
              "          element.innerHTML = '';\n",
              "          dataTable['output_type'] = 'display_data';\n",
              "          await google.colab.output.renderOutput(dataTable, element);\n",
              "          const docLink = document.createElement('div');\n",
              "          docLink.innerHTML = docLinkHtml;\n",
              "          element.appendChild(docLink);\n",
              "        }\n",
              "      </script>\n",
              "    </div>\n",
              "  </div>\n",
              "  "
            ]
          },
          "metadata": {},
          "execution_count": 69
        }
      ]
    },
    {
      "cell_type": "markdown",
      "source": [
        "Data **covid_deaths** sudah menjadi sebuah DataFrame baru bernama **top_deaths_covid**"
      ],
      "metadata": {
        "id": "MB4_weV1L4uv"
      }
    },
    {
      "cell_type": "code",
      "source": [
        "#melihat data death tertinggi\n",
        "\n",
        "top_deaths_covid = top_deaths_covid.sort_values(by='deaths', ascending=False)\n",
        "top_deaths=pd.DataFrame(top_deaths_covid)\n"
      ],
      "metadata": {
        "id": "w7EX2GVnMzPi"
      },
      "execution_count": 70,
      "outputs": []
    },
    {
      "cell_type": "code",
      "source": [
        "top_deaths"
      ],
      "metadata": {
        "colab": {
          "base_uri": "https://localhost:8080/",
          "height": 455
        },
        "id": "gaaawCnxnm-5",
        "outputId": "8dd094ca-df90-417f-cfbb-0c625bfed4e7"
      },
      "execution_count": 71,
      "outputs": [
        {
          "output_type": "execute_result",
          "data": {
            "text/plain": [
              "                         deaths\n",
              "province                       \n",
              "California           65704649.0\n",
              "Texas                61291804.0\n",
              "New York             58071874.0\n",
              "Florida              51455013.0\n",
              "Pennsylvania         31902955.0\n",
              "...                         ...\n",
              "Johnson County, IA          0.0\n",
              "Johnson County, KS          0.0\n",
              "Kershaw County, SC          0.0\n",
              "Kittitas County, WA         0.0\n",
              "Yolo County, CA             0.0\n",
              "\n",
              "[198 rows x 1 columns]"
            ],
            "text/html": [
              "\n",
              "  <div id=\"df-97403814-5568-4ea4-972c-ea5d7e0f2dca\">\n",
              "    <div class=\"colab-df-container\">\n",
              "      <div>\n",
              "<style scoped>\n",
              "    .dataframe tbody tr th:only-of-type {\n",
              "        vertical-align: middle;\n",
              "    }\n",
              "\n",
              "    .dataframe tbody tr th {\n",
              "        vertical-align: top;\n",
              "    }\n",
              "\n",
              "    .dataframe thead th {\n",
              "        text-align: right;\n",
              "    }\n",
              "</style>\n",
              "<table border=\"1\" class=\"dataframe\">\n",
              "  <thead>\n",
              "    <tr style=\"text-align: right;\">\n",
              "      <th></th>\n",
              "      <th>deaths</th>\n",
              "    </tr>\n",
              "    <tr>\n",
              "      <th>province</th>\n",
              "      <th></th>\n",
              "    </tr>\n",
              "  </thead>\n",
              "  <tbody>\n",
              "    <tr>\n",
              "      <th>California</th>\n",
              "      <td>65704649.0</td>\n",
              "    </tr>\n",
              "    <tr>\n",
              "      <th>Texas</th>\n",
              "      <td>61291804.0</td>\n",
              "    </tr>\n",
              "    <tr>\n",
              "      <th>New York</th>\n",
              "      <td>58071874.0</td>\n",
              "    </tr>\n",
              "    <tr>\n",
              "      <th>Florida</th>\n",
              "      <td>51455013.0</td>\n",
              "    </tr>\n",
              "    <tr>\n",
              "      <th>Pennsylvania</th>\n",
              "      <td>31902955.0</td>\n",
              "    </tr>\n",
              "    <tr>\n",
              "      <th>...</th>\n",
              "      <td>...</td>\n",
              "    </tr>\n",
              "    <tr>\n",
              "      <th>Johnson County, IA</th>\n",
              "      <td>0.0</td>\n",
              "    </tr>\n",
              "    <tr>\n",
              "      <th>Johnson County, KS</th>\n",
              "      <td>0.0</td>\n",
              "    </tr>\n",
              "    <tr>\n",
              "      <th>Kershaw County, SC</th>\n",
              "      <td>0.0</td>\n",
              "    </tr>\n",
              "    <tr>\n",
              "      <th>Kittitas County, WA</th>\n",
              "      <td>0.0</td>\n",
              "    </tr>\n",
              "    <tr>\n",
              "      <th>Yolo County, CA</th>\n",
              "      <td>0.0</td>\n",
              "    </tr>\n",
              "  </tbody>\n",
              "</table>\n",
              "<p>198 rows × 1 columns</p>\n",
              "</div>\n",
              "      <button class=\"colab-df-convert\" onclick=\"convertToInteractive('df-97403814-5568-4ea4-972c-ea5d7e0f2dca')\"\n",
              "              title=\"Convert this dataframe to an interactive table.\"\n",
              "              style=\"display:none;\">\n",
              "        \n",
              "  <svg xmlns=\"http://www.w3.org/2000/svg\" height=\"24px\"viewBox=\"0 0 24 24\"\n",
              "       width=\"24px\">\n",
              "    <path d=\"M0 0h24v24H0V0z\" fill=\"none\"/>\n",
              "    <path d=\"M18.56 5.44l.94 2.06.94-2.06 2.06-.94-2.06-.94-.94-2.06-.94 2.06-2.06.94zm-11 1L8.5 8.5l.94-2.06 2.06-.94-2.06-.94L8.5 2.5l-.94 2.06-2.06.94zm10 10l.94 2.06.94-2.06 2.06-.94-2.06-.94-.94-2.06-.94 2.06-2.06.94z\"/><path d=\"M17.41 7.96l-1.37-1.37c-.4-.4-.92-.59-1.43-.59-.52 0-1.04.2-1.43.59L10.3 9.45l-7.72 7.72c-.78.78-.78 2.05 0 2.83L4 21.41c.39.39.9.59 1.41.59.51 0 1.02-.2 1.41-.59l7.78-7.78 2.81-2.81c.8-.78.8-2.07 0-2.86zM5.41 20L4 18.59l7.72-7.72 1.47 1.35L5.41 20z\"/>\n",
              "  </svg>\n",
              "      </button>\n",
              "      \n",
              "  <style>\n",
              "    .colab-df-container {\n",
              "      display:flex;\n",
              "      flex-wrap:wrap;\n",
              "      gap: 12px;\n",
              "    }\n",
              "\n",
              "    .colab-df-convert {\n",
              "      background-color: #E8F0FE;\n",
              "      border: none;\n",
              "      border-radius: 50%;\n",
              "      cursor: pointer;\n",
              "      display: none;\n",
              "      fill: #1967D2;\n",
              "      height: 32px;\n",
              "      padding: 0 0 0 0;\n",
              "      width: 32px;\n",
              "    }\n",
              "\n",
              "    .colab-df-convert:hover {\n",
              "      background-color: #E2EBFA;\n",
              "      box-shadow: 0px 1px 2px rgba(60, 64, 67, 0.3), 0px 1px 3px 1px rgba(60, 64, 67, 0.15);\n",
              "      fill: #174EA6;\n",
              "    }\n",
              "\n",
              "    [theme=dark] .colab-df-convert {\n",
              "      background-color: #3B4455;\n",
              "      fill: #D2E3FC;\n",
              "    }\n",
              "\n",
              "    [theme=dark] .colab-df-convert:hover {\n",
              "      background-color: #434B5C;\n",
              "      box-shadow: 0px 1px 3px 1px rgba(0, 0, 0, 0.15);\n",
              "      filter: drop-shadow(0px 1px 2px rgba(0, 0, 0, 0.3));\n",
              "      fill: #FFFFFF;\n",
              "    }\n",
              "  </style>\n",
              "\n",
              "      <script>\n",
              "        const buttonEl =\n",
              "          document.querySelector('#df-97403814-5568-4ea4-972c-ea5d7e0f2dca button.colab-df-convert');\n",
              "        buttonEl.style.display =\n",
              "          google.colab.kernel.accessAllowed ? 'block' : 'none';\n",
              "\n",
              "        async function convertToInteractive(key) {\n",
              "          const element = document.querySelector('#df-97403814-5568-4ea4-972c-ea5d7e0f2dca');\n",
              "          const dataTable =\n",
              "            await google.colab.kernel.invokeFunction('convertToInteractive',\n",
              "                                                     [key], {});\n",
              "          if (!dataTable) return;\n",
              "\n",
              "          const docLinkHtml = 'Like what you see? Visit the ' +\n",
              "            '<a target=\"_blank\" href=https://colab.research.google.com/notebooks/data_table.ipynb>data table notebook</a>'\n",
              "            + ' to learn more about interactive tables.';\n",
              "          element.innerHTML = '';\n",
              "          dataTable['output_type'] = 'display_data';\n",
              "          await google.colab.output.renderOutput(dataTable, element);\n",
              "          const docLink = document.createElement('div');\n",
              "          docLink.innerHTML = docLinkHtml;\n",
              "          element.appendChild(docLink);\n",
              "        }\n",
              "      </script>\n",
              "    </div>\n",
              "  </div>\n",
              "  "
            ]
          },
          "metadata": {},
          "execution_count": 71
        }
      ]
    },
    {
      "cell_type": "markdown",
      "source": [
        "dataframe menampilkan  province dengan angka kematian tertinggi"
      ],
      "metadata": {
        "id": "cEDLm49WQAak"
      }
    },
    {
      "cell_type": "code",
      "source": [
        "# Mengambil 5 data province tertinggi\n",
        "top_5_deaths = top_deaths.sort_values(by=['deaths'], ascending=False).head(5)\n",
        "\n",
        "# Membuat bar plot\n",
        "plt.bar(top_5_deaths.index, top_5_deaths['deaths'])\n",
        "\n",
        "# Memberikan judul pada plot dan sumbu-sumbunya\n",
        "plt.title('5 Province dengan Jumlah Kematian Tertinggi di Amerika Serikat')\n",
        "plt.xlabel('Province')\n",
        "plt.ylabel('Jumlah Kematian')\n",
        "\n",
        "# Menampilkan plot\n",
        "plt.show()"
      ],
      "metadata": {
        "colab": {
          "base_uri": "https://localhost:8080/",
          "height": 487
        },
        "id": "dCnQtRKafXxe",
        "outputId": "bc9b08bd-cf25-434c-a8a7-ced3d47d4454"
      },
      "execution_count": 72,
      "outputs": [
        {
          "output_type": "display_data",
          "data": {
            "text/plain": [
              "<Figure size 640x480 with 1 Axes>"
            ],
            "image/png": "[encoded data removed]"
          },
          "metadata": {}
        }
      ]
    },
    {
      "cell_type": "markdown",
      "source": [
        "ini adalah hasil visualisasi 5 province dengan tingkat kematian tertinggi di USA"
      ],
      "metadata": {
        "id": "1MOgdEPSnv12"
      }
    },
    {
      "cell_type": "markdown",
      "source": [
        "## Grouping 3"
      ],
      "metadata": {
        "id": "89VUsSi6Rfri"
      }
    },
    {
      "cell_type": "code",
      "source": [
        "#menampilkan seluruh data\n",
        "renamed_covid\n"
      ],
      "metadata": {
        "colab": {
          "base_uri": "https://localhost:8080/",
          "height": 424
        },
        "id": "uOAs4AntQOjy",
        "outputId": "3ce5c632-c21a-4683-a9fd-4b8e87cd01ef"
      },
      "execution_count": 73,
      "outputs": [
        {
          "output_type": "execute_result",
          "data": {
            "text/plain": [
              "               province country       date  confirmed  deaths  recovered  \\\n",
              "0               Georgia      US 2020-05-15       15.0     2.0        0.0   \n",
              "1              New York      US 2020-05-15      133.0     1.0        0.0   \n",
              "2             Wisconsin      US 2020-05-15       37.0     0.0        0.0   \n",
              "3        North Carolina      US 2020-05-15       12.0     0.0        0.0   \n",
              "4              Kentucky      US 2020-05-15       95.0     3.0        0.0   \n",
              "...                 ...     ...        ...        ...     ...        ...   \n",
              "4264075       Wisconsin      US 2022-09-29     2204.0    19.0        0.0   \n",
              "4264076       Wisconsin      US 2022-09-29    12827.0    77.0        0.0   \n",
              "4264077       Wisconsin      US 2022-09-29    65770.0   717.0        0.0   \n",
              "4264078       Wisconsin      US 2022-09-29    50990.0   421.0        0.0   \n",
              "4264079       Wisconsin      US 2022-09-29     3936.0    60.0        0.0   \n",
              "\n",
              "         active  year  \n",
              "0          13.0  2020  \n",
              "1         132.0  2020  \n",
              "2          37.0  2020  \n",
              "3          12.0  2020  \n",
              "4          92.0  2020  \n",
              "...         ...   ...  \n",
              "4264075     0.0  2022  \n",
              "4264076     0.0  2022  \n",
              "4264077     0.0  2022  \n",
              "4264078     0.0  2022  \n",
              "4264079     0.0  2022  \n",
              "\n",
              "[3513248 rows x 8 columns]"
            ],
            "text/html": [
              "\n",
              "  <div id=\"df-92ae62c1-63dd-4a20-8757-a6eb358c937e\">\n",
              "    <div class=\"colab-df-container\">\n",
              "      <div>\n",
              "<style scoped>\n",
              "    .dataframe tbody tr th:only-of-type {\n",
              "        vertical-align: middle;\n",
              "    }\n",
              "\n",
              "    .dataframe tbody tr th {\n",
              "        vertical-align: top;\n",
              "    }\n",
              "\n",
              "    .dataframe thead th {\n",
              "        text-align: right;\n",
              "    }\n",
              "</style>\n",
              "<table border=\"1\" class=\"dataframe\">\n",
              "  <thead>\n",
              "    <tr style=\"text-align: right;\">\n",
              "      <th></th>\n",
              "      <th>province</th>\n",
              "      <th>country</th>\n",
              "      <th>date</th>\n",
              "      <th>confirmed</th>\n",
              "      <th>deaths</th>\n",
              "      <th>recovered</th>\n",
              "      <th>active</th>\n",
              "      <th>year</th>\n",
              "    </tr>\n",
              "  </thead>\n",
              "  <tbody>\n",
              "    <tr>\n",
              "      <th>0</th>\n",
              "      <td>Georgia</td>\n",
              "      <td>US</td>\n",
              "      <td>2020-05-15</td>\n",
              "      <td>15.0</td>\n",
              "      <td>2.0</td>\n",
              "      <td>0.0</td>\n",
              "      <td>13.0</td>\n",
              "      <td>2020</td>\n",
              "    </tr>\n",
              "    <tr>\n",
              "      <th>1</th>\n",
              "      <td>New York</td>\n",
              "      <td>US</td>\n",
              "      <td>2020-05-15</td>\n",
              "      <td>133.0</td>\n",
              "      <td>1.0</td>\n",
              "      <td>0.0</td>\n",
              "      <td>132.0</td>\n",
              "      <td>2020</td>\n",
              "    </tr>\n",
              "    <tr>\n",
              "      <th>2</th>\n",
              "      <td>Wisconsin</td>\n",
              "      <td>US</td>\n",
              "      <td>2020-05-15</td>\n",
              "      <td>37.0</td>\n",
              "      <td>0.0</td>\n",
              "      <td>0.0</td>\n",
              "      <td>37.0</td>\n",
              "      <td>2020</td>\n",
              "    </tr>\n",
              "    <tr>\n",
              "      <th>3</th>\n",
              "      <td>North Carolina</td>\n",
              "      <td>US</td>\n",
              "      <td>2020-05-15</td>\n",
              "      <td>12.0</td>\n",
              "      <td>0.0</td>\n",
              "      <td>0.0</td>\n",
              "      <td>12.0</td>\n",
              "      <td>2020</td>\n",
              "    </tr>\n",
              "    <tr>\n",
              "      <th>4</th>\n",
              "      <td>Kentucky</td>\n",
              "      <td>US</td>\n",
              "      <td>2020-05-15</td>\n",
              "      <td>95.0</td>\n",
              "      <td>3.0</td>\n",
              "      <td>0.0</td>\n",
              "      <td>92.0</td>\n",
              "      <td>2020</td>\n",
              "    </tr>\n",
              "    <tr>\n",
              "      <th>...</th>\n",
              "      <td>...</td>\n",
              "      <td>...</td>\n",
              "      <td>...</td>\n",
              "      <td>...</td>\n",
              "      <td>...</td>\n",
              "      <td>...</td>\n",
              "      <td>...</td>\n",
              "      <td>...</td>\n",
              "    </tr>\n",
              "    <tr>\n",
              "      <th>4264075</th>\n",
              "      <td>Wisconsin</td>\n",
              "      <td>US</td>\n",
              "      <td>2022-09-29</td>\n",
              "      <td>2204.0</td>\n",
              "      <td>19.0</td>\n",
              "      <td>0.0</td>\n",
              "      <td>0.0</td>\n",
              "      <td>2022</td>\n",
              "    </tr>\n",
              "    <tr>\n",
              "      <th>4264076</th>\n",
              "      <td>Wisconsin</td>\n",
              "      <td>US</td>\n",
              "      <td>2022-09-29</td>\n",
              "      <td>12827.0</td>\n",
              "      <td>77.0</td>\n",
              "      <td>0.0</td>\n",
              "      <td>0.0</td>\n",
              "      <td>2022</td>\n",
              "    </tr>\n",
              "    <tr>\n",
              "      <th>4264077</th>\n",
              "      <td>Wisconsin</td>\n",
              "      <td>US</td>\n",
              "      <td>2022-09-29</td>\n",
              "      <td>65770.0</td>\n",
              "      <td>717.0</td>\n",
              "      <td>0.0</td>\n",
              "      <td>0.0</td>\n",
              "      <td>2022</td>\n",
              "    </tr>\n",
              "    <tr>\n",
              "      <th>4264078</th>\n",
              "      <td>Wisconsin</td>\n",
              "      <td>US</td>\n",
              "      <td>2022-09-29</td>\n",
              "      <td>50990.0</td>\n",
              "      <td>421.0</td>\n",
              "      <td>0.0</td>\n",
              "      <td>0.0</td>\n",
              "      <td>2022</td>\n",
              "    </tr>\n",
              "    <tr>\n",
              "      <th>4264079</th>\n",
              "      <td>Wisconsin</td>\n",
              "      <td>US</td>\n",
              "      <td>2022-09-29</td>\n",
              "      <td>3936.0</td>\n",
              "      <td>60.0</td>\n",
              "      <td>0.0</td>\n",
              "      <td>0.0</td>\n",
              "      <td>2022</td>\n",
              "    </tr>\n",
              "  </tbody>\n",
              "</table>\n",
              "<p>3513248 rows × 8 columns</p>\n",
              "</div>\n",
              "      <button class=\"colab-df-convert\" onclick=\"convertToInteractive('df-92ae62c1-63dd-4a20-8757-a6eb358c937e')\"\n",
              "              title=\"Convert this dataframe to an interactive table.\"\n",
              "              style=\"display:none;\">\n",
              "        \n",
              "  <svg xmlns=\"http://www.w3.org/2000/svg\" height=\"24px\"viewBox=\"0 0 24 24\"\n",
              "       width=\"24px\">\n",
              "    <path d=\"M0 0h24v24H0V0z\" fill=\"none\"/>\n",
              "    <path d=\"M18.56 5.44l.94 2.06.94-2.06 2.06-.94-2.06-.94-.94-2.06-.94 2.06-2.06.94zm-11 1L8.5 8.5l.94-2.06 2.06-.94-2.06-.94L8.5 2.5l-.94 2.06-2.06.94zm10 10l.94 2.06.94-2.06 2.06-.94-2.06-.94-.94-2.06-.94 2.06-2.06.94z\"/><path d=\"M17.41 7.96l-1.37-1.37c-.4-.4-.92-.59-1.43-.59-.52 0-1.04.2-1.43.59L10.3 9.45l-7.72 7.72c-.78.78-.78 2.05 0 2.83L4 21.41c.39.39.9.59 1.41.59.51 0 1.02-.2 1.41-.59l7.78-7.78 2.81-2.81c.8-.78.8-2.07 0-2.86zM5.41 20L4 18.59l7.72-7.72 1.47 1.35L5.41 20z\"/>\n",
              "  </svg>\n",
              "      </button>\n",
              "      \n",
              "  <style>\n",
              "    .colab-df-container {\n",
              "      display:flex;\n",
              "      flex-wrap:wrap;\n",
              "      gap: 12px;\n",
              "    }\n",
              "\n",
              "    .colab-df-convert {\n",
              "      background-color: #E8F0FE;\n",
              "      border: none;\n",
              "      border-radius: 50%;\n",
              "      cursor: pointer;\n",
              "      display: none;\n",
              "      fill: #1967D2;\n",
              "      height: 32px;\n",
              "      padding: 0 0 0 0;\n",
              "      width: 32px;\n",
              "    }\n",
              "\n",
              "    .colab-df-convert:hover {\n",
              "      background-color: #E2EBFA;\n",
              "      box-shadow: 0px 1px 2px rgba(60, 64, 67, 0.3), 0px 1px 3px 1px rgba(60, 64, 67, 0.15);\n",
              "      fill: #174EA6;\n",
              "    }\n",
              "\n",
              "    [theme=dark] .colab-df-convert {\n",
              "      background-color: #3B4455;\n",
              "      fill: #D2E3FC;\n",
              "    }\n",
              "\n",
              "    [theme=dark] .colab-df-convert:hover {\n",
              "      background-color: #434B5C;\n",
              "      box-shadow: 0px 1px 3px 1px rgba(0, 0, 0, 0.15);\n",
              "      filter: drop-shadow(0px 1px 2px rgba(0, 0, 0, 0.3));\n",
              "      fill: #FFFFFF;\n",
              "    }\n",
              "  </style>\n",
              "\n",
              "      <script>\n",
              "        const buttonEl =\n",
              "          document.querySelector('#df-92ae62c1-63dd-4a20-8757-a6eb358c937e button.colab-df-convert');\n",
              "        buttonEl.style.display =\n",
              "          google.colab.kernel.accessAllowed ? 'block' : 'none';\n",
              "\n",
              "        async function convertToInteractive(key) {\n",
              "          const element = document.querySelector('#df-92ae62c1-63dd-4a20-8757-a6eb358c937e');\n",
              "          const dataTable =\n",
              "            await google.colab.kernel.invokeFunction('convertToInteractive',\n",
              "                                                     [key], {});\n",
              "          if (!dataTable) return;\n",
              "\n",
              "          const docLinkHtml = 'Like what you see? Visit the ' +\n",
              "            '<a target=\"_blank\" href=https://colab.research.google.com/notebooks/data_table.ipynb>data table notebook</a>'\n",
              "            + ' to learn more about interactive tables.';\n",
              "          element.innerHTML = '';\n",
              "          dataTable['output_type'] = 'display_data';\n",
              "          await google.colab.output.renderOutput(dataTable, element);\n",
              "          const docLink = document.createElement('div');\n",
              "          docLink.innerHTML = docLinkHtml;\n",
              "          element.appendChild(docLink);\n",
              "        }\n",
              "      </script>\n",
              "    </div>\n",
              "  </div>\n",
              "  "
            ]
          },
          "metadata": {},
          "execution_count": 73
        }
      ]
    },
    {
      "cell_type": "markdown",
      "source": [
        "menampilkan seluruh data sebelum digrouping berdasarkan jumlah angka kematian setiap tahunnya"
      ],
      "metadata": {
        "id": "GgWztyFbaRN8"
      }
    },
    {
      "cell_type": "code",
      "source": [
        "#mengroup dan membuat variabel baru\n",
        "deaths_by_year = renamed_covid.groupby(['year'])['deaths'].sum()\n",
        "top_deaths_4years = pd.DataFrame(deaths_by_year)"
      ],
      "metadata": {
        "id": "-5e-c4I5YIp4"
      },
      "execution_count": 74,
      "outputs": []
    },
    {
      "cell_type": "code",
      "source": [
        "top_deaths_4years"
      ],
      "metadata": {
        "colab": {
          "base_uri": "https://localhost:8080/",
          "height": 206
        },
        "id": "3cBi0rL7aFSb",
        "outputId": "744f6721-0b9a-42ef-a169-ea6dae7f9186"
      },
      "execution_count": 75,
      "outputs": [
        {
          "output_type": "execute_result",
          "data": {
            "text/plain": [
              "           deaths\n",
              "year             \n",
              "2020   46378395.0\n",
              "2021  224057759.0\n",
              "2022  367870042.0\n",
              "2023   75470277.0"
            ],
            "text/html": [
              "\n",
              "  <div id=\"df-1f43ab7b-8649-4d0a-9bbb-ef76bcccd2dc\">\n",
              "    <div class=\"colab-df-container\">\n",
              "      <div>\n",
              "<style scoped>\n",
              "    .dataframe tbody tr th:only-of-type {\n",
              "        vertical-align: middle;\n",
              "    }\n",
              "\n",
              "    .dataframe tbody tr th {\n",
              "        vertical-align: top;\n",
              "    }\n",
              "\n",
              "    .dataframe thead th {\n",
              "        text-align: right;\n",
              "    }\n",
              "</style>\n",
              "<table border=\"1\" class=\"dataframe\">\n",
              "  <thead>\n",
              "    <tr style=\"text-align: right;\">\n",
              "      <th></th>\n",
              "      <th>deaths</th>\n",
              "    </tr>\n",
              "    <tr>\n",
              "      <th>year</th>\n",
              "      <th></th>\n",
              "    </tr>\n",
              "  </thead>\n",
              "  <tbody>\n",
              "    <tr>\n",
              "      <th>2020</th>\n",
              "      <td>46378395.0</td>\n",
              "    </tr>\n",
              "    <tr>\n",
              "      <th>2021</th>\n",
              "      <td>224057759.0</td>\n",
              "    </tr>\n",
              "    <tr>\n",
              "      <th>2022</th>\n",
              "      <td>367870042.0</td>\n",
              "    </tr>\n",
              "    <tr>\n",
              "      <th>2023</th>\n",
              "      <td>75470277.0</td>\n",
              "    </tr>\n",
              "  </tbody>\n",
              "</table>\n",
              "</div>\n",
              "      <button class=\"colab-df-convert\" onclick=\"convertToInteractive('df-1f43ab7b-8649-4d0a-9bbb-ef76bcccd2dc')\"\n",
              "              title=\"Convert this dataframe to an interactive table.\"\n",
              "              style=\"display:none;\">\n",
              "        \n",
              "  <svg xmlns=\"http://www.w3.org/2000/svg\" height=\"24px\"viewBox=\"0 0 24 24\"\n",
              "       width=\"24px\">\n",
              "    <path d=\"M0 0h24v24H0V0z\" fill=\"none\"/>\n",
              "    <path d=\"M18.56 5.44l.94 2.06.94-2.06 2.06-.94-2.06-.94-.94-2.06-.94 2.06-2.06.94zm-11 1L8.5 8.5l.94-2.06 2.06-.94-2.06-.94L8.5 2.5l-.94 2.06-2.06.94zm10 10l.94 2.06.94-2.06 2.06-.94-2.06-.94-.94-2.06-.94 2.06-2.06.94z\"/><path d=\"M17.41 7.96l-1.37-1.37c-.4-.4-.92-.59-1.43-.59-.52 0-1.04.2-1.43.59L10.3 9.45l-7.72 7.72c-.78.78-.78 2.05 0 2.83L4 21.41c.39.39.9.59 1.41.59.51 0 1.02-.2 1.41-.59l7.78-7.78 2.81-2.81c.8-.78.8-2.07 0-2.86zM5.41 20L4 18.59l7.72-7.72 1.47 1.35L5.41 20z\"/>\n",
              "  </svg>\n",
              "      </button>\n",
              "      \n",
              "  <style>\n",
              "    .colab-df-container {\n",
              "      display:flex;\n",
              "      flex-wrap:wrap;\n",
              "      gap: 12px;\n",
              "    }\n",
              "\n",
              "    .colab-df-convert {\n",
              "      background-color: #E8F0FE;\n",
              "      border: none;\n",
              "      border-radius: 50%;\n",
              "      cursor: pointer;\n",
              "      display: none;\n",
              "      fill: #1967D2;\n",
              "      height: 32px;\n",
              "      padding: 0 0 0 0;\n",
              "      width: 32px;\n",
              "    }\n",
              "\n",
              "    .colab-df-convert:hover {\n",
              "      background-color: #E2EBFA;\n",
              "      box-shadow: 0px 1px 2px rgba(60, 64, 67, 0.3), 0px 1px 3px 1px rgba(60, 64, 67, 0.15);\n",
              "      fill: #174EA6;\n",
              "    }\n",
              "\n",
              "    [theme=dark] .colab-df-convert {\n",
              "      background-color: #3B4455;\n",
              "      fill: #D2E3FC;\n",
              "    }\n",
              "\n",
              "    [theme=dark] .colab-df-convert:hover {\n",
              "      background-color: #434B5C;\n",
              "      box-shadow: 0px 1px 3px 1px rgba(0, 0, 0, 0.15);\n",
              "      filter: drop-shadow(0px 1px 2px rgba(0, 0, 0, 0.3));\n",
              "      fill: #FFFFFF;\n",
              "    }\n",
              "  </style>\n",
              "\n",
              "      <script>\n",
              "        const buttonEl =\n",
              "          document.querySelector('#df-1f43ab7b-8649-4d0a-9bbb-ef76bcccd2dc button.colab-df-convert');\n",
              "        buttonEl.style.display =\n",
              "          google.colab.kernel.accessAllowed ? 'block' : 'none';\n",
              "\n",
              "        async function convertToInteractive(key) {\n",
              "          const element = document.querySelector('#df-1f43ab7b-8649-4d0a-9bbb-ef76bcccd2dc');\n",
              "          const dataTable =\n",
              "            await google.colab.kernel.invokeFunction('convertToInteractive',\n",
              "                                                     [key], {});\n",
              "          if (!dataTable) return;\n",
              "\n",
              "          const docLinkHtml = 'Like what you see? Visit the ' +\n",
              "            '<a target=\"_blank\" href=https://colab.research.google.com/notebooks/data_table.ipynb>data table notebook</a>'\n",
              "            + ' to learn more about interactive tables.';\n",
              "          element.innerHTML = '';\n",
              "          dataTable['output_type'] = 'display_data';\n",
              "          await google.colab.output.renderOutput(dataTable, element);\n",
              "          const docLink = document.createElement('div');\n",
              "          docLink.innerHTML = docLinkHtml;\n",
              "          element.appendChild(docLink);\n",
              "        }\n",
              "      </script>\n",
              "    </div>\n",
              "  </div>\n",
              "  "
            ]
          },
          "metadata": {},
          "execution_count": 75
        }
      ]
    },
    {
      "cell_type": "markdown",
      "source": [
        "ini adalah hasil jumlah death terbesar antara tahun 2020-2023. Dan data siap divisualisasikan"
      ],
      "metadata": {
        "id": "DUNOWxLxan5Y"
      }
    },
    {
      "cell_type": "code",
      "source": [
        "# Mengambil data kematian tertinggi\n",
        "top_4years_deaths = top_deaths_4years.sort_values(by=['deaths'], ascending=False)\n",
        "\n",
        "# Membuat bar plot\n",
        "plt.bar(top_4years_deaths.index, top_4years_deaths['deaths'])\n",
        "\n",
        "# Memberikan judul pada plot dan sumbu-sumbunya\n",
        "plt.title('Jumlah kematian tertinggi')\n",
        "plt.xlabel('Tahun')\n",
        "plt.ylabel('Jumlah Kematian')\n",
        "\n",
        "\n",
        "# Menampilkan plot\n",
        "plt.show()"
      ],
      "metadata": {
        "colab": {
          "base_uri": "https://localhost:8080/",
          "height": 472
        },
        "id": "M_JLwIPLb0wH",
        "outputId": "d1b70512-644b-4813-f8a7-5b3d78c6c81f"
      },
      "execution_count": 76,
      "outputs": [
        {
          "output_type": "display_data",
          "data": {
            "text/plain": [
              "<Figure size 640x480 with 1 Axes>"
            ],
            "image/png": "[encoded data removed]"
          },
          "metadata": {}
        }
      ]
    },
    {
      "cell_type": "markdown",
      "source": [
        "ini adalah hasil visualisasi jumlah kematian tertinggi dari tahun ke tahun ni negara USA"
      ],
      "metadata": {
        "id": "9gYEqFg_n7sC"
      }
    },
    {
      "cell_type": "markdown",
      "source": [
        "# VI. Pengambilan kesimpulan"
      ],
      "metadata": {
        "id": "6U3WMkGroYEL"
      }
    },
    {
      "cell_type": "markdown",
      "source": [
        "*  5 Kota dengan tingkat terkonfirmasi tertinggi di USA yaitu :\n",
        "\n",
        "    1. California\n",
        "    2. Texas\t\n",
        "    3. Florida\n",
        "    4. New York\n",
        "    5. Illinois\n",
        "\n",
        "dengan banyak nya angka yang terkonfirmasi, hendaknya menjadi salah satu bahan untuk mengambil kebijakan pengetatan disejumlah wilayah tersebut\n",
        "\n",
        "*  5 Kota dengan tingkat kematian tertinggi di USA yaitu :\n",
        "\n",
        "    1. California\n",
        "    2. Texas\t\n",
        "    3. New York\n",
        "    4. Florida\n",
        "    5. Pennsylvania\n",
        "\n",
        "\n",
        "dengan banyak nya angka kematian menjadi bahan pertimbangan untuk menambah jumlah nakes atau fasilitas kesehatan lainnya dan juga kesadaran dari masyarakat untuk menghentikan penyebaran virus covid-19 ini\n",
        "\n",
        "* Puncak kematian Terparah dalam 4 tahun terakhir terjadi pada tahun :\n",
        "\n",
        "  2022\n",
        "\n",
        "dengan mengetahui angka terparah dalam beberapa tahun terakhir dapat juga menjadi pertimbangan untuk membuat berbagai keputusan / pengetatan disejumlah wilayah di USA untuk menekan angka kematian "
      ],
      "metadata": {
        "id": "vdu_PMu-ofsP"
      }
    }
  ]
}