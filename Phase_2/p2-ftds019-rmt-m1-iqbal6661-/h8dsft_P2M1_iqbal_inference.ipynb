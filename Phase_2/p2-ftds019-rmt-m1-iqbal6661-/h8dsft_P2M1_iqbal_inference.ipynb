{
 "cells": [
  {
   "cell_type": "code",
   "execution_count": 1,
   "metadata": {},
   "outputs": [],
   "source": [
    "import json\n",
    "import pickle\n",
    "import joblib\n",
    "import pandas as pd\n",
    "import numpy as np\n",
    "from tensorflow.keras.models import load_model"
   ]
  },
  {
   "attachments": {},
   "cell_type": "markdown",
   "metadata": {},
   "source": [
    "# 10. Model Inferences"
   ]
  },
  {
   "cell_type": "code",
   "execution_count": 2,
   "metadata": {},
   "outputs": [],
   "source": [
    "with open('pipeline.pkl','rb') as file_1:\n",
    "    final_pipeline=pickle.load(file_1)\n",
    "\n",
    "model_ann = load_model('model.h5')"
   ]
  },
  {
   "cell_type": "code",
   "execution_count": 3,
   "metadata": {},
   "outputs": [
    {
     "data": {
      "text/html": [
       "<div>\n",
       "<style scoped>\n",
       "    .dataframe tbody tr th:only-of-type {\n",
       "        vertical-align: middle;\n",
       "    }\n",
       "\n",
       "    .dataframe tbody tr th {\n",
       "        vertical-align: top;\n",
       "    }\n",
       "\n",
       "    .dataframe thead th {\n",
       "        text-align: right;\n",
       "    }\n",
       "</style>\n",
       "<table border=\"1\" class=\"dataframe\">\n",
       "  <thead>\n",
       "    <tr style=\"text-align: right;\">\n",
       "      <th></th>\n",
       "      <th>user_id</th>\n",
       "      <th>age</th>\n",
       "      <th>gender</th>\n",
       "      <th>region_category</th>\n",
       "      <th>membership_category</th>\n",
       "      <th>joining_date</th>\n",
       "      <th>joined_through_referral</th>\n",
       "      <th>preferred_offer_types</th>\n",
       "      <th>medium_of_operation</th>\n",
       "      <th>internet_option</th>\n",
       "      <th>...</th>\n",
       "      <th>days_since_last_login</th>\n",
       "      <th>avg_time_spent</th>\n",
       "      <th>avg_transaction_value</th>\n",
       "      <th>avg_frequency_login_days</th>\n",
       "      <th>points_in_wallet</th>\n",
       "      <th>used_special_discount</th>\n",
       "      <th>offer_application_preference</th>\n",
       "      <th>past_complaint</th>\n",
       "      <th>complaint_status</th>\n",
       "      <th>feedback</th>\n",
       "    </tr>\n",
       "  </thead>\n",
       "  <tbody>\n",
       "    <tr>\n",
       "      <th>28891</th>\n",
       "      <td>9fbf5e48b7058d3e</td>\n",
       "      <td>59</td>\n",
       "      <td>F</td>\n",
       "      <td>City</td>\n",
       "      <td>No Membership</td>\n",
       "      <td>2017-02-04</td>\n",
       "      <td>No</td>\n",
       "      <td>Credit/Debit Card Offers</td>\n",
       "      <td>Smartphone</td>\n",
       "      <td>Mobile_Data</td>\n",
       "      <td>...</td>\n",
       "      <td>16</td>\n",
       "      <td>233.530000</td>\n",
       "      <td>8828.83</td>\n",
       "      <td>22.0</td>\n",
       "      <td>518.310000</td>\n",
       "      <td>Yes</td>\n",
       "      <td>No</td>\n",
       "      <td>No</td>\n",
       "      <td>Not Applicable</td>\n",
       "      <td>Too many ads</td>\n",
       "    </tr>\n",
       "    <tr>\n",
       "      <th>30508</th>\n",
       "      <td>b8684f8749965a6b</td>\n",
       "      <td>58</td>\n",
       "      <td>M</td>\n",
       "      <td>City</td>\n",
       "      <td>Gold Membership</td>\n",
       "      <td>2016-03-17</td>\n",
       "      <td>NaN</td>\n",
       "      <td>Credit/Debit Card Offers</td>\n",
       "      <td>NaN</td>\n",
       "      <td>Mobile_Data</td>\n",
       "      <td>...</td>\n",
       "      <td>5</td>\n",
       "      <td>462.400000</td>\n",
       "      <td>1308.83</td>\n",
       "      <td>8.0</td>\n",
       "      <td>728.720000</td>\n",
       "      <td>No</td>\n",
       "      <td>Yes</td>\n",
       "      <td>No</td>\n",
       "      <td>Not Applicable</td>\n",
       "      <td>Poor Website</td>\n",
       "    </tr>\n",
       "    <tr>\n",
       "      <th>33795</th>\n",
       "      <td>b5c7314e281d4fcd</td>\n",
       "      <td>63</td>\n",
       "      <td>M</td>\n",
       "      <td>City</td>\n",
       "      <td>Basic Membership</td>\n",
       "      <td>2017-03-11</td>\n",
       "      <td>No</td>\n",
       "      <td>Without Offers</td>\n",
       "      <td>Desktop</td>\n",
       "      <td>Mobile_Data</td>\n",
       "      <td>...</td>\n",
       "      <td>5</td>\n",
       "      <td>1021.597764</td>\n",
       "      <td>47305.90</td>\n",
       "      <td>0.0</td>\n",
       "      <td>245.374603</td>\n",
       "      <td>No</td>\n",
       "      <td>Yes</td>\n",
       "      <td>No</td>\n",
       "      <td>Not Applicable</td>\n",
       "      <td>No reason specified</td>\n",
       "    </tr>\n",
       "    <tr>\n",
       "      <th>26186</th>\n",
       "      <td>b62c79d80e9b4b8c</td>\n",
       "      <td>36</td>\n",
       "      <td>M</td>\n",
       "      <td>Town</td>\n",
       "      <td>Basic Membership</td>\n",
       "      <td>2015-10-19</td>\n",
       "      <td>No</td>\n",
       "      <td>Without Offers</td>\n",
       "      <td>NaN</td>\n",
       "      <td>Mobile_Data</td>\n",
       "      <td>...</td>\n",
       "      <td>11</td>\n",
       "      <td>129.620000</td>\n",
       "      <td>3709.77</td>\n",
       "      <td>28.0</td>\n",
       "      <td>300.619849</td>\n",
       "      <td>Yes</td>\n",
       "      <td>No</td>\n",
       "      <td>No</td>\n",
       "      <td>Not Applicable</td>\n",
       "      <td>Poor Product Quality</td>\n",
       "    </tr>\n",
       "    <tr>\n",
       "      <th>19766</th>\n",
       "      <td>b2d753fab1593d08</td>\n",
       "      <td>39</td>\n",
       "      <td>F</td>\n",
       "      <td>City</td>\n",
       "      <td>Gold Membership</td>\n",
       "      <td>2017-12-12</td>\n",
       "      <td>Yes</td>\n",
       "      <td>Gift Vouchers/Coupons</td>\n",
       "      <td>NaN</td>\n",
       "      <td>Mobile_Data</td>\n",
       "      <td>...</td>\n",
       "      <td>9</td>\n",
       "      <td>1772.747383</td>\n",
       "      <td>22407.75</td>\n",
       "      <td>0.0</td>\n",
       "      <td>0.000000</td>\n",
       "      <td>Yes</td>\n",
       "      <td>No</td>\n",
       "      <td>Yes</td>\n",
       "      <td>No Information Available</td>\n",
       "      <td>Reasonable Price</td>\n",
       "    </tr>\n",
       "  </tbody>\n",
       "</table>\n",
       "<p>5 rows × 21 columns</p>\n",
       "</div>"
      ],
      "text/plain": [
       "                user_id  age gender region_category membership_category  \\\n",
       "28891  9fbf5e48b7058d3e   59      F            City       No Membership   \n",
       "30508  b8684f8749965a6b   58      M            City     Gold Membership   \n",
       "33795  b5c7314e281d4fcd   63      M            City    Basic Membership   \n",
       "26186  b62c79d80e9b4b8c   36      M            Town    Basic Membership   \n",
       "19766  b2d753fab1593d08   39      F            City     Gold Membership   \n",
       "\n",
       "      joining_date joined_through_referral     preferred_offer_types  \\\n",
       "28891   2017-02-04                      No  Credit/Debit Card Offers   \n",
       "30508   2016-03-17                     NaN  Credit/Debit Card Offers   \n",
       "33795   2017-03-11                      No            Without Offers   \n",
       "26186   2015-10-19                      No            Without Offers   \n",
       "19766   2017-12-12                     Yes     Gift Vouchers/Coupons   \n",
       "\n",
       "      medium_of_operation internet_option  ... days_since_last_login  \\\n",
       "28891          Smartphone     Mobile_Data  ...                    16   \n",
       "30508                 NaN     Mobile_Data  ...                     5   \n",
       "33795             Desktop     Mobile_Data  ...                     5   \n",
       "26186                 NaN     Mobile_Data  ...                    11   \n",
       "19766                 NaN     Mobile_Data  ...                     9   \n",
       "\n",
       "       avg_time_spent  avg_transaction_value  avg_frequency_login_days  \\\n",
       "28891      233.530000                8828.83                      22.0   \n",
       "30508      462.400000                1308.83                       8.0   \n",
       "33795     1021.597764               47305.90                       0.0   \n",
       "26186      129.620000                3709.77                      28.0   \n",
       "19766     1772.747383               22407.75                       0.0   \n",
       "\n",
       "       points_in_wallet  used_special_discount offer_application_preference  \\\n",
       "28891        518.310000                    Yes                           No   \n",
       "30508        728.720000                     No                          Yes   \n",
       "33795        245.374603                     No                          Yes   \n",
       "26186        300.619849                    Yes                           No   \n",
       "19766          0.000000                    Yes                           No   \n",
       "\n",
       "      past_complaint          complaint_status              feedback  \n",
       "28891             No            Not Applicable          Too many ads  \n",
       "30508             No            Not Applicable          Poor Website  \n",
       "33795             No            Not Applicable   No reason specified  \n",
       "26186             No            Not Applicable  Poor Product Quality  \n",
       "19766            Yes  No Information Available      Reasonable Price  \n",
       "\n",
       "[5 rows x 21 columns]"
      ]
     },
     "execution_count": 3,
     "metadata": {},
     "output_type": "execute_result"
    }
   ],
   "source": [
    "\n",
    "data = pd.read_csv('churn.csv')\n",
    "df_inf = data.sample(n = 5)\n",
    "df_inf = df_inf.drop(['churn_risk_score'], axis=1)\n",
    "df_inf"
   ]
  },
  {
   "cell_type": "code",
   "execution_count": 4,
   "metadata": {},
   "outputs": [],
   "source": [
    "data_pipeline = final_pipeline.transform(df_inf)"
   ]
  },
  {
   "cell_type": "code",
   "execution_count": 5,
   "metadata": {},
   "outputs": [
    {
     "name": "stdout",
     "output_type": "stream",
     "text": [
      "1/1 [==============================] - 1s 935ms/step\n"
     ]
    }
   ],
   "source": [
    "y_pred_inf = model_ann.predict(data_pipeline)"
   ]
  },
  {
   "cell_type": "code",
   "execution_count": 6,
   "metadata": {},
   "outputs": [
    {
     "data": {
      "text/plain": [
       "array([[9.6863103e-01],\n",
       "       [2.2106358e-01],\n",
       "       [9.2700458e-01],\n",
       "       [9.0581787e-01],\n",
       "       [6.1255135e-04]], dtype=float32)"
      ]
     },
     "execution_count": 6,
     "metadata": {},
     "output_type": "execute_result"
    }
   ],
   "source": [
    "y_pred_inf"
   ]
  },
  {
   "cell_type": "code",
   "execution_count": 7,
   "metadata": {},
   "outputs": [],
   "source": [
    "y_pred_inf = np.where(y_pred_inf >=0.5, 1, 0)"
   ]
  },
  {
   "cell_type": "code",
   "execution_count": 8,
   "metadata": {},
   "outputs": [
    {
     "data": {
      "text/plain": [
       "array([[1],\n",
       "       [0],\n",
       "       [1],\n",
       "       [1],\n",
       "       [0]])"
      ]
     },
     "execution_count": 8,
     "metadata": {},
     "output_type": "execute_result"
    }
   ],
   "source": [
    "y_pred_inf"
   ]
  }
 ],
 "metadata": {
  "kernelspec": {
   "display_name": "base",
   "language": "python",
   "name": "python3"
  },
  "language_info": {
   "codemirror_mode": {
    "name": "ipython",
    "version": 3
   },
   "file_extension": ".py",
   "mimetype": "text/x-python",
   "name": "python",
   "nbconvert_exporter": "python",
   "pygments_lexer": "ipython3",
   "version": "3.10.9"
  },
  "orig_nbformat": 4
 },
 "nbformat": 4,
 "nbformat_minor": 2
}
